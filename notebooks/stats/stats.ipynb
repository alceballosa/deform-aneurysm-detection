{
 "cells": [
  {
   "cell_type": "markdown",
   "metadata": {},
   "source": [
    "a"
   ]
  },
  {
   "cell_type": "code",
   "execution_count": 7,
   "metadata": {},
   "outputs": [
    {
     "ename": "NameError",
     "evalue": "name 'csv' is not defined",
     "output_type": "error",
     "traceback": [
      "\u001b[0;31m---------------------------------------------------------------------------\u001b[0m",
      "\u001b[0;31mNameError\u001b[0m                                 Traceback (most recent call last)",
      "Cell \u001b[0;32mIn[7], line 11\u001b[0m\n\u001b[1;32m      9\u001b[0m thr_conv \u001b[38;5;241m=\u001b[39m \u001b[38;5;241m0.7919299\u001b[39m\n\u001b[1;32m     10\u001b[0m thr_deform \u001b[38;5;241m=\u001b[39m \u001b[38;5;241m0.78260082\u001b[39m\n\u001b[0;32m---> 11\u001b[0m df_deform \u001b[38;5;241m=\u001b[39m \u001b[43mcsv\u001b[49m\u001b[38;5;241m.\u001b[39mread_csv(file_deform)\n\u001b[1;32m     12\u001b[0m df_deform \u001b[38;5;241m=\u001b[39m df_deform[df_deform[\u001b[38;5;124m\"\u001b[39m\u001b[38;5;124mprobability\u001b[39m\u001b[38;5;124m\"\u001b[39m] \u001b[38;5;241m>\u001b[39m thr_deform]\n\u001b[1;32m     13\u001b[0m df_conv \u001b[38;5;241m=\u001b[39m csv\u001b[38;5;241m.\u001b[39mread_csv(file_conv)\n",
      "\u001b[0;31mNameError\u001b[0m: name 'csv' is not defined"
     ]
    }
   ],
   "source": [
    "from pathlib import Path\n",
    "import pandas as pd\n",
    "import matplotlib.pyplot as plt\n",
    "import seaborn as sns\n",
    "\n",
    "file_deform = \"/home/ceballosarroyo.a/workspace/medical/cta-det2/outputs/deform_decoder_only/inference_final/predict.csv\"\n",
    "file_conv = \"/home/ceballosarroyo.a/workspace/medical/cta-det2/outputs/dense_bn_64_infer/inference_hieu/predict.csv\"\n",
    "\n",
    "thr_conv = 0.7919299\n",
    "thr_deform = 0.78260082\n",
    "df_deform = csv.read_csv(file_deform)\n",
    "df_deform = df_deform[df_deform[\"probability\"] > thr_deform]\n",
    "df_conv = csv.read_csv(file_conv)\n",
    "df_conv = df_conv[df_conv[\"probability\"] > thr_conv]"
   ]
  },
  {
   "cell_type": "code",
   "execution_count": 11,
   "metadata": {},
   "outputs": [
    {
     "data": {
      "text/plain": [
       "(169, 181)"
      ]
     },
     "execution_count": 11,
     "metadata": {},
     "output_type": "execute_result"
    }
   ],
   "source": [
    "len(df_deform), len(df_conv)"
   ]
  },
  {
   "cell_type": "code",
   "execution_count": 10,
   "metadata": {},
   "outputs": [
    {
     "name": "stdout",
     "output_type": "stream",
     "text": [
      "Deformable means\n",
      "d    13.860722\n",
      "h    16.032110\n",
      "w    15.944431\n",
      "dtype: float64\n",
      "\n",
      "Deformable Stdevs\n",
      "d    4.636095\n",
      "h    4.751003\n",
      "w    4.354259\n",
      "dtype: float64\n",
      "\n",
      "----------------\n",
      "\n",
      "Conv means\n",
      "d    12.837545\n",
      "h    15.380343\n",
      "w    15.433194\n",
      "dtype: float64\n",
      "\n",
      "Conv Stdevs\n",
      "d    5.073795\n",
      "h    6.077841\n",
      "w    5.454137\n",
      "dtype: float64\n"
     ]
    }
   ],
   "source": [
    "columns_mean = [\"d\", \"h\", \"w\"]\n",
    "columns_std = [\"d\", \"h\", \"w\"]\n",
    "\n",
    "df_deform_mean = df_deform[columns_mean].mean()\n",
    "df_deform_std = df_deform[columns_std].std()\n",
    "\n",
    "df_conv_mean = df_conv[columns_mean].mean()\n",
    "df_conv_std = df_conv[columns_std].std()\n",
    "\n",
    "print(\"Deformable means\")\n",
    "print(df_deform_mean)\n",
    "print(\"\\nDeformable Stdevs\")\n",
    "print(df_deform_std)\n",
    "print(\"\\n----------------\\n\")\n",
    "print(\"Conv means\")\n",
    "print(df_conv_mean)\n",
    "print(\"\\nConv Stdevs\")\n",
    "print(df_conv_std)"
   ]
  },
  {
   "cell_type": "code",
   "execution_count": 4,
   "metadata": {},
   "outputs": [
    {
     "data": {
      "text/plain": [
       "Index(['seriesuid', 'probability', 'coordZ', 'coordY', 'coordX', 'd', 'h',\n",
       "       'w'],\n",
       "      dtype='object')"
      ]
     },
     "execution_count": 4,
     "metadata": {},
     "output_type": "execute_result"
    }
   ],
   "source": [
    "df_deform.columns"
   ]
  },
  {
   "cell_type": "code",
   "execution_count": null,
   "metadata": {},
   "outputs": [],
   "source": []
  },
  {
   "cell_type": "markdown",
   "metadata": {},
   "source": [
    "# Size stats"
   ]
  },
  {
   "cell_type": "code",
   "execution_count": 18,
   "metadata": {},
   "outputs": [],
   "source": [
    "path_base = Path(\"../../labels\")\n",
    "\n",
    "df_hospital = pd.read_csv(path_base / \"gt/hospital_crop_0.4.csv\")\n",
    "df_internal_test = pd.read_csv(path_base / \"gt/internal_test_crop_0.4.csv\")\n",
    "\n",
    "df_internal_train = pd.read_csv(path_base / \"gt/internal_train_crop_0.4.csv\")\n",
    "df_external = pd.read_csv(path_base / \"gt/external_crop_0.4.csv\")"
   ]
  },
  {
   "cell_type": "code",
   "execution_count": 19,
   "metadata": {},
   "outputs": [],
   "source": [
    "hospital_dims = df_hospital[[\"w\", \"h\", \"d\"]].values\n",
    "internal_test_dims = df_internal_test[[\"w\", \"h\", \"d\"]].values\n",
    "external_dims = df_external[[\"w\", \"h\", \"d\"]].values\n",
    "internal_train_dims = df_internal_train[[\"w\", \"h\", \"d\"]].values"
   ]
  },
  {
   "cell_type": "code",
   "execution_count": null,
   "metadata": {},
   "outputs": [],
   "source": []
  },
  {
   "cell_type": "code",
   "execution_count": 20,
   "metadata": {},
   "outputs": [
    {
     "data": {
      "text/plain": [
       "Text(0.5, 0, \"Aneurysm 'radius' in mm\")"
      ]
     },
     "execution_count": 20,
     "metadata": {},
     "output_type": "execute_result"
    },
    {
     "data": {
      "image/png": "[encoded data removed]",
      "text/plain": [
       "<Figure size 640x480 with 1 Axes>"
      ]
     },
     "metadata": {},
     "output_type": "display_data"
    }
   ],
   "source": [
    "max_axis_hospital = hospital_dims.max(axis=1) / 2 * 0.4\n",
    "max_axis_internal_test = internal_test_dims.max(axis=1) / 2 * 0.4\n",
    "max_axis_external = external_dims.max(axis=1) / 2 * 0.4\n",
    "max_axis_internal_train = internal_train_dims.max(axis=1) / 2 * 0.4\n",
    "\n",
    "# plot all as histograms\n",
    "#\n",
    "sns.histplot(max_axis_hospital, bins=20, color=\"blue\", alpha=1, label=\"Hospital\")\n",
    "sns.histplot(\n",
    "    max_axis_internal_test, bins=20, color=\"red\", alpha=0.5, label=\"Internal Test\"\n",
    ")\n",
    "sns.histplot(max_axis_external, bins=20, color=\"green\", alpha=0.5, label=\"External\")\n",
    "\n",
    "plt.legend()\n",
    "\n",
    "plt.xlabel(\"Aneurysm 'radius' in mm\")"
   ]
  },
  {
   "cell_type": "code",
   "execution_count": 21,
   "metadata": {},
   "outputs": [
    {
     "data": {
      "text/plain": [
       "<Axes: ylabel='Count'>"
      ]
     },
     "execution_count": 21,
     "metadata": {},
     "output_type": "execute_result"
    },
    {
     "data": {
      "image/png": "[encoded data removed]",
      "text/plain": [
       "<Figure size 640x480 with 1 Axes>"
      ]
     },
     "metadata": {},
     "output_type": "display_data"
    }
   ],
   "source": []
  },
  {
   "cell_type": "code",
   "execution_count": 26,
   "metadata": {},
   "outputs": [
    {
     "data": {
      "text/plain": [
       "(0.0, 29.0)"
      ]
     },
     "execution_count": 26,
     "metadata": {},
     "output_type": "execute_result"
    },
    {
     "data": {
      "image/png": "[encoded data removed]",
      "text/plain": [
       "<Figure size 640x480 with 1 Axes>"
      ]
     },
     "metadata": {},
     "output_type": "display_data"
    }
   ],
   "source": [
    "# plot all histograms but normalized\n",
    "\n",
    "sns.histplot(\n",
    "    max_axis_hospital, bins=20, color=\"blue\", alpha=1, label=\"Hospital\", stat=\"density\"\n",
    ")\n",
    "sns.histplot(\n",
    "    max_axis_internal_test,\n",
    "    bins=20,\n",
    "    color=\"red\",\n",
    "    alpha=0.5,\n",
    "    label=\"Internal Test\",\n",
    "    stat=\"density\",\n",
    ")\n",
    "sns.histplot(\n",
    "    max_axis_external,\n",
    "    bins=20,\n",
    "    color=\"green\",\n",
    "    alpha=0.5,\n",
    "    label=\"External\",\n",
    "    stat=\"density\",\n",
    ")\n",
    "\n",
    "sns.histplot(\n",
    "    max_axis_internal_train,\n",
    "    bins=20,\n",
    "    color=\"yellow\",\n",
    "    alpha=0.5,\n",
    "    label=\"Internal Train\",\n",
    "    stat=\"density\",\n",
    ")\n",
    "\n",
    "plt.legend()\n",
    "\n",
    "plt.xlabel(\"Aneurysm 'radius' in mm\")\n",
    "plt.xlim(0, 29)"
   ]
  },
  {
   "cell_type": "code",
   "execution_count": null,
   "metadata": {},
   "outputs": [],
   "source": []
  }
 ],
 "metadata": {
  "kernelspec": {
   "display_name": "cta",
   "language": "python",
   "name": "python3"
  },
  "language_info": {
   "codemirror_mode": {
    "name": "ipython",
    "version": 3
   },
   "file_extension": ".py",
   "mimetype": "text/x-python",
   "name": "python",
   "nbconvert_exporter": "python",
   "pygments_lexer": "ipython3",
   "version": "3.9.18"
  }
 },
 "nbformat": 4,
 "nbformat_minor": 2
}
