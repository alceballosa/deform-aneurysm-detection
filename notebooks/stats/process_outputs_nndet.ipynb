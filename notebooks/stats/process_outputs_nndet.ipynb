{
 "cells": [
  {
   "cell_type": "code",
   "execution_count": 5,
   "metadata": {},
   "outputs": [],
   "source": [
    "from pathlib import Path\n",
    "import pandas as pd\n",
    "from skimage import measure\n",
    "import pickle\n",
    "import json\n",
    "from skimage import measure\n",
    "import numpy as np"
   ]
  },
  {
   "cell_type": "code",
   "execution_count": 6,
   "metadata": {},
   "outputs": [],
   "source": [
    "path_dict_external = (\n",
    "    \"/home/ceballosarroyo.a/workspace/medical/cta-det2/notebooks/stats/maps_nnet.json\"\n",
    ")\n",
    "\n",
    "with open(path_dict_external, \"r\") as file:\n",
    "    dict_external = json.load(file)"
   ]
  },
  {
   "cell_type": "code",
   "execution_count": 3,
   "metadata": {},
   "outputs": [],
   "source": [
    "path_results_internal_test = Path(\n",
    "    \"/home/ceballosarroyo.a/workspace/medical/cta-det2/outputs/.nndet_crop_PRIV/inference_nndet\"\n",
    ")\n",
    "files = list(path_results_internal_test.glob(\"*.pkl\"))\n",
    "columns = [\"seriesuid\", \"probability\", \"coordZ\", \"coordY\", \"coordX\", \"d\", \"h\", \"w\"]\n",
    "rows = []\n",
    "for i, files in enumerate(files):\n",
    "    name_nndet = files.name\n",
    "    name_orig = name_nndet.replace(\"case\", \"\").replace(\"_boxes.pkl\", \"\")\n",
    "    name_orig = str(int(name_orig)).zfill(5)\n",
    "    name_orig = f\"CA_{name_orig}_0000.nii.gz\"\n",
    "\n",
    "    # read pickle\n",
    "    with open(files, \"rb\") as f:\n",
    "        data = pickle.load(f)\n",
    "    boxes = data[\"pred_boxes\"]\n",
    "    scores = data[\"pred_scores\"]\n",
    "    spacing = data[\"itk_spacing\"]\n",
    "\n",
    "    for j, box in enumerate(boxes):\n",
    "        zmin, ymin, zmax, ymax, xmin, xmax = box\n",
    "        d = (zmax - zmin) * 1  # * spacing[0]\n",
    "        h = (ymax - ymin) * 1  # * spacing[1]\n",
    "        w = (xmax - xmin) * 1  # * spacing[2]\n",
    "        coordZ = (zmax + zmin) / 2\n",
    "        coordY = (ymax + ymin) / 2\n",
    "        coordX = (xmax + xmin) / 2\n",
    "        rows.append([name_orig, scores[j], coordZ, coordY, coordX, d, h, w])"
   ]
  },
  {
   "cell_type": "code",
   "execution_count": 4,
   "metadata": {},
   "outputs": [],
   "source": [
    "path_save = (\n",
    "    \"~/workspace/medical/cta-det2/outputs/.nndet_crop_PRIV/inference_nndet/predict.csv\"\n",
    ")\n",
    "df = pd.DataFrame(rows, columns=columns)\n",
    "df.to_csv(path_save, index=False)"
   ]
  },
  {
   "cell_type": "code",
   "execution_count": 46,
   "metadata": {},
   "outputs": [],
   "source": [
    "reverse_dict = {v: k for k, v in dict_external.items()}"
   ]
  },
  {
   "cell_type": "code",
   "execution_count": 47,
   "metadata": {},
   "outputs": [],
   "source": [
    "path_results_internal_test = Path(\n",
    "    \"/work/vig/Datasets/aneurysm/an_nndet_preds/test_predictions_ext\"\n",
    ")\n",
    "files = list(path_results_internal_test.glob(\"*.pkl\"))\n",
    "columns = [\"seriesuid\", \"probability\", \"coordZ\", \"coordY\", \"coordX\", \"d\", \"h\", \"w\"]\n",
    "rows = []\n",
    "for i, files in enumerate(files):\n",
    "    name_nndet = files.name\n",
    "    name_orig = reverse_dict[name_nndet.replace(\"_boxes.pkl\", \"\") + \".nii.gz\"]\n",
    "    # read pickle\n",
    "    with open(files, \"rb\") as f:\n",
    "        data = pickle.load(f)\n",
    "    boxes = data[\"pred_boxes\"]\n",
    "    scores = data[\"pred_scores\"]\n",
    "    spacing = data[\"itk_spacing\"]\n",
    "\n",
    "    for j, box in enumerate(boxes):\n",
    "        zmin, ymin, zmax, ymax, xmin, xmax = box\n",
    "        d = (zmax - zmin) * 1  # * spacing[0]\n",
    "        h = (ymax - ymin) * 1  # * spacing[1]\n",
    "        w = (xmax - xmin) * 1  # * spacing[2]\n",
    "        coordZ = (zmax + zmin) / 2\n",
    "        coordY = (ymax + ymin) / 2\n",
    "        coordX = (xmax + xmin) / 2\n",
    "        rows.append([name_orig, scores[j], coordZ, coordY, coordX, d, h, w])"
   ]
  },
  {
   "cell_type": "code",
   "execution_count": 48,
   "metadata": {},
   "outputs": [],
   "source": [
    "path_save = (\n",
    "    \"~/workspace/medical/cta-det2/outputs/.nndet_crop_EXT/inference_nndet/predict.csv\"\n",
    ")\n",
    "df = pd.DataFrame(rows, columns=columns)\n",
    "df.to_csv(path_save, index=False)"
   ]
  },
  {
   "cell_type": "code",
   "execution_count": null,
   "metadata": {},
   "outputs": [],
   "source": []
  },
  {
   "cell_type": "code",
   "execution_count": 2,
   "metadata": {},
   "outputs": [],
   "source": [
    "from pathlib import Path\n",
    "import pandas as pd\n",
    "from skimage import measure\n",
    "import pickle\n",
    "import json\n",
    "import numpy as np\n",
    "import SimpleITK as sitk\n",
    "import scipy.ndimage as ndimage\n",
    "np.set_printoptions(precision=4, suppress=True)\n",
    "\n",
    "metadata_path = \"/home/ceballosarroyo.a/workspace/medical/cta-det2/labels/metadata/external_crop_meta.json\"\n",
    "with open(metadata_path, \"r\") as file:\n",
    "    metadata = json.load(file)"
   ]
  },
  {
   "cell_type": "code",
   "execution_count": 3,
   "metadata": {},
   "outputs": [
    {
     "data": {
      "text/plain": [
       "152"
      ]
     },
     "execution_count": 3,
     "metadata": {},
     "output_type": "execute_result"
    }
   ],
   "source": [
    "path_labels_test_dlca = Path(\"/work/vig/Datasets/aneurysm/data_dlca/test\")\n",
    "files = list(path_labels_test_dlca.glob(\"*label.nii.gz\"))\n",
    "len(files)"
   ]
  },
  {
   "cell_type": "code",
   "execution_count": 11,
   "metadata": {},
   "outputs": [
    {
     "name": "stderr",
     "output_type": "stream",
     "text": [
      "/tmp/ipykernel_87779/867892137.py:10: DeprecationWarning: Please import `label` from the `scipy.ndimage` namespace; the `scipy.ndimage.measurements` namespace is deprecated and will be removed in SciPy 2.0.0.\n",
      "  label_img, num_features = ndimage.measurements.label(\n"
     ]
    }
   ],
   "source": [
    "import SimpleITK as sitk\n",
    "\n",
    "columns = [\"seriesuid\", \"coordX\", \"coordY\", \"coordZ\", \"d\", \"h\", \"w\", \"volume\"]\n",
    "rows = []\n",
    "for file in files:\n",
    "    name = file.name.replace(\"_label.nii.gz\", \"\")\n",
    "\n",
    "    img = sitk.ReadImage(str(file))\n",
    "    label_img = sitk.GetArrayFromImage(img)\n",
    "    label_img, num_features = ndimage.measurements.label(\n",
    "        label_img, structure=ndimage.generate_binary_structure(3, 3)\n",
    "    )\n",
    "\n",
    "    props = measure.regionprops(label_img)\n",
    "    for prop in props:\n",
    "        coordZ, coordY, coordX = prop.centroid\n",
    "        bbox = prop.bbox\n",
    "        center_z = (bbox[3] + bbox[0]) / 2\n",
    "        center_y = (bbox[4] + bbox[1]) / 2\n",
    "        center_x = (bbox[5] + bbox[2]) / 2\n",
    "        d = bbox[3] - bbox[0]\n",
    "        h = bbox[4] - bbox[1]\n",
    "        w = bbox[5] - bbox[2]\n",
    "        volume = prop.area\n",
    "        rows.append([name, center_x, center_y, center_z, d, h, w, volume])"
   ]
  },
  {
   "cell_type": "code",
   "execution_count": 8,
   "metadata": {},
   "outputs": [
    {
     "data": {
      "text/plain": [
       "152"
      ]
     },
     "execution_count": 8,
     "metadata": {},
     "output_type": "execute_result"
    }
   ],
   "source": [
    "len(files)"
   ]
  },
  {
   "cell_type": "code",
   "execution_count": 12,
   "metadata": {},
   "outputs": [],
   "source": [
    "df_labels_test_dlca = pd.DataFrame(rows, columns=columns)\n",
    "df_labels_test_dlca.to_csv(\n",
    "    \"/home/ceballosarroyo.a/workspace/medical/cta-det2/labels/test_dlca.csv\",\n",
    "    index=False,\n",
    ")"
   ]
  },
  {
   "cell_type": "code",
   "execution_count": 7,
   "metadata": {},
   "outputs": [
    {
     "name": "stdout",
     "output_type": "stream",
     "text": [
      "Ts0006.nii.gz\n",
      "Ts0007.nii.gz\n"
     ]
    }
   ],
   "source": [
    "def sigmoid_np(x):\n",
    "    return 1 / (1 + np.exp(-x))\n",
    "\n",
    "\n",
    "save_image = True\n",
    "\n",
    "path_dlca_int = Path(\"/home/ceballosarroyo.a/workspace/medical/DLCA/test\")\n",
    "columns = [\"seriesuid\", \"probability\", \"coordX\", \"coordY\", \"coordZ\", \"d\", \"h\", \"w\"]\n",
    "rows = []\n",
    "files = list(path_dlca_int.glob(\"*.npy\"))\n",
    "for file in files[5:7]:\n",
    "\n",
    "    name = file.name.replace(\"_pbb.npy\", \"\")\n",
    "    print(name)\n",
    "\n",
    "    np_pred = np.load(file)\n",
    "    for pred in np_pred:\n",
    "\n",
    "        logit, cy, cx, cz, side = pred\n",
    "        logit, cx, cy, cz, side = pred\n",
    "        logit, cz, cy, cx, side = pred\n",
    "\n",
    "        logit = sigmoid_np(logit)\n",
    "\n",
    "        d = h = w = side * 0.5  # * spacing[0]\n",
    "\n",
    "        rows.append([name, logit, cx, cy, cz, d, h, w])\n",
    "    # new image header from orig\n",
    "\n",
    "\n",
    "path_save = \"/home/ceballosarroyo.a/workspace/medical/cta-det2/outputs/.dlca_crop/inference_dlca/predict.csv\"\n",
    "# delete file\n",
    "\n",
    "\n",
    "df = pd.DataFrame(rows, columns=columns)\n",
    "df.to_csv(path_save, index=False)"
   ]
  },
  {
   "cell_type": "code",
   "execution_count": 37,
   "metadata": {},
   "outputs": [
    {
     "name": "stdout",
     "output_type": "stream",
     "text": [
      "Running iou_thr: 0.05 at dlca\n",
      "parsing ground truth ...\n",
      "parsing predictions ...\n",
      "{'aneurysm': 126}\n",
      "/home/ceballosarroyo.a/workspace/medical/cta-det2/outputs/.dlca_crop/iou0.1_froc_dlca_crop\n",
      "computing froc ...\n",
      "  0%|                                                     | 0/1 [00:00<?, ?it/s][0.95359164 0.88388348 0.75622529 0.60195476 0.49014601 0.30576578]\n",
      "100%|█████████████████████████████████████████████| 1/1 [00:00<00:00,  3.00it/s]\n",
      "Per-finding bbox FROC at iou 0.05 \n",
      "| Finding   | Se@FPpI=0.5   | Se@FPpI=1.0   | Se@FPpI=2.0   | Se@FPpI=4.0   | Se@FPpI=8.0   | Se@FPpI=1000.0   |\n",
      "|:----------|:--------------|:--------------|:--------------|:--------------|:--------------|:-----------------|\n",
      "| aneurysm  | 0.000         | 0.000         | 0.000         | 0.000         | 0.000         | 0.000            |\n",
      "| Mean      | 0.000         | 0.000         | 0.000         | 0.000         | 0.000         | 0.000            |\n",
      "\n",
      "\n"
     ]
    }
   ],
   "source": [
    "!source activate cta && cd /home/ceballosarroyo.a/workspace/medical/cta-det2/ && python src/froc.py .dlca_crop"
   ]
  },
  {
   "cell_type": "code",
   "execution_count": null,
   "metadata": {},
   "outputs": [],
   "source": []
  }
 ],
 "metadata": {
  "kernelspec": {
   "display_name": "nndet",
   "language": "python",
   "name": "python3"
  },
  "language_info": {
   "codemirror_mode": {
    "name": "ipython",
    "version": 3
   },
   "file_extension": ".py",
   "mimetype": "text/x-python",
   "name": "python",
   "nbconvert_exporter": "python",
   "pygments_lexer": "ipython3",
   "version": "3.9.18"
  }
 },
 "nbformat": 4,
 "nbformat_minor": 2
}
