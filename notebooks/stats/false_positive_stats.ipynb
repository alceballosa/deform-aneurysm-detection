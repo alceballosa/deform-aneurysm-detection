{
    "cells": [
        {
            "cell_type": "code",
            "execution_count": 27,
            "metadata": {},
            "outputs": [],
            "source": [
                "import pandas as pd\n",
                "import matplotlib.pyplot as plt\n",
                "import numpy as np\n",
                "from pathlib import Path\n",
                "import SimpleITK as sitk\n",
                "from tqdm import tqdm"
            ]
        },
        {
            "cell_type": "code",
            "execution_count": 28,
            "metadata": {},
            "outputs": [],
            "source": [
                "def get_diameter(row):\n",
                "    # return (row[\"w\"]+row[\"h\"]+row[\"d\"])/3\n",
                "    return min(row[\"w\"], row[\"h\"], row[\"d\"])"
            ]
        },
        {
            "cell_type": "markdown",
            "metadata": {},
            "source": [
                "# Stats on false negatives "
            ]
        },
        {
            "cell_type": "code",
            "execution_count": 29,
            "metadata": {},
            "outputs": [],
            "source": [
                "path_vessel_seg = Path(\n",
                "    \"/home/ceballosarroyo.a/workspace/datasets/aneurysm/internal_test_0.4_crop_vessel_v2\"\n",
                ")\n",
                "path_vessel_seg_edt = Path(\n",
                "    \"/home/ceballosarroyo.a/workspace/datasets/aneurysm/internal_test_0.4_crop_vessel_edt_v2\"\n",
                ")\n",
                "\n",
                "\n",
                "files_vessel_seg = list(path_vessel_seg.glob(\"*.nii.gz\"))\n",
                "files_vessel_seg_edt = list(path_vessel_seg_edt.glob(\"*.nii.gz\"))"
            ]
        },
        {
            "cell_type": "code",
            "execution_count": 30,
            "metadata": {},
            "outputs": [],
            "source": [
                "path_preds = \"/home/ceballosarroyo.a/workspace/medical/cta-det2/outputs/adeform_decoder_only_non_rec_crop_vessel_pe_gpe_v2/inference_56k/predict.csv\"\n",
                "df_preds = pd.read_csv(path_preds)"
            ]
        },
        {
            "cell_type": "code",
            "execution_count": 31,
            "metadata": {},
            "outputs": [
                {
                    "data": {
                        "text/html": [
                            "<div>\n",
                            "<style scoped>\n",
                            "    .dataframe tbody tr th:only-of-type {\n",
                            "        vertical-align: middle;\n",
                            "    }\n",
                            "\n",
                            "    .dataframe tbody tr th {\n",
                            "        vertical-align: top;\n",
                            "    }\n",
                            "\n",
                            "    .dataframe thead th {\n",
                            "        text-align: right;\n",
                            "    }\n",
                            "</style>\n",
                            "<table border=\"1\" class=\"dataframe\">\n",
                            "  <thead>\n",
                            "    <tr style=\"text-align: right;\">\n",
                            "      <th></th>\n",
                            "      <th>seriesuid</th>\n",
                            "      <th>probability</th>\n",
                            "      <th>coordZ</th>\n",
                            "      <th>coordY</th>\n",
                            "      <th>coordX</th>\n",
                            "      <th>d</th>\n",
                            "      <th>h</th>\n",
                            "      <th>w</th>\n",
                            "      <th>intersection_art</th>\n",
                            "      <th>intersection_vein</th>\n",
                            "      <th>distance</th>\n",
                            "    </tr>\n",
                            "  </thead>\n",
                            "  <tbody>\n",
                            "    <tr>\n",
                            "      <th>0</th>\n",
                            "      <td>Ts0001.nii.gz</td>\n",
                            "      <td>0.863451</td>\n",
                            "      <td>194.49065</td>\n",
                            "      <td>389.67150</td>\n",
                            "      <td>413.88654</td>\n",
                            "      <td>13.835364</td>\n",
                            "      <td>15.982091</td>\n",
                            "      <td>15.982846</td>\n",
                            "      <td>0.56165</td>\n",
                            "      <td>0.0</td>\n",
                            "      <td>0.500912</td>\n",
                            "    </tr>\n",
                            "    <tr>\n",
                            "      <th>1</th>\n",
                            "      <td>Ts0001.nii.gz</td>\n",
                            "      <td>0.746006</td>\n",
                            "      <td>133.32965</td>\n",
                            "      <td>416.58493</td>\n",
                            "      <td>578.43555</td>\n",
                            "      <td>11.540600</td>\n",
                            "      <td>13.419129</td>\n",
                            "      <td>13.588934</td>\n",
                            "      <td>NaN</td>\n",
                            "      <td>NaN</td>\n",
                            "      <td>NaN</td>\n",
                            "    </tr>\n",
                            "    <tr>\n",
                            "      <th>2</th>\n",
                            "      <td>Ts0001.nii.gz</td>\n",
                            "      <td>0.714957</td>\n",
                            "      <td>160.85077</td>\n",
                            "      <td>430.25240</td>\n",
                            "      <td>418.74075</td>\n",
                            "      <td>12.876307</td>\n",
                            "      <td>14.913800</td>\n",
                            "      <td>14.943136</td>\n",
                            "      <td>NaN</td>\n",
                            "      <td>NaN</td>\n",
                            "      <td>NaN</td>\n",
                            "    </tr>\n",
                            "    <tr>\n",
                            "      <th>3</th>\n",
                            "      <td>Ts0001.nii.gz</td>\n",
                            "      <td>0.655347</td>\n",
                            "      <td>183.01541</td>\n",
                            "      <td>380.73376</td>\n",
                            "      <td>423.84305</td>\n",
                            "      <td>13.536043</td>\n",
                            "      <td>16.478287</td>\n",
                            "      <td>16.227999</td>\n",
                            "      <td>NaN</td>\n",
                            "      <td>NaN</td>\n",
                            "      <td>NaN</td>\n",
                            "    </tr>\n",
                            "    <tr>\n",
                            "      <th>4</th>\n",
                            "      <td>Ts0001.nii.gz</td>\n",
                            "      <td>0.545710</td>\n",
                            "      <td>194.24483</td>\n",
                            "      <td>430.60240</td>\n",
                            "      <td>385.80518</td>\n",
                            "      <td>11.976373</td>\n",
                            "      <td>15.650705</td>\n",
                            "      <td>15.548584</td>\n",
                            "      <td>NaN</td>\n",
                            "      <td>NaN</td>\n",
                            "      <td>NaN</td>\n",
                            "    </tr>\n",
                            "  </tbody>\n",
                            "</table>\n",
                            "</div>"
                        ],
                        "text/plain": [
                            "       seriesuid  probability     coordZ     coordY     coordX          d  \\\n",
                            "0  Ts0001.nii.gz     0.863451  194.49065  389.67150  413.88654  13.835364   \n",
                            "1  Ts0001.nii.gz     0.746006  133.32965  416.58493  578.43555  11.540600   \n",
                            "2  Ts0001.nii.gz     0.714957  160.85077  430.25240  418.74075  12.876307   \n",
                            "3  Ts0001.nii.gz     0.655347  183.01541  380.73376  423.84305  13.536043   \n",
                            "4  Ts0001.nii.gz     0.545710  194.24483  430.60240  385.80518  11.976373   \n",
                            "\n",
                            "           h          w  intersection_art  intersection_vein  distance  \n",
                            "0  15.982091  15.982846           0.56165                0.0  0.500912  \n",
                            "1  13.419129  13.588934               NaN                NaN       NaN  \n",
                            "2  14.913800  14.943136               NaN                NaN       NaN  \n",
                            "3  16.478287  16.227999               NaN                NaN       NaN  \n",
                            "4  15.650705  15.548584               NaN                NaN       NaN  "
                        ]
                    },
                    "execution_count": 31,
                    "metadata": {},
                    "output_type": "execute_result"
                }
            ],
            "source": [
                "df_preds.head()"
            ]
        },
        {
            "cell_type": "code",
            "execution_count": 32,
            "metadata": {},
            "outputs": [
                {
                    "name": "stderr",
                    "output_type": "stream",
                    "text": [
                        "100%|██████████| 152/152 [31:27<00:00, 12.42s/it]\n"
                    ]
                }
            ],
            "source": [
                "intersections = []\n",
                "intersections_vein = []\n",
                "distances = []\n",
                "for case_name in tqdm(df_preds[\"seriesuid\"].unique()):\n",
                "\n",
                "    df_preds_case = df_preds[df_preds[\"seriesuid\"] == case_name]\n",
                "\n",
                "    header_seg = sitk.ReadImage(str(path_vessel_seg / f\"{case_name}\"))\n",
                "    header_edt = sitk.ReadImage(str(path_vessel_seg_edt / f\"{case_name}\"))\n",
                "    edt_array = sitk.GetArrayFromImage(header_edt)\n",
                "    seg_array = sitk.GetArrayFromImage(header_seg)\n",
                "    seg_array_vein = (seg_array == 2).astype(np.uint8)\n",
                "    seg_array_ves = (seg_array == 1).astype(np.uint8)\n",
                "    for _, row in df_preds_case.iterrows():\n",
                "        if row[\"probability\"] < 0.8:\n",
                "            intersections.append(None)\n",
                "            distances.append(None)\n",
                "            intersections_vein.append(None)\n",
                "            continue\n",
                "        pred_array = np.zeros_like(seg_array)\n",
                "        coordZ, coordY, coordX = (\n",
                "            int(row[\"coordZ\"]),\n",
                "            int(row[\"coordY\"]),\n",
                "            int(row[\"coordX\"]),\n",
                "        )\n",
                "        h, w, d = int(row[\"h\"]), int(row[\"w\"]), int(row[\"d\"])\n",
                "        pred_array[\n",
                "            max(0, int(coordZ - d // 2)) : min(\n",
                "                pred_array.shape[0], int(coordZ + d // 2)\n",
                "            ),\n",
                "            max(0, int(coordY - h // 2)) : min(\n",
                "                pred_array.shape[1], int(coordY + h // 2)\n",
                "            ),\n",
                "            max(0, int(coordX - w // 2)) : min(\n",
                "                pred_array.shape[2], int(coordX + w // 2)\n",
                "            ),\n",
                "        ] = 1\n",
                "        # get intersection over minimum\n",
                "        intersection = np.sum(pred_array * seg_array_ves)\n",
                "\n",
                "        minimum = np.sum(pred_array)\n",
                "        intersection_vein = np.sum(pred_array * seg_array_vein)\n",
                "        intersections_vein.append(intersection_vein / minimum)\n",
                "        avg_distance = edt_array[coordZ, coordY, coordX]\n",
                "        intersections.append(intersection / minimum)\n",
                "        distances.append(avg_distance)"
            ]
        },
        {
            "cell_type": "code",
            "execution_count": 33,
            "metadata": {},
            "outputs": [],
            "source": [
                "backup_vein = intersections_vein.copy()"
            ]
        },
        {
            "cell_type": "code",
            "execution_count": 18,
            "metadata": {},
            "outputs": [],
            "source": [
                "new_intersection_vein = []\n",
                "\n",
                "for i in range(len(intersections)):\n",
                "    if intersections[i] is None:\n",
                "        new_intersection_vein.append(None)\n",
                "    else:\n",
                "        # pop the first element from vein\n",
                "        new_intersection_vein.append(intersections_vein.pop(0))"
            ]
        },
        {
            "cell_type": "code",
            "execution_count": 34,
            "metadata": {},
            "outputs": [],
            "source": [
                "df_preds[\"intersection_art\"] = intersections\n",
                "df_preds[\"intersection_vein\"] = new_intersection_vein\n",
                "df_preds[\"distance\"] = distances\n",
                "\n",
                "df_preds.to_csv(\n",
                "    path_preds,\n",
                "    index=False,\n",
                ")"
            ]
        },
        {
            "cell_type": "code",
            "execution_count": 11,
            "metadata": {},
            "outputs": [
                {
                    "data": {
                        "text/plain": [
                            "1.0"
                        ]
                    },
                    "execution_count": 11,
                    "metadata": {},
                    "output_type": "execute_result"
                }
            ],
            "source": [
                "seg_array.max()"
            ]
        },
        {
            "cell_type": "code",
            "execution_count": null,
            "metadata": {},
            "outputs": [],
            "source": []
        },
        {
            "cell_type": "code",
            "execution_count": 47,
            "metadata": {},
            "outputs": [],
            "source": [
                "repo_root = Path(\"/home/ceballosarroyo.a/workspace/medical/cta-det2\")\n",
                "\n",
                "iou = '0.2'\n",
                "exp = 'deform_decoder_only_non_rec_BEST_cropinf'\n",
                "chkpt = \"final\"\n",
                "\n",
                "#exp = 'dense_bn_64_infer'\n",
                "#chkpt = 'hieu'\n",
                "\n",
                "path_test_annot = repo_root / \"labels/internal_test_crop_0.4.csv\"\n",
                "path_results = repo_root / f\"outputs/{exp}/iou{iou}_froc_{chkpt}/model_detections.csv\"\n",
                "\n"
            ]
        },
        {
            "cell_type": "code",
            "execution_count": 48,
            "metadata": {},
            "outputs": [
                {
                    "data": {
                        "text/plain": [
                            "Index(['seriesuid', 'coordX', 'coordY', 'coordZ', 'w', 'h', 'd', 'lesion'], dtype='object')"
                        ]
                    },
                    "execution_count": 48,
                    "metadata": {},
                    "output_type": "execute_result"
                }
            ],
            "source": [
                "df_annot = pd.read_csv(path_test_annot)\n",
                "df_results = pd.read_csv(path_results)\n",
                "\n",
                "df_annot.columns"
            ]
        },
        {
            "cell_type": "code",
            "execution_count": 49,
            "metadata": {},
            "outputs": [
                {
                    "data": {
                        "text/plain": [
                            "(w    6.681318\n",
                            " h    6.463972\n",
                            " d    5.676055\n",
                            " dtype: float64,\n",
                            " w     9.813750\n",
                            " h    10.290000\n",
                            " d    14.399989\n",
                            " dtype: float64)"
                        ]
                    },
                    "execution_count": 49,
                    "metadata": {},
                    "output_type": "execute_result"
                }
            ],
            "source": [
                "df_annot[\"detected\"] = df_results[\"detected\"]\n",
                "df_annot[\"diameter\"] = df_annot.apply(get_diameter, axis=1)\n",
                "df_annot_true = df_annot[df_annot[\"detected\"] == True]\n",
                "df_annot_false = df_annot[df_annot[\"detected\"] == False]\n",
                "df_annot_true[[\"w\",\"h\", \"d\"]].mean(), df_annot_false[[\"w\",\"h\", \"d\"]].mean()"
            ]
        },
        {
            "cell_type": "code",
            "execution_count": 52,
            "metadata": {},
            "outputs": [],
            "source": [
                "def diameter_wise_clf(diameter):\n",
                "    if diameter < 3:\n",
                "        return \"small\"\n",
                "    elif diameter >= 3 and diameter < 7:\n",
                "        return \"medium\"\n",
                "    else: \n",
                "        return \"large\"\n"
            ]
        },
        {
            "cell_type": "code",
            "execution_count": 53,
            "metadata": {},
            "outputs": [
                {
                    "data": {
                        "text/plain": [
                            "size\n",
                            "medium    81\n",
                            "large     24\n",
                            "small     16\n",
                            "Name: count, dtype: int64"
                        ]
                    },
                    "execution_count": 53,
                    "metadata": {},
                    "output_type": "execute_result"
                }
            ],
            "source": [
                "df_annot[\"size\"] = df_annot[\"diameter\"].apply(diameter_wise_clf)\n",
                "\n",
                "# count detections per size \n",
                "\n",
                "df_annot[df_annot[\"detected\"]==True][\"size\"].value_counts()"
            ]
        },
        {
            "cell_type": "code",
            "execution_count": 54,
            "metadata": {},
            "outputs": [
                {
                    "data": {
                        "text/plain": [
                            "size\n",
                            "medium    3\n",
                            "large     1\n",
                            "small     1\n",
                            "Name: count, dtype: int64"
                        ]
                    },
                    "execution_count": 54,
                    "metadata": {},
                    "output_type": "execute_result"
                }
            ],
            "source": [
                "df_annot[df_annot[\"detected\"]==False][\"size\"].value_counts()"
            ]
        },
        {
            "cell_type": "code",
            "execution_count": null,
            "metadata": {},
            "outputs": [],
            "source": []
        }
    ],
    "metadata": {
        "kernelspec": {
            "display_name": "cta",
            "language": "python",
            "name": "python3"
        },
        "language_info": {
            "codemirror_mode": {
                "name": "ipython",
                "version": 3
            },
            "file_extension": ".py",
            "mimetype": "text/x-python",
            "name": "python",
            "nbconvert_exporter": "python",
            "pygments_lexer": "ipython3",
            "version": "3.9.18"
        }
    },
    "nbformat": 4,
    "nbformat_minor": 2
}
