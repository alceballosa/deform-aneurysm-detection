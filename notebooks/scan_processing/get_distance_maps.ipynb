{
    "cells": [
        {
            "cell_type": "code",
            "execution_count": 1,
            "metadata": {},
            "outputs": [],
            "source": [
                "import edt\n",
                "import SimpleITK as sitk\n",
                "from glob import glob\n",
                "from pathlib import Path\n",
                "import json\n",
                "import pandas as pd\n",
                "import os\n",
                "import tqdm\n",
                "import numpy as np\n",
                "\n",
                "train_vessel_dir = \"/work/vig/Datasets/aneurysm/internal_train/crop_0.4_vessel\"\n",
                "\n",
                "test_vessel_dir = \"/work/vig/Datasets/aneurysm/internal_test/crop_0.4_vessel\"\n",
                "external_vessel_dir = \"/work/vig/Datasets/aneurysm/external/crop_0.4_vessel\"\n",
                "target_train_vessel_dir = (\n",
                "    \"/work/vig/Datasets/aneurysm/internal_train/crop_0.4_vessel_edt/\"\n",
                ")\n",
                "target_test_vessel_dir = (\n",
                "    \"/work/vig/Datasets/aneurysm/internal_test/crop_0.4_vessel_edt/\"\n",
                ")\n",
                "\n",
                "hospital_vessel_dir = \"/work/vig/Datasets/aneurysm/hospital/crop_0.4_vessel_v2\"\n",
                "target_hospital_dir = \"/work/vig/Datasets/aneurysm/hospital/crop_0.4_vessel_edt_v2/\"\n",
                "\n",
                "target_external_vessel_dir = \"/work/vig/Datasets/aneurysm/external/crop_0.4_vessel_edt\"\n",
                "\n",
                "train_im_files = sorted(list(glob(f\"{train_vessel_dir}/*\")))\n",
                "val_im_files = sorted(list(glob(f\"{test_vessel_dir}/*\")))\n",
                "external_im_files = sorted(list(glob(f\"{external_vessel_dir}/*\")))\n",
                "hospital_im_files = sorted(list(glob(f\"{hospital_vessel_dir}/*\")))"
            ]
        },
        {
            "cell_type": "code",
            "execution_count": 2,
            "metadata": {},
            "outputs": [
                {
                    "name": "stderr",
                    "output_type": "stream",
                    "text": [
                        "100%|██████████| 38/38 [1:17:28<00:00, 122.34s/it]\n"
                    ]
                }
            ],
            "source": [
                "file_paths = hospital_im_files\n",
                "save_dir = target_hospital_dir\n",
                "# create dir if not exists\n",
                "Path(save_dir).mkdir(parents=True, exist_ok=True)\n",
                "for file in tqdm.tqdm(file_paths):\n",
                "    scan_seriesuid = file.split(\"/\")[-1]\n",
                "    im_header = sitk.ReadImage(file)\n",
                "    im = sitk.GetArrayFromImage(im_header)\n",
                "    im = (im == 1).astype(np.uint8)\n",
                "    im_dist = edt.sdf(im, black_border=False, parallel=62)\n",
                "    im_dist_header = sitk.GetImageFromArray(im_dist)\n",
                "    im_dist_header.CopyInformation(im_header)\n",
                "    save_file_path = os.path.join(save_dir, scan_seriesuid)\n",
                "    sitk.WriteImage(im_dist_header, save_file_path)"
            ]
        },
        {
            "cell_type": "code",
            "execution_count": 5,
            "metadata": {},
            "outputs": [
                {
                    "name": "stderr",
                    "output_type": "stream",
                    "text": [
                        "100%|██████████| 152/152 [1:10:26<00:00, 27.81s/it]\n"
                    ]
                }
            ],
            "source": [
                "file_paths = val_im_files\n",
                "save_dir = target_test_vessel_dir\n",
                "\n",
                "for file in tqdm.tqdm(file_paths):\n",
                "    scan_seriesuid = file.split(\"/\")[-1]\n",
                "    im_header = sitk.ReadImage(file)\n",
                "    im = sitk.GetArrayFromImage(im_header)\n",
                "    im_dist = edt.sdf(im, black_border=False, parallel=22)\n",
                "    im_dist_header = sitk.GetImageFromArray(im_dist)\n",
                "    im_dist_header.CopyInformation(im_header)\n",
                "    save_file_path = os.path.join(save_dir, scan_seriesuid)\n",
                "    sitk.WriteImage(im_dist_header, save_file_path)"
            ]
        },
        {
            "cell_type": "code",
            "execution_count": 7,
            "metadata": {},
            "outputs": [],
            "source": [
                "im_header = sitk.ReadImage(file)\n",
                "im_dist = edt.sdf(im, black_border=False, parallel=22)\n",
                "\n",
                "im_dist_saved = sitk.ReadImage(save_file_path)\n",
                "im_dist_saved = sitk.GetArrayFromImage(im_dist_saved)"
            ]
        },
        {
            "cell_type": "code",
            "execution_count": 8,
            "metadata": {},
            "outputs": [
                {
                    "data": {
                        "text/plain": [
                            "((425, 507, 507), (425, 507, 507))"
                        ]
                    },
                    "execution_count": 8,
                    "metadata": {},
                    "output_type": "execute_result"
                }
            ],
            "source": [
                "im_dist.shape, im_dist_saved.shape"
            ]
        },
        {
            "cell_type": "code",
            "execution_count": 10,
            "metadata": {},
            "outputs": [
                {
                    "data": {
                        "text/plain": [
                            "0.0"
                        ]
                    },
                    "execution_count": 10,
                    "metadata": {},
                    "output_type": "execute_result"
                }
            ],
            "source": [
                "(im_dist - im_dist_saved).min()"
            ]
        },
        {
            "cell_type": "code",
            "execution_count": null,
            "metadata": {},
            "outputs": [],
            "source": [
                "header = sitk.ReadImage(\n",
                "    \"/work/vig/Datasets/aneurysm/internal_train/crop_0.4_vessel_edt/Tr0188.nii.gz\"\n",
                ")"
            ]
        },
        {
            "cell_type": "code",
            "execution_count": null,
            "metadata": {},
            "outputs": [],
            "source": []
        }
    ],
    "metadata": {
        "kernelspec": {
            "display_name": "cta",
            "language": "python",
            "name": "python3"
        },
        "language_info": {
            "codemirror_mode": {
                "name": "ipython",
                "version": 3
            },
            "file_extension": ".py",
            "mimetype": "text/x-python",
            "name": "python",
            "nbconvert_exporter": "python",
            "pygments_lexer": "ipython3",
            "version": "3.9.18"
        }
    },
    "nbformat": 4,
    "nbformat_minor": 2
}
