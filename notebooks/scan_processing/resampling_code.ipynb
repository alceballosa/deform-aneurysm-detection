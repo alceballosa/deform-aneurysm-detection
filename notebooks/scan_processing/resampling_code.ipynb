{
    "cells": [
        {
            "cell_type": "code",
            "execution_count": 1,
            "metadata": {},
            "outputs": [],
            "source": [
                "\"\"\"\n",
                "todo \n",
                "inspect spacing to choose a single best size\n",
                "resample data and label into this size\n",
                "\n",
                "extract bbox(center and size) from mask (refer to glia net for implmentation)\n",
                "\"\"\"\n",
                "import os\n",
                "from glob import glob\n",
                "import SimpleITK as sitk\n",
                "from tqdm import tqdm\n",
                "import numpy as np\n",
                "import matplotlib.pyplot as plt\n",
                "import pandas as pd\n",
                "def apply_window(img, min_hu=-1000, max_hu=200):\n",
                "    img = (img-min_hu)/(max_hu-min_hu)\n",
                "    img[img>1.] = 1.\n",
                "    img[img<0.] = 0.\n",
                "    return img\n",
                "def show(img):\n",
                "    plt.close()\n",
                "    plt.figure(figsize=(10,10))\n",
                "    plt.imshow(img, cmap='gray')\n",
                "    plt.show()"
            ]
        },
        {
            "cell_type": "code",
            "execution_count": 2,
            "metadata": {},
            "outputs": [
                {
                    "data": {
                        "text/plain": [
                            "(1186, 152, 1186, 152)"
                        ]
                    },
                    "execution_count": 2,
                    "metadata": {},
                    "output_type": "execute_result"
                }
            ],
            "source": [
                "train_im_dir = \"/work/vig/Datasets/aneurysm/internal_train/og_0.4\"\n",
                "test_im_dir = \"/work/vig/Datasets/aneurysm/internal_test\"\n",
                "train_mask_dir = \"/work/vig/Datasets/aneurysm/internal_label_train\"\n",
                "test_mask_dir = \"/work/vig/Datasets/aneurysm/internal_label_test\"\n",
                "\n",
                "train_im_files = sorted(list(glob(f\"{train_im_dir}/*\")))\n",
                "val_im_files = sorted(list(glob(f\"{test_im_dir}/*\")))\n",
                "train_mask_files = sorted(list(glob(f\"{train_mask_dir}/*\")))\n",
                "test_mask_files = sorted(list(glob(f\"{test_mask_dir}/*\")))\n",
                "len(train_im_files), len(val_im_files), len(train_mask_files), len(test_mask_files)"
            ]
        },
        {
            "cell_type": "code",
            "execution_count": 5,
            "metadata": {},
            "outputs": [
                {
                    "data": {
                        "text/plain": [
                            "('/work/vig/Datasets/aneurysm/internal_train/Tr0001.nii.gz',\n",
                            " '/work/vig/Datasets/aneurysm/internal_label_train/Tr0001.nii.gz')"
                        ]
                    },
                    "execution_count": 5,
                    "metadata": {},
                    "output_type": "execute_result"
                }
            ],
            "source": [
                "\n",
                "# image = sitk.ReadImage()\n",
                "train_im_files[0], train_mask_files[0]"
            ]
        },
        {
            "cell_type": "code",
            "execution_count": 5,
            "metadata": {},
            "outputs": [],
            "source": [
                "def norm(x, min_x=0., max_x=800.):\n",
                "    x[x > max_x] = max_x\n",
                "    x[x < min_x] = min_x\n",
                "    x = (x - min_x) / (max_x - min_x)\n",
                "    return x"
            ]
        },
        {
            "cell_type": "code",
            "execution_count": 18,
            "metadata": {},
            "outputs": [
                {
                    "name": "stdout",
                    "output_type": "stream",
                    "text": [
                        "8.006784299388528\n"
                    ]
                }
            ],
            "source": [
                "import nibabel as nib\n",
                "start = time.perf_counter()\n",
                "img = nib.load(train_im_files[200])\n",
                "\n",
                "    # Get the data as a numpy array\n",
                "img_data = img.get_fdata()\n",
                "print(time.perf_counter()-start)\n"
            ]
        },
        {
            "cell_type": "code",
            "execution_count": 19,
            "metadata": {},
            "outputs": [
                {
                    "name": "stdout",
                    "output_type": "stream",
                    "text": [
                        "5.665560295805335\n"
                    ]
                },
                {
                    "data": {
                        "text/plain": [
                            "(1.0, 0.0, (920, 712, 712))"
                        ]
                    },
                    "execution_count": 19,
                    "metadata": {},
                    "output_type": "execute_result"
                }
            ],
            "source": [
                "import time\n",
                "start = time.perf_counter()\n",
                "mask_header = sitk.ReadImage(train_im_files[200])\n",
                "mask = sitk.GetArrayFromImage(mask_header)\n",
                "print(time.perf_counter()-start)\n",
                "start = time.perf_counter()\n",
                "mask = mask.astype(np.float32)\n",
                "mask = norm(mask)\n",
                "mask.max(), mask.min(), mask.shape"
            ]
        },
        {
            "cell_type": "code",
            "execution_count": 9,
            "metadata": {},
            "outputs": [
                {
                    "data": {
                        "text/plain": [
                            "(0.4296875, 0.4296875, 0.4000244140625)"
                        ]
                    },
                    "execution_count": 9,
                    "metadata": {},
                    "output_type": "execute_result"
                }
            ],
            "source": [
                "mask_header.GetSpacing()"
            ]
        },
        {
            "cell_type": "code",
            "execution_count": 11,
            "metadata": {},
            "outputs": [
                {
                    "name": "stderr",
                    "output_type": "stream",
                    "text": [
                        "100%|██████████| 152/152 [00:16<00:00,  9.27it/s]\n"
                    ]
                }
            ],
            "source": [
                "train_space = []\n",
                "for x in tqdm(test_mask_files):\n",
                "    train_space.append(np.array(sitk.ReadImage(x).GetSpacing()))"
            ]
        },
        {
            "cell_type": "code",
            "execution_count": 14,
            "metadata": {},
            "outputs": [
                {
                    "data": {
                        "image/png": "[encoded data removed]",
                        "text/plain": [
                            "<Figure size 640x480 with 1 Axes>"
                        ]
                    },
                    "metadata": {},
                    "output_type": "display_data"
                }
            ],
            "source": [
                "xy_s = [x[0] for x in train_space]\n",
                "plt.hist(xy_s)\n",
                "plt.show()"
            ]
        },
        {
            "cell_type": "code",
            "execution_count": 15,
            "metadata": {},
            "outputs": [
                {
                    "data": {
                        "image/png": "[encoded data removed]",
                        "text/plain": [
                            "<Figure size 640x480 with 1 Axes>"
                        ]
                    },
                    "metadata": {},
                    "output_type": "display_data"
                }
            ],
            "source": [
                "z_s = [x[2] for x in train_space]\n",
                "plt.hist(z_s)\n",
                "plt.show()"
            ]
        },
        {
            "cell_type": "code",
            "execution_count": 16,
            "metadata": {},
            "outputs": [
                {
                    "name": "stderr",
                    "output_type": "stream",
                    "text": [
                        "100%|██████████| 1186/1186 [02:01<00:00,  9.73it/s]\n"
                    ]
                }
            ],
            "source": [
                "test_space = []\n",
                "for x in tqdm(train_mask_files):\n",
                "    test_space.append(np.array(sitk.ReadImage(x).GetSpacing()))"
            ]
        },
        {
            "cell_type": "code",
            "execution_count": 18,
            "metadata": {},
            "outputs": [
                {
                    "data": {
                        "image/png": "[encoded data removed]",
                        "text/plain": [
                            "<Figure size 640x480 with 1 Axes>"
                        ]
                    },
                    "metadata": {},
                    "output_type": "display_data"
                },
                {
                    "data": {
                        "image/png": "[encoded data removed]",
                        "text/plain": [
                            "<Figure size 640x480 with 1 Axes>"
                        ]
                    },
                    "metadata": {},
                    "output_type": "display_data"
                }
            ],
            "source": [
                "xy_s = [x[0] for x in test_space]\n",
                "plt.hist(xy_s)\n",
                "plt.show()\n",
                "z_s = [x[2] for x in test_space]\n",
                "plt.hist(z_s)\n",
                "plt.show()"
            ]
        },
        {
            "attachments": {},
            "cell_type": "markdown",
            "metadata": {},
            "source": [
                "## resample data"
            ]
        },
        {
            "cell_type": "code",
            "execution_count": 17,
            "metadata": {},
            "outputs": [],
            "source": [
                "def resample_simg(itkimage:sitk.Image, newSpacing=(1.0, 1.0, 1.0), label=False)->sitk.Image:\n",
                "    \"\"\"\n",
                "    image resize withe sitk resampleImageFilter\n",
                "    :param itkimage:\n",
                "    :param newSpacing:such as [1,1,1]\n",
                "    :param resamplemethod:\n",
                "    :return:\n",
                "    \"\"\"\n",
                "    newSpacing = np.array(newSpacing, float)\n",
                "    originSpcaing = itkimage.GetSpacing()\n",
                "    resampler = sitk.ResampleImageFilter()\n",
                "    originSize = itkimage.GetSize()\n",
                "    factor = newSpacing / originSpcaing\n",
                "    newSize = originSize / factor\n",
                "    newSize = newSize.astype(np.int)\n",
                "    resampler.SetReferenceImage(itkimage)\n",
                "    resampler.SetOutputSpacing(newSpacing.tolist())\n",
                "    resampler.SetSize(newSize.tolist())\n",
                "    resampler.SetTransform(sitk.Transform(3, sitk.sitkIdentity))\n",
                "    if label:\n",
                "        resamplemethod=sitk.sitkNearestNeighbor\n",
                "    else:\n",
                "        resamplemethod=sitk.sitkLinear\n",
                "    resampler.SetInterpolator(resamplemethod)\n",
                "    itkimgResampled = resampler.Execute(itkimage)\n",
                "    return itkimgResampled"
            ]
        },
        {
            "cell_type": "code",
            "execution_count": 19,
            "metadata": {},
            "outputs": [
                {
                    "data": {
                        "text/plain": [
                            "(392, 512, 512)"
                        ]
                    },
                    "execution_count": 19,
                    "metadata": {},
                    "output_type": "execute_result"
                }
            ],
            "source": [
                "mask.shape"
            ]
        },
        {
            "cell_type": "code",
            "execution_count": 20,
            "metadata": {},
            "outputs": [
                {
                    "name": "stderr",
                    "output_type": "stream",
                    "text": [
                        "/tmp/ipykernel_56757/1572345796.py:15: DeprecationWarning: `np.int` is a deprecated alias for the builtin `int`. To silence this warning, use `int` by itself. Doing this will not modify any behavior and is safe. When replacing `np.int`, you may wish to use e.g. `np.int64` or `np.int32` to specify the precision. If you wish to review your current use, check the release note link for additional information.\n",
                        "Deprecated in NumPy 1.20; for more details and guidance: https://numpy.org/devdocs/release/1.20.0-notes.html#deprecations\n",
                        "  newSize = newSize.astype(np.int)\n"
                    ]
                }
            ],
            "source": [
                "new_mask_data = resample_simg(mask_header, (0.4,0.4,0.4))"
            ]
        },
        {
            "cell_type": "code",
            "execution_count": 21,
            "metadata": {},
            "outputs": [
                {
                    "data": {
                        "text/plain": [
                            "(392, 550, 550)"
                        ]
                    },
                    "execution_count": 21,
                    "metadata": {},
                    "output_type": "execute_result"
                }
            ],
            "source": [
                "new_mask = sitk.GetArrayFromImage(new_mask_data)\n",
                "new_mask.shape"
            ]
        },
        {
            "cell_type": "code",
            "execution_count": null,
            "metadata": {},
            "outputs": [],
            "source": [
                "new_mask.max"
            ]
        },
        {
            "cell_type": "code",
            "execution_count": 24,
            "metadata": {},
            "outputs": [
                {
                    "name": "stderr",
                    "output_type": "stream",
                    "text": [
                        "** ERROR (nifti_image_write_engine): cannot open output file '/work/vig/Datasets/aneurysm/internal_train/og_0.4_label/test.nii.gz'\n"
                    ]
                },
                {
                    "ename": "RuntimeError",
                    "evalue": "Exception thrown in SimpleITK ImageFileWriter_Execute: /tmp/SimpleITK-build/ITK/Modules/IO/NIFTI/src/itkNiftiImageIO.cxx:2254:\nITK ERROR: NiftiImageIO(0x56989c0): ERROR: nifti library failed to write image/work/vig/Datasets/aneurysm/internal_train/og_0.4_label/test.nii.gz",
                    "output_type": "error",
                    "traceback": [
                        "\u001b[0;31m---------------------------------------------------------------------------\u001b[0m",
                        "\u001b[0;31mRuntimeError\u001b[0m                              Traceback (most recent call last)",
                        "Cell \u001b[0;32mIn[24], line 1\u001b[0m\n\u001b[0;32m----> 1\u001b[0m sitk\u001b[39m.\u001b[39;49mWriteImage(new_mask_data, \u001b[39m\"\u001b[39;49m\u001b[39m/work/vig/Datasets/aneurysm/internal_train/og_0.4_label/test.nii.gz\u001b[39;49m\u001b[39m\"\u001b[39;49m)\n",
                        "File \u001b[0;32m~/.conda/envs/hieu1.12/lib/python3.10/site-packages/SimpleITK/extra.py:405\u001b[0m, in \u001b[0;36mWriteImage\u001b[0;34m(image, fileName, useCompression, compressionLevel, imageIO, compressor)\u001b[0m\n\u001b[1;32m    403\u001b[0m writer\u001b[39m.\u001b[39mSetImageIO(imageIO)\n\u001b[1;32m    404\u001b[0m writer\u001b[39m.\u001b[39mSetCompressor(compressor)\n\u001b[0;32m--> 405\u001b[0m \u001b[39mreturn\u001b[39;00m writer\u001b[39m.\u001b[39;49mExecute(image)\n",
                        "File \u001b[0;32m~/.conda/envs/hieu1.12/lib/python3.10/site-packages/SimpleITK/SimpleITK.py:7913\u001b[0m, in \u001b[0;36mImageFileWriter.Execute\u001b[0;34m(self, *args)\u001b[0m\n\u001b[1;32m   7906\u001b[0m \u001b[39mdef\u001b[39;00m \u001b[39mExecute\u001b[39m(\u001b[39mself\u001b[39m, \u001b[39m*\u001b[39margs):\n\u001b[1;32m   7907\u001b[0m     \u001b[39mr\u001b[39m\u001b[39m\"\"\"\u001b[39;00m\n\u001b[1;32m   7908\u001b[0m \u001b[39m    Execute(ImageFileWriter self, Image arg2)\u001b[39;00m\n\u001b[1;32m   7909\u001b[0m \u001b[39m    Execute(ImageFileWriter self, Image arg2, std::string const & inFileName, bool useCompression, int compressionLevel)\u001b[39;00m\n\u001b[1;32m   7910\u001b[0m \n\u001b[1;32m   7911\u001b[0m \n\u001b[1;32m   7912\u001b[0m \u001b[39m    \"\"\"\u001b[39;00m\n\u001b[0;32m-> 7913\u001b[0m     \u001b[39mreturn\u001b[39;00m _SimpleITK\u001b[39m.\u001b[39;49mImageFileWriter_Execute(\u001b[39mself\u001b[39;49m, \u001b[39m*\u001b[39;49margs)\n",
                        "\u001b[0;31mRuntimeError\u001b[0m: Exception thrown in SimpleITK ImageFileWriter_Execute: /tmp/SimpleITK-build/ITK/Modules/IO/NIFTI/src/itkNiftiImageIO.cxx:2254:\nITK ERROR: NiftiImageIO(0x56989c0): ERROR: nifti library failed to write image/work/vig/Datasets/aneurysm/internal_train/og_0.4_label/test.nii.gz"
                    ]
                }
            ],
            "source": [
                "sitk.WriteImage(new_mask_data, \"/work/vig/Datasets/aneurysm/internal_train/og_0.4_label/test.nii.gz\")\n"
            ]
        },
        {
            "cell_type": "code",
            "execution_count": 1,
            "metadata": {},
            "outputs": [
                {
                    "data": {
                        "text/plain": [
                            "11.11111111111111"
                        ]
                    },
                    "execution_count": 1,
                    "metadata": {},
                    "output_type": "execute_result"
                }
            ],
            "source": [
                "2000/24*8/60"
            ]
        },
        {
            "cell_type": "code",
            "execution_count": 7,
            "metadata": {},
            "outputs": [
                {
                    "data": {
                        "text/plain": [
                            "(392, 512, 512)"
                        ]
                    },
                    "execution_count": 7,
                    "metadata": {},
                    "output_type": "execute_result"
                }
            ],
            "source": [
                "# process_maks\n",
                "mask.shape"
            ]
        },
        {
            "cell_type": "code",
            "execution_count": 8,
            "metadata": {},
            "outputs": [
                {
                    "data": {
                        "text/plain": [
                            "1"
                        ]
                    },
                    "execution_count": 8,
                    "metadata": {},
                    "output_type": "execute_result"
                }
            ],
            "source": [
                "import skimage.measure as measure\n",
                "\n",
                "region_area_threshold = 4\n",
                "y_t_label = measure.label(mask)\n",
                "y_t_props = measure.regionprops(y_t_label)\n",
                "y_t_props = [item for item in y_t_props if item.area > region_area_threshold]  # reduce small noise\n",
                "len(y_t_props)\n"
            ]
        },
        {
            "cell_type": "code",
            "execution_count": 10,
            "metadata": {},
            "outputs": [
                {
                    "data": {
                        "text/plain": [
                            "['__class__',\n",
                            " '__delattr__',\n",
                            " '__dict__',\n",
                            " '__dir__',\n",
                            " '__doc__',\n",
                            " '__eq__',\n",
                            " '__format__',\n",
                            " '__ge__',\n",
                            " '__getattr__',\n",
                            " '__getattribute__',\n",
                            " '__getitem__',\n",
                            " '__gt__',\n",
                            " '__hash__',\n",
                            " '__init__',\n",
                            " '__init_subclass__',\n",
                            " '__iter__',\n",
                            " '__le__',\n",
                            " '__lt__',\n",
                            " '__module__',\n",
                            " '__ne__',\n",
                            " '__new__',\n",
                            " '__reduce__',\n",
                            " '__reduce_ex__',\n",
                            " '__repr__',\n",
                            " '__setattr__',\n",
                            " '__sizeof__',\n",
                            " '__str__',\n",
                            " '__subclasshook__',\n",
                            " '__weakref__',\n",
                            " '_cache',\n",
                            " '_cache_active',\n",
                            " '_extra_properties',\n",
                            " '_image_intensity_double',\n",
                            " '_intensity_image',\n",
                            " '_label_image',\n",
                            " '_multichannel',\n",
                            " '_ndim',\n",
                            " '_slice',\n",
                            " '_spatial_axes',\n",
                            " 'area',\n",
                            " 'area_bbox',\n",
                            " 'area_convex',\n",
                            " 'area_filled',\n",
                            " 'axis_major_length',\n",
                            " 'axis_minor_length',\n",
                            " 'bbox',\n",
                            " 'centroid',\n",
                            " 'centroid_local',\n",
                            " 'centroid_weighted',\n",
                            " 'centroid_weighted_local',\n",
                            " 'coords',\n",
                            " 'eccentricity',\n",
                            " 'equivalent_diameter_area',\n",
                            " 'euler_number',\n",
                            " 'extent',\n",
                            " 'feret_diameter_max',\n",
                            " 'image',\n",
                            " 'image_convex',\n",
                            " 'image_filled',\n",
                            " 'image_intensity',\n",
                            " 'inertia_tensor',\n",
                            " 'inertia_tensor_eigvals',\n",
                            " 'intensity_max',\n",
                            " 'intensity_mean',\n",
                            " 'intensity_min',\n",
                            " 'label',\n",
                            " 'moments',\n",
                            " 'moments_central',\n",
                            " 'moments_hu',\n",
                            " 'moments_normalized',\n",
                            " 'moments_weighted',\n",
                            " 'moments_weighted_central',\n",
                            " 'moments_weighted_hu',\n",
                            " 'moments_weighted_normalized',\n",
                            " 'orientation',\n",
                            " 'perimeter',\n",
                            " 'perimeter_crofton',\n",
                            " 'slice',\n",
                            " 'solidity']"
                        ]
                    },
                    "execution_count": 10,
                    "metadata": {},
                    "output_type": "execute_result"
                }
            ],
            "source": [
                "dir(y_t_props[0])"
            ]
        },
        {
            "cell_type": "code",
            "execution_count": 17,
            "metadata": {},
            "outputs": [],
            "source": [
                "box = np.array(y_t_props[0].bbox)"
            ]
        },
        {
            "cell_type": "code",
            "execution_count": 13,
            "metadata": {},
            "outputs": [
                {
                    "data": {
                        "text/plain": [
                            "(141.9400606980273, 215.0288315629742, 235.48786039453717)"
                        ]
                    },
                    "execution_count": 13,
                    "metadata": {},
                    "output_type": "execute_result"
                }
            ],
            "source": [
                "y_t_props[0].centroid\n"
            ]
        },
        {
            "cell_type": "code",
            "execution_count": 19,
            "metadata": {},
            "outputs": [
                {
                    "data": {
                        "text/plain": [
                            "array([141.5, 215.5, 236. ])"
                        ]
                    },
                    "execution_count": 19,
                    "metadata": {},
                    "output_type": "execute_result"
                }
            ],
            "source": [
                "(box[3:] + box[:3])/2"
            ]
        },
        {
            "cell_type": "code",
            "execution_count": 1,
            "metadata": {},
            "outputs": [
                {
                    "name": "stdout",
                    "output_type": "stream",
                    "text": [
                        "tensor(20)\n"
                    ]
                },
                {
                    "data": {
                        "text/plain": [
                            "torch.Size([18, 2])"
                        ]
                    },
                    "execution_count": 1,
                    "metadata": {},
                    "output_type": "execute_result"
                }
            ],
            "source": [
                "import torch\n",
                " \n",
                "a = torch.rand((3,4,5,2))\n",
                "a = a>0.8\n",
                "print(a.sum())\n",
                "sp_a = a.to_sparse(a.ndim-1)\n",
                "sp_a.values().shape\n"
            ]
        },
        {
            "cell_type": "code",
            "execution_count": 7,
            "metadata": {},
            "outputs": [
                {
                    "ename": "IndexError",
                    "evalue": "index 3 is out of bounds for dimension 0 with size 3",
                    "output_type": "error",
                    "traceback": [
                        "\u001b[0;31m---------------------------------------------------------------------------\u001b[0m",
                        "\u001b[0;31mIndexError\u001b[0m                                Traceback (most recent call last)",
                        "Cell \u001b[0;32mIn[7], line 2\u001b[0m\n\u001b[1;32m      1\u001b[0m b \u001b[39m=\u001b[39m torch\u001b[39m.\u001b[39marange(\u001b[39m120\u001b[39m)\u001b[39m.\u001b[39mreshape(\u001b[39m3\u001b[39m,\u001b[39m4\u001b[39m,\u001b[39m5\u001b[39m,\u001b[39m2\u001b[39m)\n\u001b[0;32m----> 2\u001b[0m b[sp_a\u001b[39m.\u001b[39;49mindices()]\n",
                        "\u001b[0;31mIndexError\u001b[0m: index 3 is out of bounds for dimension 0 with size 3"
                    ]
                }
            ],
            "source": [
                "b = torch.arange(120).reshape(3,4,5,2)\n",
                "b[sp_a.indices()]"
            ]
        },
        {
            "cell_type": "code",
            "execution_count": 5,
            "metadata": {},
            "outputs": [],
            "source": [
                "bb = b.permute(0,3,1,2)\n",
                "indice = tuple(sp_a.indices())"
            ]
        },
        {
            "cell_type": "code",
            "execution_count": 6,
            "metadata": {},
            "outputs": [
                {
                    "data": {
                        "text/plain": [
                            "tensor([[ 10,  11],\n",
                            "        [ 14,  15],\n",
                            "        [ 20,  21],\n",
                            "        [ 28,  29],\n",
                            "        [ 40,  41],\n",
                            "        [ 46,  47],\n",
                            "        [ 50,  51],\n",
                            "        [ 72,  73],\n",
                            "        [ 76,  77],\n",
                            "        [ 78,  79],\n",
                            "        [ 82,  83],\n",
                            "        [ 84,  85],\n",
                            "        [ 88,  89],\n",
                            "        [ 94,  95],\n",
                            "        [ 96,  97],\n",
                            "        [ 98,  99],\n",
                            "        [100, 101],\n",
                            "        [114, 115]])"
                        ]
                    },
                    "execution_count": 6,
                    "metadata": {},
                    "output_type": "execute_result"
                }
            ],
            "source": [
                "bb[indice[0],:,indice[1],indice[2]]"
            ]
        },
        {
            "cell_type": "code",
            "execution_count": 8,
            "metadata": {},
            "outputs": [
                {
                    "data": {
                        "text/plain": [
                            "tensor([[ 0,  1,  2,  3],\n",
                            "        [ 4,  5,  6,  7],\n",
                            "        [ 8,  9, 10, 11]])"
                        ]
                    },
                    "execution_count": 8,
                    "metadata": {},
                    "output_type": "execute_result"
                }
            ],
            "source": [
                "torch.arange(12).view(3,4)"
            ]
        },
        {
            "cell_type": "code",
            "execution_count": 9,
            "metadata": {},
            "outputs": [
                {
                    "data": {
                        "text/plain": [
                            "tensor([[ 1,  2,  3,  0],\n",
                            "        [ 5,  6,  7,  4],\n",
                            "        [ 9, 10, 11,  8]])"
                        ]
                    },
                    "execution_count": 9,
                    "metadata": {},
                    "output_type": "execute_result"
                }
            ],
            "source": [
                "torch.arange(12).view(3,4)[:,[1,2,3,0]]"
            ]
        },
        {
            "cell_type": "code",
            "execution_count": 1,
            "metadata": {},
            "outputs": [],
            "source": [
                "import torchsparse.nn as spnn\n",
                "from torchsparse import SparseTensor\n",
                "import torch\n",
                "\n"
            ]
        },
        {
            "cell_type": "code",
            "execution_count": 2,
            "metadata": {},
            "outputs": [
                {
                    "data": {
                        "text/plain": [
                            "tensor(122)"
                        ]
                    },
                    "execution_count": 2,
                    "metadata": {},
                    "output_type": "execute_result"
                }
            ],
            "source": [
                "a = torch.randn(2,3,4,5,6)\n",
                "mask = torch.rand(2,4,5,6) > 0.5\n",
                "mask.sum()"
            ]
        },
        {
            "cell_type": "code",
            "execution_count": 46,
            "metadata": {},
            "outputs": [],
            "source": [
                "def sparse_tensor_from_mask(x: torch.Tensor, mask: torch.tensor):\n",
                "    \"\"\"\n",
                "    create sparse tensor from feature maps and mask\n",
                "    args:\n",
                "        x: tensor of shape BCDHW DHW is zyx\n",
                "        mask: binary tensor of shape BDHW\n",
                "    must be NHWC tensor, channel last\n",
                "    \"\"\"\n",
                "    mask = mask.detach()\n",
                "    sp_mask = mask.to_sparse()\n",
                "    indices = sp_mask.indices()\n",
                "    indices_t = tuple(indices)\n",
                "    features = x.permute(0,2,3,4,1)[indices_t].contiguous()\n",
                "    indices = indices.permute(1, 0)[:,[1,2,3,0]].contiguous().type(torch.int) # change batch index to the last\n",
                "    out = SparseTensor(coords=indices, feats=features)\n",
                "    out.cmaps[(1,1,1)] = indices\n",
                "    return out\n",
                "\n",
                "def sparse_tensor_from_coords(x: torch.Tensor, coords: torch.tensor) -> SparseTensor:\n",
                "    \"\"\"\n",
                "    create sparse tensor from feature maps and index\n",
                "    args:\n",
                "        x: tensor of shape BCDHW DHW is zyx\n",
                "        coords: index tensor of shape N,4 index for each point is zyxb\n",
                "    must be NHWC tensor, channel last\n",
                "    \"\"\"\n",
                "    indices = tuple(coords.permute(1,0)[[3,0,1,2]])\n",
                "    features = x.permute(0,2,3,4,1)[indices].contiguous()\n",
                "    out = SparseTensor(coords=coords, feats=features)\n",
                "    out.cmaps[(1,1,1)] = indices\n",
                "    return out\n",
                "    \n"
            ]
        },
        {
            "cell_type": "code",
            "execution_count": 47,
            "metadata": {},
            "outputs": [],
            "source": [
                "sp_tensor = sparse_tensor_from_mask(a, mask)"
            ]
        },
        {
            "cell_type": "code",
            "execution_count": 45,
            "metadata": {},
            "outputs": [
                {
                    "data": {
                        "text/plain": [
                            "{}"
                        ]
                    },
                    "execution_count": 45,
                    "metadata": {},
                    "output_type": "execute_result"
                }
            ],
            "source": [
                "sp_tensor.cmaps"
            ]
        },
        {
            "cell_type": "code",
            "execution_count": 22,
            "metadata": {},
            "outputs": [
                {
                    "data": {
                        "text/plain": [
                            "torch.Size([122, 4])"
                        ]
                    },
                    "execution_count": 22,
                    "metadata": {},
                    "output_type": "execute_result"
                }
            ],
            "source": [
                "sp_tensor.coords.shape"
            ]
        },
        {
            "cell_type": "code",
            "execution_count": 23,
            "metadata": {},
            "outputs": [
                {
                    "ename": "SyntaxError",
                    "evalue": "invalid syntax (2792523948.py, line 1)",
                    "output_type": "error",
                    "traceback": [
                        "\u001b[0;36m  Cell \u001b[0;32mIn[23], line 1\u001b[0;36m\u001b[0m\n\u001b[0;31m    a =\u001b[0m\n\u001b[0m        ^\u001b[0m\n\u001b[0;31mSyntaxError\u001b[0m\u001b[0;31m:\u001b[0m invalid syntax\n"
                    ]
                }
            ],
            "source": [
                "a = "
            ]
        },
        {
            "cell_type": "code",
            "execution_count": 24,
            "metadata": {},
            "outputs": [],
            "source": [
                "conv = spnn.Conv3d(3, 5, kernel_size=2, stride=2, bias=False).to(\"cuda\")\n",
                "deconv = spnn.Conv3d(5,3,kernel_size=2, stride=2, transposed=True).to(\"cuda\")"
            ]
        },
        {
            "cell_type": "code",
            "execution_count": 41,
            "metadata": {},
            "outputs": [],
            "source": [
                "from torch import nn\n",
                "model = nn.Sequential(\n",
                "    # spnn.Conv3d(3, 3, 3),\n",
                "    spnn.Conv3d(3, 3, 2, stride=2, bias=True),\n",
                "    spnn.Conv3d(3, 64, 2, stride=2, transposed=True)\n",
                ").cuda()"
            ]
        },
        {
            "cell_type": "code",
            "execution_count": 48,
            "metadata": {},
            "outputs": [
                {
                    "data": {
                        "text/plain": [
                            "torch.Size([122, 4])"
                        ]
                    },
                    "execution_count": 48,
                    "metadata": {},
                    "output_type": "execute_result"
                }
            ],
            "source": [
                "x = model(sp_tensor.cuda())\n",
                "x.coords.shape"
            ]
        },
        {
            "cell_type": "code",
            "execution_count": 32,
            "metadata": {},
            "outputs": [
                {
                    "data": {
                        "text/plain": [
                            "[(1, 1, 1), (2, 2, 2)]"
                        ]
                    },
                    "execution_count": 32,
                    "metadata": {},
                    "output_type": "execute_result"
                }
            ],
            "source": [
                "list(sp_tensor.cmaps.keys())"
            ]
        },
        {
            "cell_type": "code",
            "execution_count": 31,
            "metadata": {},
            "outputs": [
                {
                    "data": {
                        "text/plain": [
                            "tensor([[0, 0, 4, 0],\n",
                            "        [0, 0, 5, 0],\n",
                            "        [0, 1, 0, 0],\n",
                            "        [0, 1, 2, 0],\n",
                            "        [0, 1, 3, 0],\n",
                            "        [0, 1, 4, 0],\n",
                            "        [0, 1, 5, 0],\n",
                            "        [0, 2, 2, 0],\n",
                            "        [0, 2, 3, 0],\n",
                            "        [0, 2, 4, 0],\n",
                            "        [0, 2, 5, 0],\n",
                            "        [0, 3, 0, 0],\n",
                            "        [0, 3, 3, 0],\n",
                            "        [0, 3, 5, 0],\n",
                            "        [0, 4, 1, 0],\n",
                            "        [0, 4, 4, 0],\n",
                            "        [0, 4, 5, 0],\n",
                            "        [1, 0, 1, 0],\n",
                            "        [1, 0, 4, 0],\n",
                            "        [1, 0, 5, 0],\n",
                            "        [1, 1, 5, 0],\n",
                            "        [1, 2, 0, 0],\n",
                            "        [1, 2, 2, 0],\n",
                            "        [1, 2, 3, 0],\n",
                            "        [1, 3, 0, 0],\n",
                            "        [1, 3, 3, 0],\n",
                            "        [1, 3, 4, 0],\n",
                            "        [1, 3, 5, 0],\n",
                            "        [1, 4, 0, 0],\n",
                            "        [1, 4, 2, 0],\n",
                            "        [1, 4, 3, 0],\n",
                            "        [2, 0, 1, 0],\n",
                            "        [2, 0, 2, 0],\n",
                            "        [2, 0, 5, 0],\n",
                            "        [2, 1, 0, 0],\n",
                            "        [2, 1, 4, 0],\n",
                            "        [2, 1, 5, 0],\n",
                            "        [2, 2, 1, 0],\n",
                            "        [2, 2, 3, 0],\n",
                            "        [2, 2, 4, 0],\n",
                            "        [2, 2, 5, 0],\n",
                            "        [2, 3, 0, 0],\n",
                            "        [2, 3, 4, 0],\n",
                            "        [2, 3, 5, 0],\n",
                            "        [2, 4, 0, 0],\n",
                            "        [2, 4, 1, 0],\n",
                            "        [2, 4, 3, 0],\n",
                            "        [2, 4, 5, 0],\n",
                            "        [3, 0, 1, 0],\n",
                            "        [3, 0, 4, 0],\n",
                            "        [3, 0, 5, 0],\n",
                            "        [3, 1, 0, 0],\n",
                            "        [3, 1, 2, 0],\n",
                            "        [3, 1, 3, 0],\n",
                            "        [3, 1, 5, 0],\n",
                            "        [3, 2, 2, 0],\n",
                            "        [3, 2, 3, 0],\n",
                            "        [3, 2, 5, 0],\n",
                            "        [3, 3, 1, 0],\n",
                            "        [3, 3, 2, 0],\n",
                            "        [3, 3, 5, 0],\n",
                            "        [3, 4, 0, 0],\n",
                            "        [3, 4, 2, 0],\n",
                            "        [3, 4, 3, 0],\n",
                            "        [0, 0, 0, 1],\n",
                            "        [0, 0, 1, 1],\n",
                            "        [0, 0, 2, 1],\n",
                            "        [0, 0, 4, 1],\n",
                            "        [0, 0, 5, 1],\n",
                            "        [0, 1, 0, 1],\n",
                            "        [0, 1, 2, 1],\n",
                            "        [0, 2, 0, 1],\n",
                            "        [0, 2, 2, 1],\n",
                            "        [0, 3, 0, 1],\n",
                            "        [0, 3, 1, 1],\n",
                            "        [0, 3, 2, 1],\n",
                            "        [0, 3, 3, 1],\n",
                            "        [0, 3, 4, 1],\n",
                            "        [0, 4, 1, 1],\n",
                            "        [0, 4, 2, 1],\n",
                            "        [1, 0, 1, 1],\n",
                            "        [1, 0, 2, 1],\n",
                            "        [1, 0, 3, 1],\n",
                            "        [1, 0, 5, 1],\n",
                            "        [1, 1, 4, 1],\n",
                            "        [1, 1, 5, 1],\n",
                            "        [1, 2, 1, 1],\n",
                            "        [1, 2, 2, 1],\n",
                            "        [1, 2, 5, 1],\n",
                            "        [1, 3, 0, 1],\n",
                            "        [1, 3, 2, 1],\n",
                            "        [1, 3, 3, 1],\n",
                            "        [1, 3, 5, 1],\n",
                            "        [1, 4, 0, 1],\n",
                            "        [1, 4, 1, 1],\n",
                            "        [1, 4, 2, 1],\n",
                            "        [2, 0, 0, 1],\n",
                            "        [2, 0, 2, 1],\n",
                            "        [2, 1, 1, 1],\n",
                            "        [2, 1, 3, 1],\n",
                            "        [2, 1, 4, 1],\n",
                            "        [2, 1, 5, 1],\n",
                            "        [2, 2, 1, 1],\n",
                            "        [2, 2, 2, 1],\n",
                            "        [2, 2, 3, 1],\n",
                            "        [2, 2, 5, 1],\n",
                            "        [2, 3, 2, 1],\n",
                            "        [2, 3, 3, 1],\n",
                            "        [2, 4, 0, 1],\n",
                            "        [2, 4, 4, 1],\n",
                            "        [2, 4, 5, 1],\n",
                            "        [3, 0, 0, 1],\n",
                            "        [3, 0, 2, 1],\n",
                            "        [3, 0, 4, 1],\n",
                            "        [3, 2, 1, 1],\n",
                            "        [3, 2, 3, 1],\n",
                            "        [3, 3, 0, 1],\n",
                            "        [3, 3, 2, 1],\n",
                            "        [3, 4, 0, 1],\n",
                            "        [3, 4, 1, 1],\n",
                            "        [3, 4, 3, 1],\n",
                            "        [3, 4, 5, 1]], device='cuda:0', dtype=torch.int32)"
                        ]
                    },
                    "execution_count": 31,
                    "metadata": {},
                    "output_type": "execute_result"
                }
            ],
            "source": [
                "sp_tensor.coords"
            ]
        },
        {
            "cell_type": "code",
            "execution_count": 35,
            "metadata": {},
            "outputs": [
                {
                    "data": {
                        "text/plain": [
                            "torch.Size([35, 4])"
                        ]
                    },
                    "execution_count": 35,
                    "metadata": {},
                    "output_type": "execute_result"
                }
            ],
            "source": [
                "out = conv(sp_tensor.to(\"cuda\"))\n",
                "out.coords.shape"
            ]
        },
        {
            "cell_type": "code",
            "execution_count": 37,
            "metadata": {},
            "outputs": [
                {
                    "data": {
                        "text/plain": [
                            "torch.Size([35, 4])"
                        ]
                    },
                    "execution_count": 37,
                    "metadata": {},
                    "output_type": "execute_result"
                }
            ],
            "source": [
                "out.cmaps[(2,2,2)].shape"
            ]
        },
        {
            "cell_type": "code",
            "execution_count": 9,
            "metadata": {},
            "outputs": [],
            "source": [
                "import torchsparse\n",
                "torchsparse.backends.benchmark = True"
            ]
        },
        {
            "cell_type": "code",
            "execution_count": 38,
            "metadata": {},
            "outputs": [
                {
                    "ename": "KeyError",
                    "evalue": "(1, 1, 1)",
                    "output_type": "error",
                    "traceback": [
                        "\u001b[0;31m---------------------------------------------------------------------------\u001b[0m",
                        "\u001b[0;31mKeyError\u001b[0m                                  Traceback (most recent call last)",
                        "Cell \u001b[0;32mIn[38], line 1\u001b[0m\n\u001b[0;32m----> 1\u001b[0m out2 \u001b[39m=\u001b[39m deconv(out)\n\u001b[1;32m      2\u001b[0m out2\u001b[39m.\u001b[39mcoords\u001b[39m.\u001b[39mshape\n",
                        "File \u001b[0;32m~/.conda/envs/hieu1.12/lib/python3.10/site-packages/torch/nn/modules/module.py:1130\u001b[0m, in \u001b[0;36mModule._call_impl\u001b[0;34m(self, *input, **kwargs)\u001b[0m\n\u001b[1;32m   1126\u001b[0m \u001b[39m# If we don't have any hooks, we want to skip the rest of the logic in\u001b[39;00m\n\u001b[1;32m   1127\u001b[0m \u001b[39m# this function, and just call forward.\u001b[39;00m\n\u001b[1;32m   1128\u001b[0m \u001b[39mif\u001b[39;00m \u001b[39mnot\u001b[39;00m (\u001b[39mself\u001b[39m\u001b[39m.\u001b[39m_backward_hooks \u001b[39mor\u001b[39;00m \u001b[39mself\u001b[39m\u001b[39m.\u001b[39m_forward_hooks \u001b[39mor\u001b[39;00m \u001b[39mself\u001b[39m\u001b[39m.\u001b[39m_forward_pre_hooks \u001b[39mor\u001b[39;00m _global_backward_hooks\n\u001b[1;32m   1129\u001b[0m         \u001b[39mor\u001b[39;00m _global_forward_hooks \u001b[39mor\u001b[39;00m _global_forward_pre_hooks):\n\u001b[0;32m-> 1130\u001b[0m     \u001b[39mreturn\u001b[39;00m forward_call(\u001b[39m*\u001b[39;49m\u001b[39minput\u001b[39;49m, \u001b[39m*\u001b[39;49m\u001b[39m*\u001b[39;49mkwargs)\n\u001b[1;32m   1131\u001b[0m \u001b[39m# Do not call functions when jit is used\u001b[39;00m\n\u001b[1;32m   1132\u001b[0m full_backward_hooks, non_full_backward_hooks \u001b[39m=\u001b[39m [], []\n",
                        "File \u001b[0;32m~/.conda/envs/hieu1.12/lib/python3.10/site-packages/torchsparse-2.0.0b0-py3.10-linux-x86_64.egg/torchsparse/nn/modules/conv.py:107\u001b[0m, in \u001b[0;36mConv3d.forward\u001b[0;34m(self, input)\u001b[0m\n\u001b[1;32m    102\u001b[0m     \u001b[39melif\u001b[39;00m (\u001b[39mself\u001b[39m\u001b[39m.\u001b[39mconfig[\u001b[39m'\u001b[39m\u001b[39mepsilon\u001b[39m\u001b[39m'\u001b[39m] \u001b[39m!=\u001b[39m \u001b[39m0.0\u001b[39m\n\u001b[1;32m    103\u001b[0m             \u001b[39mor\u001b[39;00m \u001b[39mself\u001b[39m\u001b[39m.\u001b[39mconfig[\u001b[39m'\u001b[39m\u001b[39mmm_thresh\u001b[39m\u001b[39m'\u001b[39m] \u001b[39m!=\u001b[39m \u001b[39m0\u001b[39m) \u001b[39mand\u001b[39;00m \\\n\u001b[1;32m    104\u001b[0m             \u001b[39mlen\u001b[39m(kernel\u001b[39m.\u001b[39mdata\u001b[39m.\u001b[39mshape) \u001b[39m==\u001b[39m \u001b[39m3\u001b[39m:\n\u001b[1;32m    105\u001b[0m         kernel \u001b[39m=\u001b[39m \u001b[39mself\u001b[39m\u001b[39m.\u001b[39m_reordered_kernel\n\u001b[0;32m--> 107\u001b[0m \u001b[39mreturn\u001b[39;00m F\u001b[39m.\u001b[39;49mconv3d(\u001b[39minput\u001b[39;49m,\n\u001b[1;32m    108\u001b[0m                 kernel,\n\u001b[1;32m    109\u001b[0m                 kernel_size\u001b[39m=\u001b[39;49m\u001b[39mself\u001b[39;49m\u001b[39m.\u001b[39;49mkernel_size,\n\u001b[1;32m    110\u001b[0m                 bias\u001b[39m=\u001b[39;49m\u001b[39mself\u001b[39;49m\u001b[39m.\u001b[39;49mbias,\n\u001b[1;32m    111\u001b[0m                 stride\u001b[39m=\u001b[39;49m\u001b[39mself\u001b[39;49m\u001b[39m.\u001b[39;49mstride,\n\u001b[1;32m    112\u001b[0m                 dilation\u001b[39m=\u001b[39;49m\u001b[39mself\u001b[39;49m\u001b[39m.\u001b[39;49mdilation,\n\u001b[1;32m    113\u001b[0m                 transposed\u001b[39m=\u001b[39;49m\u001b[39mself\u001b[39;49m\u001b[39m.\u001b[39;49mtransposed,\n\u001b[1;32m    114\u001b[0m                 epsilon\u001b[39m=\u001b[39;49mepsilon,\n\u001b[1;32m    115\u001b[0m                 mm_thresh\u001b[39m=\u001b[39;49mmm_thresh,\n\u001b[1;32m    116\u001b[0m                 kmap_mode\u001b[39m=\u001b[39;49m\u001b[39mself\u001b[39;49m\u001b[39m.\u001b[39;49mconfig[\u001b[39m'\u001b[39;49m\u001b[39mkmap_mode\u001b[39;49m\u001b[39m'\u001b[39;49m])\n",
                        "File \u001b[0;32m~/.conda/envs/hieu1.12/lib/python3.10/site-packages/torchsparse-2.0.0b0-py3.10-linux-x86_64.egg/torchsparse/nn/functional/conv.py:251\u001b[0m, in \u001b[0;36mconv3d\u001b[0;34m(input, weight, kernel_size, bias, stride, dilation, transposed, epsilon, mm_thresh, kmap_mode)\u001b[0m\n\u001b[1;32m    248\u001b[0m     \u001b[39mif\u001b[39;00m bias \u001b[39mis\u001b[39;00m \u001b[39mnot\u001b[39;00m \u001b[39mNone\u001b[39;00m:\n\u001b[1;32m    249\u001b[0m         feats \u001b[39m+\u001b[39m\u001b[39m=\u001b[39m bias\n\u001b[1;32m    250\u001b[0m     output \u001b[39m=\u001b[39m SparseTensor(\n\u001b[0;32m--> 251\u001b[0m         coords\u001b[39m=\u001b[39m\u001b[39minput\u001b[39;49m\u001b[39m.\u001b[39;49mcmaps[tensor_stride],\n\u001b[1;32m    252\u001b[0m         feats\u001b[39m=\u001b[39mfeats,\n\u001b[1;32m    253\u001b[0m         stride\u001b[39m=\u001b[39mtensor_stride,\n\u001b[1;32m    254\u001b[0m     )\n\u001b[1;32m    256\u001b[0m output\u001b[39m.\u001b[39mcmaps \u001b[39m=\u001b[39m \u001b[39minput\u001b[39m\u001b[39m.\u001b[39mcmaps\n\u001b[1;32m    257\u001b[0m output\u001b[39m.\u001b[39mcmaps\u001b[39m.\u001b[39msetdefault(output\u001b[39m.\u001b[39mstride, output\u001b[39m.\u001b[39mcoords)\n",
                        "\u001b[0;31mKeyError\u001b[0m: (1, 1, 1)"
                    ]
                }
            ],
            "source": [
                "out2 = deconv(out)\n",
                "out2.coords.shape"
            ]
        },
        {
            "cell_type": "code",
            "execution_count": 5,
            "metadata": {},
            "outputs": [],
            "source": [
                "sp2 = sparse_tensor_from_coords(a, sp_tensor.coords)"
            ]
        },
        {
            "cell_type": "code",
            "execution_count": 7,
            "metadata": {},
            "outputs": [
                {
                    "data": {
                        "text/plain": [
                            "(tensor([[-2.5044e-01, -1.0162e+00,  2.4502e-01],\n",
                            "         [-1.6593e+00, -1.1381e+00,  1.2349e+00],\n",
                            "         [ 5.1835e-01, -1.5365e+00, -1.7450e+00],\n",
                            "         [ 9.2330e-02,  8.1468e-01,  3.4529e-04],\n",
                            "         [-1.0915e+00,  2.5699e-02,  7.6085e-01]]),\n",
                            " tensor([[-2.5044e-01, -1.0162e+00,  2.4502e-01],\n",
                            "         [-1.6593e+00, -1.1381e+00,  1.2349e+00],\n",
                            "         [ 5.1835e-01, -1.5365e+00, -1.7450e+00],\n",
                            "         [ 9.2330e-02,  8.1468e-01,  3.4529e-04],\n",
                            "         [-1.0915e+00,  2.5699e-02,  7.6085e-01]]))"
                        ]
                    },
                    "execution_count": 7,
                    "metadata": {},
                    "output_type": "execute_result"
                }
            ],
            "source": [
                "sp2.feats[:5], sp_tensor.feats[:5]\n"
            ]
        },
        {
            "cell_type": "code",
            "execution_count": 1,
            "metadata": {},
            "outputs": [],
            "source": [
                "import pandas as pd "
            ]
        },
        {
            "cell_type": "code",
            "execution_count": 14,
            "metadata": {},
            "outputs": [
                {
                    "data": {
                        "text/plain": [
                            "num_cube                        406880.000000\n",
                            "data loader time                    28.088696\n",
                            "total_transfer_cpu2cuda_time       803.025681\n",
                            "total_transfer_cuda2cpu_time         0.559301\n",
                            "total_model_time                  2930.307142\n",
                            "post_process_time                   98.275452\n",
                            "dtype: float64"
                        ]
                    },
                    "execution_count": 14,
                    "metadata": {},
                    "output_type": "execute_result"
                }
            ],
            "source": [
                "path = \"/work/vig/hieu/cta/outputs/coarse2fine_focal_bm/time_logs.csv\"\n",
                "path = \"/work/vig/hieu/cta/outputs/sp_one_masktop30_bm64/time_logs.csv\"\n",
                "path = \"/work/vig/hieu/cta/outputs/sp_two_masktop20_bm/time_logs.csv\"\n",
                "a = pd.read_csv(path)\n",
                "a.sum()"
            ]
        },
        {
            "cell_type": "code",
            "execution_count": 15,
            "metadata": {},
            "outputs": [
                {
                    "name": "stdout",
                    "output_type": "stream",
                    "text": [
                        "total 64.3376045332756\n",
                        "data loader time 0.007276381081793277\n",
                        "total_transfer_cpu2cuda_time 0.20802393017693718\n",
                        "total_transfer_cuda2cpu_time 0.00014488705893139713\n",
                        "total_model_time 0.7590965301370616\n",
                        "post_process_time 0.02545827154527639\n"
                    ]
                }
            ],
            "source": [
                "sumary = a.sum().to_dict()\n",
                "sumary.pop(\"num_cube\")\n",
                "sum_ = sum(list(sumary.values()))/60\n",
                "print(\"total\",sum_)\n",
                "for k,v in sumary.items():\n",
                "    print(k, v/sum_/60)"
            ]
        },
        {
            "cell_type": "code",
            "execution_count": null,
            "metadata": {},
            "outputs": [],
            "source": []
        }
    ],
    "metadata": {
        "kernelspec": {
            "display_name": "hieu1.12",
            "language": "python",
            "name": "python3"
        },
        "language_info": {
            "codemirror_mode": {
                "name": "ipython",
                "version": 3
            },
            "file_extension": ".py",
            "mimetype": "text/x-python",
            "name": "python",
            "nbconvert_exporter": "python",
            "pygments_lexer": "ipython3",
            "version": "3.10.9"
        },
        "orig_nbformat": 4
    },
    "nbformat": 4,
    "nbformat_minor": 2
}
