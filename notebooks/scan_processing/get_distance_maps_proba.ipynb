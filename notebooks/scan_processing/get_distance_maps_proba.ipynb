{
    "cells": [
        {
            "cell_type": "code",
            "execution_count": 1,
            "metadata": {},
            "outputs": [],
            "source": [
                "import edt\n",
                "import SimpleITK as sitk\n",
                "from glob import glob\n",
                "from pathlib import Path\n",
                "import json\n",
                "import pandas as pd\n",
                "import os\n",
                "import tqdm\n",
                "import numpy as np\n",
                "\n",
                "threshold = 0.5\n",
                "test_vessel_dir = \"/work/vig/Datasets/aneurysm/internal_test/crop_0.4_vessel_prob\"\n",
                "external_vessel_dir = \"/work/vig/Datasets/aneurysm/external/crop_0.4_vessel_prob\"\n",
                "\n",
                "target_test_vessel_dir = (\n",
                "    f\"/work/vig/Datasets/aneurysm/internal_test/crop_0.4_vessel_edt_{str(threshold)}/\"\n",
                ")\n",
                "# create if not exist\n",
                "os.makedirs(target_test_vessel_dir, exist_ok=True)\n",
                "\n",
                "target_external_vessel_dir = (\n",
                "    f\"/work/vig/Datasets/aneurysm/external/crop_0.4_vessel_edt_{str(threshold)}\"\n",
                ")\n",
                "os.makedirs(target_external_vessel_dir, exist_ok=True)\n",
                "\n",
                "val_im_files = sorted(list(glob(f\"{test_vessel_dir}/*_vessel.nii.gz\")))\n",
                "external_im_files = sorted(list(glob(f\"{external_vessel_dir}/*_vessel.nii.gz\")))"
            ]
        },
        {
            "cell_type": "code",
            "execution_count": 2,
            "metadata": {},
            "outputs": [
                {
                    "name": "stderr",
                    "output_type": "stream",
                    "text": [
                        "100%|██████████| 152/152 [1:38:32<00:00, 38.90s/it]\n"
                    ]
                }
            ],
            "source": [
                "file_paths = val_im_files\n",
                "save_dir = target_test_vessel_dir\n",
                "# create dir if not exists\n",
                "Path(save_dir).mkdir(parents=True, exist_ok=True)\n",
                "for file in tqdm.tqdm(file_paths):\n",
                "    scan_seriesuid = file.split(\"/\")[-1]\n",
                "    im_header = sitk.ReadImage(file)\n",
                "    im_og = sitk.GetArrayFromImage(im_header)\n",
                "    im = (im_og > threshold).astype(np.uint8)\n",
                "    im_dist = edt.sdf(im, black_border=False, parallel=64)\n",
                "    im_dist_header = sitk.GetImageFromArray(im_dist)\n",
                "    im_dist_header.CopyInformation(im_header)\n",
                "    save_file_path = os.path.join(save_dir, scan_seriesuid.replace(\"_vessel\", \"\"))\n",
                "    sitk.WriteImage(im_dist_header, save_file_path)"
            ]
        },
        {
            "cell_type": "code",
            "execution_count": 3,
            "metadata": {},
            "outputs": [
                {
                    "data": {
                        "text/plain": [
                            "['/work/vig/Datasets/aneurysm/internal_test/crop_0.4_vessel_prob/Ts0001_vessel.nii.gz',\n",
                            " '/work/vig/Datasets/aneurysm/internal_test/crop_0.4_vessel_prob/Ts0002_vessel.nii.gz',\n",
                            " '/work/vig/Datasets/aneurysm/internal_test/crop_0.4_vessel_prob/Ts0003_vessel.nii.gz',\n",
                            " '/work/vig/Datasets/aneurysm/internal_test/crop_0.4_vessel_prob/Ts0004_vessel.nii.gz',\n",
                            " '/work/vig/Datasets/aneurysm/internal_test/crop_0.4_vessel_prob/Ts0005_vessel.nii.gz',\n",
                            " '/work/vig/Datasets/aneurysm/internal_test/crop_0.4_vessel_prob/Ts0006_vessel.nii.gz',\n",
                            " '/work/vig/Datasets/aneurysm/internal_test/crop_0.4_vessel_prob/Ts0007_vessel.nii.gz',\n",
                            " '/work/vig/Datasets/aneurysm/internal_test/crop_0.4_vessel_prob/Ts0008_vessel.nii.gz',\n",
                            " '/work/vig/Datasets/aneurysm/internal_test/crop_0.4_vessel_prob/Ts0009_vessel.nii.gz',\n",
                            " '/work/vig/Datasets/aneurysm/internal_test/crop_0.4_vessel_prob/Ts0010_vessel.nii.gz',\n",
                            " '/work/vig/Datasets/aneurysm/internal_test/crop_0.4_vessel_prob/Ts0011_vessel.nii.gz',\n",
                            " '/work/vig/Datasets/aneurysm/internal_test/crop_0.4_vessel_prob/Ts0012_vessel.nii.gz',\n",
                            " '/work/vig/Datasets/aneurysm/internal_test/crop_0.4_vessel_prob/Ts0013_vessel.nii.gz',\n",
                            " '/work/vig/Datasets/aneurysm/internal_test/crop_0.4_vessel_prob/Ts0014_vessel.nii.gz',\n",
                            " '/work/vig/Datasets/aneurysm/internal_test/crop_0.4_vessel_prob/Ts0015_vessel.nii.gz',\n",
                            " '/work/vig/Datasets/aneurysm/internal_test/crop_0.4_vessel_prob/Ts0016_vessel.nii.gz',\n",
                            " '/work/vig/Datasets/aneurysm/internal_test/crop_0.4_vessel_prob/Ts0017_vessel.nii.gz',\n",
                            " '/work/vig/Datasets/aneurysm/internal_test/crop_0.4_vessel_prob/Ts0018_vessel.nii.gz',\n",
                            " '/work/vig/Datasets/aneurysm/internal_test/crop_0.4_vessel_prob/Ts0019_vessel.nii.gz',\n",
                            " '/work/vig/Datasets/aneurysm/internal_test/crop_0.4_vessel_prob/Ts0020_vessel.nii.gz',\n",
                            " '/work/vig/Datasets/aneurysm/internal_test/crop_0.4_vessel_prob/Ts0021_vessel.nii.gz',\n",
                            " '/work/vig/Datasets/aneurysm/internal_test/crop_0.4_vessel_prob/Ts0022_vessel.nii.gz',\n",
                            " '/work/vig/Datasets/aneurysm/internal_test/crop_0.4_vessel_prob/Ts0023_vessel.nii.gz',\n",
                            " '/work/vig/Datasets/aneurysm/internal_test/crop_0.4_vessel_prob/Ts0024_vessel.nii.gz',\n",
                            " '/work/vig/Datasets/aneurysm/internal_test/crop_0.4_vessel_prob/Ts0025_vessel.nii.gz',\n",
                            " '/work/vig/Datasets/aneurysm/internal_test/crop_0.4_vessel_prob/Ts0026_vessel.nii.gz',\n",
                            " '/work/vig/Datasets/aneurysm/internal_test/crop_0.4_vessel_prob/Ts0027_vessel.nii.gz',\n",
                            " '/work/vig/Datasets/aneurysm/internal_test/crop_0.4_vessel_prob/Ts0028_vessel.nii.gz',\n",
                            " '/work/vig/Datasets/aneurysm/internal_test/crop_0.4_vessel_prob/Ts0029_vessel.nii.gz',\n",
                            " '/work/vig/Datasets/aneurysm/internal_test/crop_0.4_vessel_prob/Ts0030_vessel.nii.gz',\n",
                            " '/work/vig/Datasets/aneurysm/internal_test/crop_0.4_vessel_prob/Ts0031_vessel.nii.gz',\n",
                            " '/work/vig/Datasets/aneurysm/internal_test/crop_0.4_vessel_prob/Ts0032_vessel.nii.gz',\n",
                            " '/work/vig/Datasets/aneurysm/internal_test/crop_0.4_vessel_prob/Ts0033_vessel.nii.gz',\n",
                            " '/work/vig/Datasets/aneurysm/internal_test/crop_0.4_vessel_prob/Ts0034_vessel.nii.gz',\n",
                            " '/work/vig/Datasets/aneurysm/internal_test/crop_0.4_vessel_prob/Ts0035_vessel.nii.gz',\n",
                            " '/work/vig/Datasets/aneurysm/internal_test/crop_0.4_vessel_prob/Ts0036_vessel.nii.gz',\n",
                            " '/work/vig/Datasets/aneurysm/internal_test/crop_0.4_vessel_prob/Ts0037_vessel.nii.gz',\n",
                            " '/work/vig/Datasets/aneurysm/internal_test/crop_0.4_vessel_prob/Ts0038_vessel.nii.gz',\n",
                            " '/work/vig/Datasets/aneurysm/internal_test/crop_0.4_vessel_prob/Ts0039_vessel.nii.gz',\n",
                            " '/work/vig/Datasets/aneurysm/internal_test/crop_0.4_vessel_prob/Ts0040_vessel.nii.gz',\n",
                            " '/work/vig/Datasets/aneurysm/internal_test/crop_0.4_vessel_prob/Ts0041_vessel.nii.gz',\n",
                            " '/work/vig/Datasets/aneurysm/internal_test/crop_0.4_vessel_prob/Ts0042_vessel.nii.gz',\n",
                            " '/work/vig/Datasets/aneurysm/internal_test/crop_0.4_vessel_prob/Ts0043_vessel.nii.gz',\n",
                            " '/work/vig/Datasets/aneurysm/internal_test/crop_0.4_vessel_prob/Ts0044_vessel.nii.gz',\n",
                            " '/work/vig/Datasets/aneurysm/internal_test/crop_0.4_vessel_prob/Ts0045_vessel.nii.gz',\n",
                            " '/work/vig/Datasets/aneurysm/internal_test/crop_0.4_vessel_prob/Ts0046_vessel.nii.gz',\n",
                            " '/work/vig/Datasets/aneurysm/internal_test/crop_0.4_vessel_prob/Ts0047_vessel.nii.gz',\n",
                            " '/work/vig/Datasets/aneurysm/internal_test/crop_0.4_vessel_prob/Ts0048_vessel.nii.gz',\n",
                            " '/work/vig/Datasets/aneurysm/internal_test/crop_0.4_vessel_prob/Ts0049_vessel.nii.gz',\n",
                            " '/work/vig/Datasets/aneurysm/internal_test/crop_0.4_vessel_prob/Ts0050_vessel.nii.gz',\n",
                            " '/work/vig/Datasets/aneurysm/internal_test/crop_0.4_vessel_prob/Ts0051_vessel.nii.gz',\n",
                            " '/work/vig/Datasets/aneurysm/internal_test/crop_0.4_vessel_prob/Ts0052_vessel.nii.gz',\n",
                            " '/work/vig/Datasets/aneurysm/internal_test/crop_0.4_vessel_prob/Ts0053_vessel.nii.gz',\n",
                            " '/work/vig/Datasets/aneurysm/internal_test/crop_0.4_vessel_prob/Ts0054_vessel.nii.gz',\n",
                            " '/work/vig/Datasets/aneurysm/internal_test/crop_0.4_vessel_prob/Ts0055_vessel.nii.gz',\n",
                            " '/work/vig/Datasets/aneurysm/internal_test/crop_0.4_vessel_prob/Ts0056_vessel.nii.gz',\n",
                            " '/work/vig/Datasets/aneurysm/internal_test/crop_0.4_vessel_prob/Ts0057_vessel.nii.gz',\n",
                            " '/work/vig/Datasets/aneurysm/internal_test/crop_0.4_vessel_prob/Ts0058_vessel.nii.gz',\n",
                            " '/work/vig/Datasets/aneurysm/internal_test/crop_0.4_vessel_prob/Ts0059_vessel.nii.gz',\n",
                            " '/work/vig/Datasets/aneurysm/internal_test/crop_0.4_vessel_prob/Ts0060_vessel.nii.gz',\n",
                            " '/work/vig/Datasets/aneurysm/internal_test/crop_0.4_vessel_prob/Ts0061_vessel.nii.gz',\n",
                            " '/work/vig/Datasets/aneurysm/internal_test/crop_0.4_vessel_prob/Ts0062_vessel.nii.gz',\n",
                            " '/work/vig/Datasets/aneurysm/internal_test/crop_0.4_vessel_prob/Ts0063_vessel.nii.gz',\n",
                            " '/work/vig/Datasets/aneurysm/internal_test/crop_0.4_vessel_prob/Ts0064_vessel.nii.gz',\n",
                            " '/work/vig/Datasets/aneurysm/internal_test/crop_0.4_vessel_prob/Ts0065_vessel.nii.gz',\n",
                            " '/work/vig/Datasets/aneurysm/internal_test/crop_0.4_vessel_prob/Ts0066_vessel.nii.gz',\n",
                            " '/work/vig/Datasets/aneurysm/internal_test/crop_0.4_vessel_prob/Ts0067_vessel.nii.gz',\n",
                            " '/work/vig/Datasets/aneurysm/internal_test/crop_0.4_vessel_prob/Ts0068_vessel.nii.gz',\n",
                            " '/work/vig/Datasets/aneurysm/internal_test/crop_0.4_vessel_prob/Ts0069_vessel.nii.gz',\n",
                            " '/work/vig/Datasets/aneurysm/internal_test/crop_0.4_vessel_prob/Ts0070_vessel.nii.gz',\n",
                            " '/work/vig/Datasets/aneurysm/internal_test/crop_0.4_vessel_prob/Ts0071_vessel.nii.gz',\n",
                            " '/work/vig/Datasets/aneurysm/internal_test/crop_0.4_vessel_prob/Ts0072_vessel.nii.gz',\n",
                            " '/work/vig/Datasets/aneurysm/internal_test/crop_0.4_vessel_prob/Ts0073_vessel.nii.gz',\n",
                            " '/work/vig/Datasets/aneurysm/internal_test/crop_0.4_vessel_prob/Ts0074_vessel.nii.gz',\n",
                            " '/work/vig/Datasets/aneurysm/internal_test/crop_0.4_vessel_prob/Ts0075_vessel.nii.gz',\n",
                            " '/work/vig/Datasets/aneurysm/internal_test/crop_0.4_vessel_prob/Ts0076_vessel.nii.gz',\n",
                            " '/work/vig/Datasets/aneurysm/internal_test/crop_0.4_vessel_prob/Ts0077_vessel.nii.gz',\n",
                            " '/work/vig/Datasets/aneurysm/internal_test/crop_0.4_vessel_prob/Ts0078_vessel.nii.gz',\n",
                            " '/work/vig/Datasets/aneurysm/internal_test/crop_0.4_vessel_prob/Ts0079_vessel.nii.gz',\n",
                            " '/work/vig/Datasets/aneurysm/internal_test/crop_0.4_vessel_prob/Ts0080_vessel.nii.gz',\n",
                            " '/work/vig/Datasets/aneurysm/internal_test/crop_0.4_vessel_prob/Ts0081_vessel.nii.gz',\n",
                            " '/work/vig/Datasets/aneurysm/internal_test/crop_0.4_vessel_prob/Ts0082_vessel.nii.gz',\n",
                            " '/work/vig/Datasets/aneurysm/internal_test/crop_0.4_vessel_prob/Ts0083_vessel.nii.gz',\n",
                            " '/work/vig/Datasets/aneurysm/internal_test/crop_0.4_vessel_prob/Ts0084_vessel.nii.gz',\n",
                            " '/work/vig/Datasets/aneurysm/internal_test/crop_0.4_vessel_prob/Ts0085_vessel.nii.gz',\n",
                            " '/work/vig/Datasets/aneurysm/internal_test/crop_0.4_vessel_prob/Ts0086_vessel.nii.gz',\n",
                            " '/work/vig/Datasets/aneurysm/internal_test/crop_0.4_vessel_prob/Ts0087_vessel.nii.gz',\n",
                            " '/work/vig/Datasets/aneurysm/internal_test/crop_0.4_vessel_prob/Ts0088_vessel.nii.gz',\n",
                            " '/work/vig/Datasets/aneurysm/internal_test/crop_0.4_vessel_prob/Ts0089_vessel.nii.gz',\n",
                            " '/work/vig/Datasets/aneurysm/internal_test/crop_0.4_vessel_prob/Ts0090_vessel.nii.gz',\n",
                            " '/work/vig/Datasets/aneurysm/internal_test/crop_0.4_vessel_prob/Ts0091_vessel.nii.gz',\n",
                            " '/work/vig/Datasets/aneurysm/internal_test/crop_0.4_vessel_prob/Ts0092_vessel.nii.gz',\n",
                            " '/work/vig/Datasets/aneurysm/internal_test/crop_0.4_vessel_prob/Ts0093_vessel.nii.gz',\n",
                            " '/work/vig/Datasets/aneurysm/internal_test/crop_0.4_vessel_prob/Ts0094_vessel.nii.gz',\n",
                            " '/work/vig/Datasets/aneurysm/internal_test/crop_0.4_vessel_prob/Ts0095_vessel.nii.gz',\n",
                            " '/work/vig/Datasets/aneurysm/internal_test/crop_0.4_vessel_prob/Ts0096_vessel.nii.gz',\n",
                            " '/work/vig/Datasets/aneurysm/internal_test/crop_0.4_vessel_prob/Ts0097_vessel.nii.gz',\n",
                            " '/work/vig/Datasets/aneurysm/internal_test/crop_0.4_vessel_prob/Ts0098_vessel.nii.gz',\n",
                            " '/work/vig/Datasets/aneurysm/internal_test/crop_0.4_vessel_prob/Ts0099_vessel.nii.gz',\n",
                            " '/work/vig/Datasets/aneurysm/internal_test/crop_0.4_vessel_prob/Ts0100_vessel.nii.gz',\n",
                            " '/work/vig/Datasets/aneurysm/internal_test/crop_0.4_vessel_prob/Ts0101_vessel.nii.gz',\n",
                            " '/work/vig/Datasets/aneurysm/internal_test/crop_0.4_vessel_prob/Ts0102_vessel.nii.gz',\n",
                            " '/work/vig/Datasets/aneurysm/internal_test/crop_0.4_vessel_prob/Ts0103_vessel.nii.gz',\n",
                            " '/work/vig/Datasets/aneurysm/internal_test/crop_0.4_vessel_prob/Ts0104_vessel.nii.gz',\n",
                            " '/work/vig/Datasets/aneurysm/internal_test/crop_0.4_vessel_prob/Ts0105_vessel.nii.gz',\n",
                            " '/work/vig/Datasets/aneurysm/internal_test/crop_0.4_vessel_prob/Ts0106_vessel.nii.gz',\n",
                            " '/work/vig/Datasets/aneurysm/internal_test/crop_0.4_vessel_prob/Ts0107_vessel.nii.gz',\n",
                            " '/work/vig/Datasets/aneurysm/internal_test/crop_0.4_vessel_prob/Ts0108_vessel.nii.gz',\n",
                            " '/work/vig/Datasets/aneurysm/internal_test/crop_0.4_vessel_prob/Ts0109_vessel.nii.gz',\n",
                            " '/work/vig/Datasets/aneurysm/internal_test/crop_0.4_vessel_prob/Ts0110_vessel.nii.gz',\n",
                            " '/work/vig/Datasets/aneurysm/internal_test/crop_0.4_vessel_prob/Ts0111_vessel.nii.gz',\n",
                            " '/work/vig/Datasets/aneurysm/internal_test/crop_0.4_vessel_prob/Ts0112_vessel.nii.gz',\n",
                            " '/work/vig/Datasets/aneurysm/internal_test/crop_0.4_vessel_prob/Ts0113_vessel.nii.gz',\n",
                            " '/work/vig/Datasets/aneurysm/internal_test/crop_0.4_vessel_prob/Ts0114_vessel.nii.gz',\n",
                            " '/work/vig/Datasets/aneurysm/internal_test/crop_0.4_vessel_prob/Ts0115_vessel.nii.gz',\n",
                            " '/work/vig/Datasets/aneurysm/internal_test/crop_0.4_vessel_prob/Ts0116_vessel.nii.gz',\n",
                            " '/work/vig/Datasets/aneurysm/internal_test/crop_0.4_vessel_prob/Ts0117_vessel.nii.gz',\n",
                            " '/work/vig/Datasets/aneurysm/internal_test/crop_0.4_vessel_prob/Ts0118_vessel.nii.gz',\n",
                            " '/work/vig/Datasets/aneurysm/internal_test/crop_0.4_vessel_prob/Ts0119_vessel.nii.gz',\n",
                            " '/work/vig/Datasets/aneurysm/internal_test/crop_0.4_vessel_prob/Ts0120_vessel.nii.gz',\n",
                            " '/work/vig/Datasets/aneurysm/internal_test/crop_0.4_vessel_prob/Ts0121_vessel.nii.gz',\n",
                            " '/work/vig/Datasets/aneurysm/internal_test/crop_0.4_vessel_prob/Ts0122_vessel.nii.gz',\n",
                            " '/work/vig/Datasets/aneurysm/internal_test/crop_0.4_vessel_prob/Ts0123_vessel.nii.gz',\n",
                            " '/work/vig/Datasets/aneurysm/internal_test/crop_0.4_vessel_prob/Ts0124_vessel.nii.gz',\n",
                            " '/work/vig/Datasets/aneurysm/internal_test/crop_0.4_vessel_prob/Ts0125_vessel.nii.gz',\n",
                            " '/work/vig/Datasets/aneurysm/internal_test/crop_0.4_vessel_prob/Ts0126_vessel.nii.gz',\n",
                            " '/work/vig/Datasets/aneurysm/internal_test/crop_0.4_vessel_prob/Ts0127_vessel.nii.gz',\n",
                            " '/work/vig/Datasets/aneurysm/internal_test/crop_0.4_vessel_prob/Ts0128_vessel.nii.gz',\n",
                            " '/work/vig/Datasets/aneurysm/internal_test/crop_0.4_vessel_prob/Ts0129_vessel.nii.gz',\n",
                            " '/work/vig/Datasets/aneurysm/internal_test/crop_0.4_vessel_prob/Ts0130_vessel.nii.gz',\n",
                            " '/work/vig/Datasets/aneurysm/internal_test/crop_0.4_vessel_prob/Ts0131_vessel.nii.gz',\n",
                            " '/work/vig/Datasets/aneurysm/internal_test/crop_0.4_vessel_prob/Ts0132_vessel.nii.gz',\n",
                            " '/work/vig/Datasets/aneurysm/internal_test/crop_0.4_vessel_prob/Ts0133_vessel.nii.gz',\n",
                            " '/work/vig/Datasets/aneurysm/internal_test/crop_0.4_vessel_prob/Ts0134_vessel.nii.gz',\n",
                            " '/work/vig/Datasets/aneurysm/internal_test/crop_0.4_vessel_prob/Ts0135_vessel.nii.gz',\n",
                            " '/work/vig/Datasets/aneurysm/internal_test/crop_0.4_vessel_prob/Ts0136_vessel.nii.gz',\n",
                            " '/work/vig/Datasets/aneurysm/internal_test/crop_0.4_vessel_prob/Ts0137_vessel.nii.gz',\n",
                            " '/work/vig/Datasets/aneurysm/internal_test/crop_0.4_vessel_prob/Ts0138_vessel.nii.gz',\n",
                            " '/work/vig/Datasets/aneurysm/internal_test/crop_0.4_vessel_prob/Ts0139_vessel.nii.gz',\n",
                            " '/work/vig/Datasets/aneurysm/internal_test/crop_0.4_vessel_prob/Ts0140_vessel.nii.gz',\n",
                            " '/work/vig/Datasets/aneurysm/internal_test/crop_0.4_vessel_prob/Ts0141_vessel.nii.gz',\n",
                            " '/work/vig/Datasets/aneurysm/internal_test/crop_0.4_vessel_prob/Ts0142_vessel.nii.gz',\n",
                            " '/work/vig/Datasets/aneurysm/internal_test/crop_0.4_vessel_prob/Ts0143_vessel.nii.gz',\n",
                            " '/work/vig/Datasets/aneurysm/internal_test/crop_0.4_vessel_prob/Ts0144_vessel.nii.gz',\n",
                            " '/work/vig/Datasets/aneurysm/internal_test/crop_0.4_vessel_prob/Ts0145_vessel.nii.gz',\n",
                            " '/work/vig/Datasets/aneurysm/internal_test/crop_0.4_vessel_prob/Ts0146_vessel.nii.gz',\n",
                            " '/work/vig/Datasets/aneurysm/internal_test/crop_0.4_vessel_prob/Ts0147_vessel.nii.gz',\n",
                            " '/work/vig/Datasets/aneurysm/internal_test/crop_0.4_vessel_prob/Ts0148_vessel.nii.gz',\n",
                            " '/work/vig/Datasets/aneurysm/internal_test/crop_0.4_vessel_prob/Ts0149_vessel.nii.gz',\n",
                            " '/work/vig/Datasets/aneurysm/internal_test/crop_0.4_vessel_prob/Ts0150_vessel.nii.gz',\n",
                            " '/work/vig/Datasets/aneurysm/internal_test/crop_0.4_vessel_prob/Ts0151_vessel.nii.gz',\n",
                            " '/work/vig/Datasets/aneurysm/internal_test/crop_0.4_vessel_prob/Ts0152_vessel.nii.gz']"
                        ]
                    },
                    "execution_count": 3,
                    "metadata": {},
                    "output_type": "execute_result"
                }
            ],
            "source": [
                "file_paths"
            ]
        },
        {
            "cell_type": "code",
            "execution_count": 4,
            "metadata": {},
            "outputs": [
                {
                    "name": "stderr",
                    "output_type": "stream",
                    "text": [
                        "  0%|          | 0/138 [00:00<?, ?it/s]"
                    ]
                },
                {
                    "name": "stderr",
                    "output_type": "stream",
                    "text": [
                        "100%|██████████| 138/138 [1:47:22<00:00, 46.69s/it]\n"
                    ]
                }
            ],
            "source": [
                "file_paths = external_im_files\n",
                "save_dir = target_external_vessel_dir\n",
                "\n",
                "for file in tqdm.tqdm(file_paths):\n",
                "    scan_seriesuid = file.split(\"/\")[-1]\n",
                "    im_header = sitk.ReadImage(file)\n",
                "    im = sitk.GetArrayFromImage(im_header)\n",
                "    im = (im > threshold).astype(np.uint8)\n",
                "    im_dist = edt.sdf(im, black_border=False, parallel=63)\n",
                "    im_dist_header = sitk.GetImageFromArray(im_dist)\n",
                "    im_dist_header.CopyInformation(im_header)\n",
                "    save_file_path = os.path.join(save_dir, scan_seriesuid.replace(\"_vessel\", \"\"))\n",
                "    sitk.WriteImage(im_dist_header, save_file_path)"
            ]
        },
        {
            "cell_type": "code",
            "execution_count": null,
            "metadata": {},
            "outputs": [],
            "source": [
                "im_header = sitk.ReadImage(file)\n",
                "im_dist = edt.sdf(im, black_border=False, parallel=22)\n",
                "\n",
                "im_dist_saved = sitk.ReadImage(save_file_path)\n",
                "im_dist_saved = sitk.GetArrayFromImage(im_dist_saved)"
            ]
        },
        {
            "cell_type": "code",
            "execution_count": 8,
            "metadata": {},
            "outputs": [
                {
                    "data": {
                        "text/plain": [
                            "((425, 507, 507), (425, 507, 507))"
                        ]
                    },
                    "execution_count": 8,
                    "metadata": {},
                    "output_type": "execute_result"
                }
            ],
            "source": [
                "im_dist.shape, im_dist_saved.shape"
            ]
        },
        {
            "cell_type": "code",
            "execution_count": 10,
            "metadata": {},
            "outputs": [
                {
                    "data": {
                        "text/plain": [
                            "0.0"
                        ]
                    },
                    "execution_count": 10,
                    "metadata": {},
                    "output_type": "execute_result"
                }
            ],
            "source": [
                "(im_dist - im_dist_saved).min()"
            ]
        },
        {
            "cell_type": "code",
            "execution_count": null,
            "metadata": {},
            "outputs": [],
            "source": [
                "header = sitk.ReadImage(\n",
                "    \"/work/vig/Datasets/aneurysm/internal_train/crop_0.4_vessel_edt/Tr0188.nii.gz\"\n",
                ")"
            ]
        },
        {
            "cell_type": "code",
            "execution_count": null,
            "metadata": {},
            "outputs": [],
            "source": []
        }
    ],
    "metadata": {
        "kernelspec": {
            "display_name": "cta",
            "language": "python",
            "name": "python3"
        },
        "language_info": {
            "codemirror_mode": {
                "name": "ipython",
                "version": 3
            },
            "file_extension": ".py",
            "mimetype": "text/x-python",
            "name": "python",
            "nbconvert_exporter": "python",
            "pygments_lexer": "ipython3",
            "version": "3.9.18"
        }
    },
    "nbformat": 4,
    "nbformat_minor": 2
}
