{
    "cells": [
        {
            "cell_type": "code",
            "execution_count": 1,
            "metadata": {},
            "outputs": [],
            "source": [
                "\n",
                "\"\"\"\n",
                "to do\n",
                "recall for aneurysm based\n",
                "    loading aneurysm at instance level\n",
                "    loadding vessel mask\n",
                "then denoise, dilate to increase coverage\n",
                "taking union of annotation with vessel\n",
                "\"\"\"\n",
                "import nibabel as nib\n",
                "from skimage.filters import frangi\n",
                "import numpy as np\n",
                "from glob import glob\n",
                "import matplotlib.pyplot as plt\n",
                "import pandas as pd\n",
                "import os\n",
                "from tqdm import tqdm\n",
                "import scipy.ndimage as ndimage\n",
                "import skimage.measure as measure\n",
                "from collections import defaultdict\n",
                "from scipy.ndimage import morphology\n",
                "import scipy\n",
                "def apply_window(img, min_hu=-1000, max_hu=200):\n",
                "    img = (img-min_hu)/(max_hu-min_hu)\n",
                "    img[img>1.] = 1.\n",
                "    img[img<0.] = 0.\n",
                "    return img\n",
                "def show(img):\n",
                "    plt.close()\n",
                "    plt.figure(figsize=(10,10))\n",
                "    plt.imshow(img, cmap='gray')\n",
                "    plt.show()"
            ]
        },
        {
            "cell_type": "code",
            "execution_count": 9,
            "metadata": {},
            "outputs": [],
            "source": [
                "test_im_dir = \"/work/vig/Datasets/aneurysm/internal_test_0.4\"\n",
                "# test_mask_dir = \"/work/vig/Datasets/aneurysm/internal_label_test\"\n",
                "test_mask_dir = \"/work/vig/Datasets/aneurysm/internal_test/og_0.4_label\"\n",
                "# test_vessel_prob_dir = \"/work/vig/Datasets/aneurysm/internal_test_filtered\"\n",
                "test_vessel_prob_dir = \"/work/vig/Datasets/aneurysm/internal_test_filtered_thr0.1_0.4\"\n",
                "val_im_files = sorted(list(glob(f\"{test_im_dir}/*\")))\n",
                "test_mask_files = sorted(list(glob(f\"{test_mask_dir}/*\")))\n",
                "test_vessel_prob_files = sorted(list(glob(f\"{test_vessel_prob_dir}/*\")))\n"
            ]
        },
        {
            "cell_type": "code",
            "execution_count": 36,
            "metadata": {},
            "outputs": [
                {
                    "data": {
                        "text/plain": [
                            "'/work/vig/Datasets/aneurysm/internal_test_filtered/Ts0001.nii.gz'"
                        ]
                    },
                    "execution_count": 36,
                    "metadata": {},
                    "output_type": "execute_result"
                }
            ],
            "source": [
                "test_vessel_prob_files[0]"
            ]
        },
        {
            "cell_type": "code",
            "execution_count": 3,
            "metadata": {},
            "outputs": [
                {
                    "name": "stderr",
                    "output_type": "stream",
                    "text": [
                        "  3%|▎         | 5/152 [00:17<09:26,  3.85s/it]/tmp/ipykernel_70000/2712512282.py:12: DeprecationWarning: Please use `label` from the `scipy.ndimage` namespace, the `scipy.ndimage.measurements` namespace is deprecated.\n",
                        "  labeled_array, num_features = ndimage.measurements.label(aneur_mask, structure=ndimage.generate_binary_structure(3,3))\n",
                        "100%|██████████| 152/152 [11:30<00:00,  4.54s/it]\n"
                    ]
                },
                {
                    "data": {
                        "text/plain": [
                            "102"
                        ]
                    },
                    "execution_count": 3,
                    "metadata": {},
                    "output_type": "execute_result"
                }
            ],
            "source": [
                "# loading aneurysm data\n",
                "# using region.image and region.bbox to compute overlap\n",
                "non_aneur = []\n",
                "aneurs = {}\n",
                "for x in tqdm(test_mask_files):\n",
                "    id = os.path.split(x)[1]\n",
                "    aneur_mask = nib.load(x)\n",
                "    aneur_mask = aneur_mask.get_fdata()\n",
                "    if not aneur_mask.sum():\n",
                "        non_aneur.append(id)\n",
                "        continue\n",
                "    labeled_array, num_features = ndimage.measurements.label(aneur_mask, structure=ndimage.generate_binary_structure(3,3))\n",
                "    regions = measure.regionprops(labeled_array)\n",
                "    aneurs[id] = regions\n",
                "len(aneurs)\n",
                "        "
            ]
        },
        {
            "cell_type": "code",
            "execution_count": 10,
            "metadata": {},
            "outputs": [
                {
                    "name": "stderr",
                    "output_type": "stream",
                    "text": [
                        "  4%|▍         | 6/152 [00:00<00:14, 10.15it/s]"
                    ]
                },
                {
                    "name": "stdout",
                    "output_type": "stream",
                    "text": [
                        "9763244.0\n",
                        "79536627.0\n"
                    ]
                },
                {
                    "name": "stderr",
                    "output_type": "stream",
                    "text": [
                        "  5%|▌         | 8/152 [00:04<01:43,  1.40it/s]"
                    ]
                },
                {
                    "name": "stdout",
                    "output_type": "stream",
                    "text": [
                        "28099585.0\n"
                    ]
                },
                {
                    "name": "stderr",
                    "output_type": "stream",
                    "text": [
                        "  6%|▌         | 9/152 [00:07<02:46,  1.16s/it]"
                    ]
                },
                {
                    "name": "stdout",
                    "output_type": "stream",
                    "text": [
                        "56910001.0\n"
                    ]
                },
                {
                    "name": "stderr",
                    "output_type": "stream",
                    "text": [
                        "  7%|▋         | 10/152 [00:08<02:25,  1.03s/it]"
                    ]
                },
                {
                    "name": "stdout",
                    "output_type": "stream",
                    "text": [
                        "11270994.0\n"
                    ]
                },
                {
                    "name": "stderr",
                    "output_type": "stream",
                    "text": [
                        "  7%|▋         | 11/152 [00:09<02:19,  1.01it/s]"
                    ]
                },
                {
                    "name": "stdout",
                    "output_type": "stream",
                    "text": [
                        "13504564.0\n"
                    ]
                },
                {
                    "name": "stderr",
                    "output_type": "stream",
                    "text": [
                        "  8%|▊         | 12/152 [00:09<02:01,  1.15it/s]"
                    ]
                },
                {
                    "name": "stdout",
                    "output_type": "stream",
                    "text": [
                        "9446426.0\n"
                    ]
                },
                {
                    "name": "stderr",
                    "output_type": "stream",
                    "text": [
                        "  9%|▊         | 13/152 [00:10<01:53,  1.22it/s]"
                    ]
                },
                {
                    "name": "stdout",
                    "output_type": "stream",
                    "text": [
                        "10209751.0\n"
                    ]
                },
                {
                    "name": "stderr",
                    "output_type": "stream",
                    "text": [
                        "  9%|▉         | 14/152 [00:10<01:46,  1.30it/s]"
                    ]
                },
                {
                    "name": "stdout",
                    "output_type": "stream",
                    "text": [
                        "8941555.0\n"
                    ]
                },
                {
                    "name": "stderr",
                    "output_type": "stream",
                    "text": [
                        " 10%|▉         | 15/152 [00:11<01:38,  1.40it/s]"
                    ]
                },
                {
                    "name": "stdout",
                    "output_type": "stream",
                    "text": [
                        "14599670.0\n"
                    ]
                },
                {
                    "name": "stderr",
                    "output_type": "stream",
                    "text": [
                        " 11%|█         | 16/152 [00:12<01:30,  1.50it/s]"
                    ]
                },
                {
                    "name": "stdout",
                    "output_type": "stream",
                    "text": [
                        "11819080.0\n"
                    ]
                },
                {
                    "name": "stderr",
                    "output_type": "stream",
                    "text": [
                        " 34%|███▍      | 52/152 [00:13<00:08, 12.46it/s]"
                    ]
                },
                {
                    "name": "stdout",
                    "output_type": "stream",
                    "text": [
                        "37767048.0\n"
                    ]
                },
                {
                    "name": "stderr",
                    "output_type": "stream",
                    "text": [
                        " 35%|███▍      | 53/152 [00:14<00:09, 10.16it/s]"
                    ]
                },
                {
                    "name": "stdout",
                    "output_type": "stream",
                    "text": [
                        "7846300.0\n"
                    ]
                },
                {
                    "name": "stderr",
                    "output_type": "stream",
                    "text": [
                        " 36%|███▌      | 54/152 [00:14<00:13,  7.48it/s]"
                    ]
                },
                {
                    "name": "stdout",
                    "output_type": "stream",
                    "text": [
                        "27468823.0\n"
                    ]
                },
                {
                    "name": "stderr",
                    "output_type": "stream",
                    "text": [
                        " 36%|███▌      | 55/152 [00:15<00:15,  6.42it/s]"
                    ]
                },
                {
                    "name": "stdout",
                    "output_type": "stream",
                    "text": [
                        "9477518.0\n"
                    ]
                },
                {
                    "name": "stderr",
                    "output_type": "stream",
                    "text": [
                        " 37%|███▋      | 56/152 [00:15<00:17,  5.43it/s]"
                    ]
                },
                {
                    "name": "stdout",
                    "output_type": "stream",
                    "text": [
                        "8013608.0\n"
                    ]
                },
                {
                    "name": "stderr",
                    "output_type": "stream",
                    "text": [
                        " 38%|███▊      | 57/152 [00:16<00:19,  4.84it/s]"
                    ]
                },
                {
                    "name": "stdout",
                    "output_type": "stream",
                    "text": [
                        "9665936.0\n"
                    ]
                },
                {
                    "name": "stderr",
                    "output_type": "stream",
                    "text": [
                        " 38%|███▊      | 58/152 [00:17<00:28,  3.33it/s]"
                    ]
                },
                {
                    "name": "stdout",
                    "output_type": "stream",
                    "text": [
                        "32293537.0\n"
                    ]
                },
                {
                    "name": "stderr",
                    "output_type": "stream",
                    "text": [
                        " 39%|███▉      | 59/152 [00:18<00:42,  2.18it/s]"
                    ]
                },
                {
                    "name": "stdout",
                    "output_type": "stream",
                    "text": [
                        "37879831.0\n"
                    ]
                },
                {
                    "name": "stderr",
                    "output_type": "stream",
                    "text": [
                        " 40%|████      | 61/152 [00:18<00:34,  2.61it/s]"
                    ]
                },
                {
                    "name": "stdout",
                    "output_type": "stream",
                    "text": [
                        "10561457.0\n"
                    ]
                },
                {
                    "name": "stderr",
                    "output_type": "stream",
                    "text": [
                        " 41%|████      | 62/152 [00:19<00:37,  2.41it/s]"
                    ]
                },
                {
                    "name": "stdout",
                    "output_type": "stream",
                    "text": [
                        "6943439.0\n"
                    ]
                },
                {
                    "name": "stderr",
                    "output_type": "stream",
                    "text": [
                        " 41%|████▏     | 63/152 [00:19<00:37,  2.37it/s]"
                    ]
                },
                {
                    "name": "stdout",
                    "output_type": "stream",
                    "text": [
                        "9004242.0\n"
                    ]
                },
                {
                    "name": "stderr",
                    "output_type": "stream",
                    "text": [
                        " 42%|████▏     | 64/152 [00:20<00:39,  2.21it/s]"
                    ]
                },
                {
                    "name": "stdout",
                    "output_type": "stream",
                    "text": [
                        "9265432.0\n"
                    ]
                },
                {
                    "name": "stderr",
                    "output_type": "stream",
                    "text": [
                        " 43%|████▎     | 65/152 [00:21<00:43,  2.01it/s]"
                    ]
                },
                {
                    "name": "stdout",
                    "output_type": "stream",
                    "text": [
                        "25844493.0\n"
                    ]
                },
                {
                    "name": "stderr",
                    "output_type": "stream",
                    "text": [
                        " 43%|████▎     | 66/152 [00:22<00:59,  1.45it/s]"
                    ]
                },
                {
                    "name": "stdout",
                    "output_type": "stream",
                    "text": [
                        "40203666.0\n"
                    ]
                },
                {
                    "name": "stderr",
                    "output_type": "stream",
                    "text": [
                        " 44%|████▍     | 67/152 [00:23<01:11,  1.19it/s]"
                    ]
                },
                {
                    "name": "stdout",
                    "output_type": "stream",
                    "text": [
                        "28996605.0\n"
                    ]
                },
                {
                    "name": "stderr",
                    "output_type": "stream",
                    "text": [
                        " 45%|████▍     | 68/152 [00:24<01:22,  1.02it/s]"
                    ]
                },
                {
                    "name": "stdout",
                    "output_type": "stream",
                    "text": [
                        "43165094.0\n"
                    ]
                },
                {
                    "name": "stderr",
                    "output_type": "stream",
                    "text": [
                        " 45%|████▌     | 69/152 [00:26<01:28,  1.07s/it]"
                    ]
                },
                {
                    "name": "stdout",
                    "output_type": "stream",
                    "text": [
                        "28056284.0\n"
                    ]
                },
                {
                    "name": "stderr",
                    "output_type": "stream",
                    "text": [
                        " 47%|████▋     | 71/152 [00:27<01:15,  1.08it/s]"
                    ]
                },
                {
                    "name": "stdout",
                    "output_type": "stream",
                    "text": [
                        "34836595.0\n"
                    ]
                },
                {
                    "name": "stderr",
                    "output_type": "stream",
                    "text": [
                        " 47%|████▋     | 72/152 [00:28<01:20,  1.01s/it]"
                    ]
                },
                {
                    "name": "stdout",
                    "output_type": "stream",
                    "text": [
                        "37057928.0\n"
                    ]
                },
                {
                    "name": "stderr",
                    "output_type": "stream",
                    "text": [
                        " 48%|████▊     | 73/152 [00:30<01:25,  1.08s/it]"
                    ]
                },
                {
                    "name": "stdout",
                    "output_type": "stream",
                    "text": [
                        "31157234.0\n"
                    ]
                },
                {
                    "name": "stderr",
                    "output_type": "stream",
                    "text": [
                        " 49%|████▊     | 74/152 [00:31<01:27,  1.12s/it]"
                    ]
                },
                {
                    "name": "stdout",
                    "output_type": "stream",
                    "text": [
                        "25365602.0\n"
                    ]
                },
                {
                    "name": "stderr",
                    "output_type": "stream",
                    "text": [
                        " 49%|████▉     | 75/152 [00:32<01:27,  1.14s/it]"
                    ]
                },
                {
                    "name": "stdout",
                    "output_type": "stream",
                    "text": [
                        "28939686.0\n"
                    ]
                },
                {
                    "name": "stderr",
                    "output_type": "stream",
                    "text": [
                        " 50%|█████     | 76/152 [00:34<01:31,  1.21s/it]"
                    ]
                },
                {
                    "name": "stdout",
                    "output_type": "stream",
                    "text": [
                        "31702013.0\n"
                    ]
                },
                {
                    "name": "stderr",
                    "output_type": "stream",
                    "text": [
                        " 51%|█████     | 77/152 [00:35<01:31,  1.22s/it]"
                    ]
                },
                {
                    "name": "stdout",
                    "output_type": "stream",
                    "text": [
                        "42844848.0\n"
                    ]
                },
                {
                    "name": "stderr",
                    "output_type": "stream",
                    "text": [
                        " 51%|█████▏    | 78/152 [00:36<01:33,  1.26s/it]"
                    ]
                },
                {
                    "name": "stdout",
                    "output_type": "stream",
                    "text": [
                        "31666625.0\n"
                    ]
                },
                {
                    "name": "stderr",
                    "output_type": "stream",
                    "text": [
                        " 52%|█████▏    | 79/152 [00:37<01:30,  1.24s/it]"
                    ]
                },
                {
                    "name": "stdout",
                    "output_type": "stream",
                    "text": [
                        "34155850.0\n"
                    ]
                },
                {
                    "name": "stderr",
                    "output_type": "stream",
                    "text": [
                        " 53%|█████▎    | 81/152 [00:39<01:08,  1.04it/s]"
                    ]
                },
                {
                    "name": "stdout",
                    "output_type": "stream",
                    "text": [
                        "36240361.0\n"
                    ]
                },
                {
                    "name": "stderr",
                    "output_type": "stream",
                    "text": [
                        " 54%|█████▍    | 82/152 [00:40<01:22,  1.18s/it]"
                    ]
                },
                {
                    "name": "stdout",
                    "output_type": "stream",
                    "text": [
                        "34293791.0\n"
                    ]
                },
                {
                    "name": "stderr",
                    "output_type": "stream",
                    "text": [
                        " 55%|█████▍    | 83/152 [00:41<01:16,  1.11s/it]"
                    ]
                },
                {
                    "name": "stdout",
                    "output_type": "stream",
                    "text": [
                        "31046690.0\n"
                    ]
                },
                {
                    "name": "stderr",
                    "output_type": "stream",
                    "text": [
                        " 55%|█████▌    | 84/152 [00:42<01:15,  1.11s/it]"
                    ]
                },
                {
                    "name": "stdout",
                    "output_type": "stream",
                    "text": [
                        "26420790.0\n"
                    ]
                },
                {
                    "name": "stderr",
                    "output_type": "stream",
                    "text": [
                        " 56%|█████▌    | 85/152 [00:44<01:21,  1.22s/it]"
                    ]
                },
                {
                    "name": "stdout",
                    "output_type": "stream",
                    "text": [
                        "36876154.0\n"
                    ]
                },
                {
                    "name": "stderr",
                    "output_type": "stream",
                    "text": [
                        " 57%|█████▋    | 86/152 [00:45<01:23,  1.26s/it]"
                    ]
                },
                {
                    "name": "stdout",
                    "output_type": "stream",
                    "text": [
                        "35228917.0\n"
                    ]
                },
                {
                    "name": "stderr",
                    "output_type": "stream",
                    "text": [
                        " 57%|█████▋    | 87/152 [00:47<01:22,  1.27s/it]"
                    ]
                },
                {
                    "name": "stdout",
                    "output_type": "stream",
                    "text": [
                        "27287268.0\n"
                    ]
                },
                {
                    "name": "stderr",
                    "output_type": "stream",
                    "text": [
                        " 58%|█████▊    | 88/152 [00:48<01:22,  1.29s/it]"
                    ]
                },
                {
                    "name": "stdout",
                    "output_type": "stream",
                    "text": [
                        "31332864.0\n"
                    ]
                },
                {
                    "name": "stderr",
                    "output_type": "stream",
                    "text": [
                        " 59%|█████▊    | 89/152 [00:49<01:14,  1.18s/it]"
                    ]
                },
                {
                    "name": "stdout",
                    "output_type": "stream",
                    "text": [
                        "31588604.0\n"
                    ]
                },
                {
                    "name": "stderr",
                    "output_type": "stream",
                    "text": [
                        " 60%|█████▉    | 91/152 [00:49<00:45,  1.35it/s]"
                    ]
                },
                {
                    "name": "stdout",
                    "output_type": "stream",
                    "text": [
                        "10272245.0\n"
                    ]
                },
                {
                    "name": "stderr",
                    "output_type": "stream",
                    "text": [
                        " 61%|██████    | 92/152 [00:50<00:41,  1.44it/s]"
                    ]
                },
                {
                    "name": "stdout",
                    "output_type": "stream",
                    "text": [
                        "12608880.0\n"
                    ]
                },
                {
                    "name": "stderr",
                    "output_type": "stream",
                    "text": [
                        " 61%|██████    | 93/152 [00:50<00:39,  1.49it/s]"
                    ]
                },
                {
                    "name": "stdout",
                    "output_type": "stream",
                    "text": [
                        "15549000.0\n"
                    ]
                },
                {
                    "name": "stderr",
                    "output_type": "stream",
                    "text": [
                        " 62%|██████▏   | 94/152 [00:51<00:34,  1.66it/s]"
                    ]
                },
                {
                    "name": "stdout",
                    "output_type": "stream",
                    "text": [
                        "9014778.0\n"
                    ]
                },
                {
                    "name": "stderr",
                    "output_type": "stream",
                    "text": [
                        " 62%|██████▎   | 95/152 [00:51<00:31,  1.83it/s]"
                    ]
                },
                {
                    "name": "stdout",
                    "output_type": "stream",
                    "text": [
                        "9552835.0\n"
                    ]
                },
                {
                    "name": "stderr",
                    "output_type": "stream",
                    "text": [
                        " 63%|██████▎   | 96/152 [00:52<00:27,  2.05it/s]"
                    ]
                },
                {
                    "name": "stdout",
                    "output_type": "stream",
                    "text": [
                        "11880494.0\n"
                    ]
                },
                {
                    "name": "stderr",
                    "output_type": "stream",
                    "text": [
                        " 64%|██████▍   | 97/152 [00:52<00:28,  1.96it/s]"
                    ]
                },
                {
                    "name": "stdout",
                    "output_type": "stream",
                    "text": [
                        "10196320.0\n"
                    ]
                },
                {
                    "name": "stderr",
                    "output_type": "stream",
                    "text": [
                        " 64%|██████▍   | 98/152 [00:53<00:26,  2.01it/s]"
                    ]
                },
                {
                    "name": "stdout",
                    "output_type": "stream",
                    "text": [
                        "9565818.0\n"
                    ]
                },
                {
                    "name": "stderr",
                    "output_type": "stream",
                    "text": [
                        " 65%|██████▌   | 99/152 [00:53<00:24,  2.19it/s]"
                    ]
                },
                {
                    "name": "stdout",
                    "output_type": "stream",
                    "text": [
                        "9081242.0\n"
                    ]
                },
                {
                    "name": "stderr",
                    "output_type": "stream",
                    "text": [
                        " 66%|██████▋   | 101/152 [00:54<00:18,  2.73it/s]"
                    ]
                },
                {
                    "name": "stdout",
                    "output_type": "stream",
                    "text": [
                        "7188330.0\n"
                    ]
                },
                {
                    "name": "stderr",
                    "output_type": "stream",
                    "text": [
                        " 67%|██████▋   | 102/152 [00:54<00:24,  2.07it/s]"
                    ]
                },
                {
                    "name": "stdout",
                    "output_type": "stream",
                    "text": [
                        "7272665.0\n"
                    ]
                },
                {
                    "name": "stderr",
                    "output_type": "stream",
                    "text": [
                        " 68%|██████▊   | 103/152 [00:55<00:24,  2.01it/s]"
                    ]
                },
                {
                    "name": "stdout",
                    "output_type": "stream",
                    "text": [
                        "10033640.0\n"
                    ]
                },
                {
                    "name": "stderr",
                    "output_type": "stream",
                    "text": [
                        " 68%|██████▊   | 104/152 [00:55<00:23,  2.07it/s]"
                    ]
                },
                {
                    "name": "stdout",
                    "output_type": "stream",
                    "text": [
                        "8602833.0\n"
                    ]
                },
                {
                    "name": "stderr",
                    "output_type": "stream",
                    "text": [
                        " 69%|██████▉   | 105/152 [00:56<00:24,  1.95it/s]"
                    ]
                },
                {
                    "name": "stdout",
                    "output_type": "stream",
                    "text": [
                        "9460879.0\n"
                    ]
                },
                {
                    "name": "stderr",
                    "output_type": "stream",
                    "text": [
                        " 70%|██████▉   | 106/152 [00:56<00:23,  1.96it/s]"
                    ]
                },
                {
                    "name": "stdout",
                    "output_type": "stream",
                    "text": [
                        "8940066.0\n"
                    ]
                },
                {
                    "name": "stderr",
                    "output_type": "stream",
                    "text": [
                        " 70%|███████   | 107/152 [00:57<00:22,  2.01it/s]"
                    ]
                },
                {
                    "name": "stdout",
                    "output_type": "stream",
                    "text": [
                        "9071675.0\n"
                    ]
                },
                {
                    "name": "stderr",
                    "output_type": "stream",
                    "text": [
                        " 71%|███████   | 108/152 [00:57<00:21,  2.05it/s]"
                    ]
                },
                {
                    "name": "stdout",
                    "output_type": "stream",
                    "text": [
                        "10020253.0\n"
                    ]
                },
                {
                    "name": "stderr",
                    "output_type": "stream",
                    "text": [
                        " 72%|███████▏  | 109/152 [00:58<00:18,  2.37it/s]"
                    ]
                },
                {
                    "name": "stdout",
                    "output_type": "stream",
                    "text": [
                        "7726738.0\n"
                    ]
                },
                {
                    "name": "stderr",
                    "output_type": "stream",
                    "text": [
                        " 73%|███████▎  | 111/152 [00:58<00:13,  2.97it/s]"
                    ]
                },
                {
                    "name": "stdout",
                    "output_type": "stream",
                    "text": [
                        "10404267.0\n"
                    ]
                },
                {
                    "name": "stderr",
                    "output_type": "stream",
                    "text": [
                        " 74%|███████▎  | 112/152 [00:59<00:16,  2.47it/s]"
                    ]
                },
                {
                    "name": "stdout",
                    "output_type": "stream",
                    "text": [
                        "10142145.0\n"
                    ]
                },
                {
                    "name": "stderr",
                    "output_type": "stream",
                    "text": [
                        " 74%|███████▍  | 113/152 [00:59<00:16,  2.40it/s]"
                    ]
                },
                {
                    "name": "stdout",
                    "output_type": "stream",
                    "text": [
                        "9062819.0\n"
                    ]
                },
                {
                    "name": "stderr",
                    "output_type": "stream",
                    "text": [
                        " 75%|███████▌  | 114/152 [01:00<00:16,  2.27it/s]"
                    ]
                },
                {
                    "name": "stdout",
                    "output_type": "stream",
                    "text": [
                        "7254629.0\n"
                    ]
                },
                {
                    "name": "stderr",
                    "output_type": "stream",
                    "text": [
                        " 76%|███████▌  | 115/152 [01:00<00:17,  2.13it/s]"
                    ]
                },
                {
                    "name": "stdout",
                    "output_type": "stream",
                    "text": [
                        "9692969.0\n"
                    ]
                },
                {
                    "name": "stderr",
                    "output_type": "stream",
                    "text": [
                        " 76%|███████▋  | 116/152 [01:01<00:17,  2.06it/s]"
                    ]
                },
                {
                    "name": "stdout",
                    "output_type": "stream",
                    "text": [
                        "8961379.0\n"
                    ]
                },
                {
                    "name": "stderr",
                    "output_type": "stream",
                    "text": [
                        " 77%|███████▋  | 117/152 [01:01<00:15,  2.20it/s]"
                    ]
                },
                {
                    "name": "stdout",
                    "output_type": "stream",
                    "text": [
                        "10470384.0\n"
                    ]
                },
                {
                    "name": "stderr",
                    "output_type": "stream",
                    "text": [
                        " 78%|███████▊  | 118/152 [01:02<00:17,  1.94it/s]"
                    ]
                },
                {
                    "name": "stdout",
                    "output_type": "stream",
                    "text": [
                        "10928937.0\n"
                    ]
                },
                {
                    "name": "stderr",
                    "output_type": "stream",
                    "text": [
                        " 78%|███████▊  | 119/152 [01:02<00:15,  2.08it/s]"
                    ]
                },
                {
                    "name": "stdout",
                    "output_type": "stream",
                    "text": [
                        "9682839.0\n"
                    ]
                },
                {
                    "name": "stderr",
                    "output_type": "stream",
                    "text": [
                        " 80%|███████▉  | 121/152 [01:03<00:10,  2.85it/s]"
                    ]
                },
                {
                    "name": "stdout",
                    "output_type": "stream",
                    "text": [
                        "7459013.0\n"
                    ]
                },
                {
                    "name": "stderr",
                    "output_type": "stream",
                    "text": [
                        " 80%|████████  | 122/152 [01:03<00:10,  2.79it/s]"
                    ]
                },
                {
                    "name": "stdout",
                    "output_type": "stream",
                    "text": [
                        "8379113.0\n"
                    ]
                },
                {
                    "name": "stderr",
                    "output_type": "stream",
                    "text": [
                        " 81%|████████  | 123/152 [01:04<00:12,  2.25it/s]"
                    ]
                },
                {
                    "name": "stdout",
                    "output_type": "stream",
                    "text": [
                        "13465394.0\n"
                    ]
                },
                {
                    "name": "stderr",
                    "output_type": "stream",
                    "text": [
                        " 82%|████████▏ | 124/152 [01:04<00:11,  2.38it/s]"
                    ]
                },
                {
                    "name": "stdout",
                    "output_type": "stream",
                    "text": [
                        "8512167.0\n"
                    ]
                },
                {
                    "name": "stderr",
                    "output_type": "stream",
                    "text": [
                        " 82%|████████▏ | 125/152 [01:05<00:13,  2.06it/s]"
                    ]
                },
                {
                    "name": "stdout",
                    "output_type": "stream",
                    "text": [
                        "11191133.0\n"
                    ]
                },
                {
                    "name": "stderr",
                    "output_type": "stream",
                    "text": [
                        " 83%|████████▎ | 126/152 [01:05<00:11,  2.24it/s]"
                    ]
                },
                {
                    "name": "stdout",
                    "output_type": "stream",
                    "text": [
                        "8691856.0\n"
                    ]
                },
                {
                    "name": "stderr",
                    "output_type": "stream",
                    "text": [
                        " 84%|████████▎ | 127/152 [01:05<00:11,  2.23it/s]"
                    ]
                },
                {
                    "name": "stdout",
                    "output_type": "stream",
                    "text": [
                        "10405630.0\n"
                    ]
                },
                {
                    "name": "stderr",
                    "output_type": "stream",
                    "text": [
                        " 84%|████████▍ | 128/152 [01:06<00:10,  2.34it/s]"
                    ]
                },
                {
                    "name": "stdout",
                    "output_type": "stream",
                    "text": [
                        "7581180.0\n"
                    ]
                },
                {
                    "name": "stderr",
                    "output_type": "stream",
                    "text": [
                        " 85%|████████▍ | 129/152 [01:06<00:09,  2.46it/s]"
                    ]
                },
                {
                    "name": "stdout",
                    "output_type": "stream",
                    "text": [
                        "8817214.0\n"
                    ]
                },
                {
                    "name": "stderr",
                    "output_type": "stream",
                    "text": [
                        " 86%|████████▌ | 131/152 [01:07<00:06,  3.06it/s]"
                    ]
                },
                {
                    "name": "stdout",
                    "output_type": "stream",
                    "text": [
                        "8560904.0\n"
                    ]
                },
                {
                    "name": "stderr",
                    "output_type": "stream",
                    "text": [
                        " 87%|████████▋ | 132/152 [01:08<00:12,  1.66it/s]"
                    ]
                },
                {
                    "name": "stdout",
                    "output_type": "stream",
                    "text": [
                        "33689804.0\n"
                    ]
                },
                {
                    "name": "stderr",
                    "output_type": "stream",
                    "text": [
                        " 88%|████████▊ | 133/152 [01:08<00:10,  1.86it/s]"
                    ]
                },
                {
                    "name": "stdout",
                    "output_type": "stream",
                    "text": [
                        "9600095.0\n"
                    ]
                },
                {
                    "name": "stderr",
                    "output_type": "stream",
                    "text": [
                        " 88%|████████▊ | 134/152 [01:09<00:09,  1.95it/s]"
                    ]
                },
                {
                    "name": "stdout",
                    "output_type": "stream",
                    "text": [
                        "8517890.0\n"
                    ]
                },
                {
                    "name": "stderr",
                    "output_type": "stream",
                    "text": [
                        " 89%|████████▉ | 135/152 [01:10<00:09,  1.72it/s]"
                    ]
                },
                {
                    "name": "stdout",
                    "output_type": "stream",
                    "text": [
                        "11746743.0\n"
                    ]
                },
                {
                    "name": "stderr",
                    "output_type": "stream",
                    "text": [
                        " 89%|████████▉ | 136/152 [01:10<00:09,  1.71it/s]"
                    ]
                },
                {
                    "name": "stdout",
                    "output_type": "stream",
                    "text": [
                        "10124155.0\n"
                    ]
                },
                {
                    "name": "stderr",
                    "output_type": "stream",
                    "text": [
                        " 90%|█████████ | 137/152 [01:11<00:09,  1.58it/s]"
                    ]
                },
                {
                    "name": "stdout",
                    "output_type": "stream",
                    "text": [
                        "30044321.0\n"
                    ]
                },
                {
                    "name": "stderr",
                    "output_type": "stream",
                    "text": [
                        " 91%|█████████ | 138/152 [01:11<00:08,  1.73it/s]"
                    ]
                },
                {
                    "name": "stdout",
                    "output_type": "stream",
                    "text": [
                        "9443306.0\n"
                    ]
                },
                {
                    "name": "stderr",
                    "output_type": "stream",
                    "text": [
                        " 91%|█████████▏| 139/152 [01:12<00:07,  1.80it/s]"
                    ]
                },
                {
                    "name": "stdout",
                    "output_type": "stream",
                    "text": [
                        "9126870.0\n"
                    ]
                },
                {
                    "name": "stderr",
                    "output_type": "stream",
                    "text": [
                        " 93%|█████████▎| 141/152 [01:13<00:04,  2.30it/s]"
                    ]
                },
                {
                    "name": "stdout",
                    "output_type": "stream",
                    "text": [
                        "9299627.0\n"
                    ]
                },
                {
                    "name": "stderr",
                    "output_type": "stream",
                    "text": [
                        " 93%|█████████▎| 142/152 [01:13<00:04,  2.21it/s]"
                    ]
                },
                {
                    "name": "stdout",
                    "output_type": "stream",
                    "text": [
                        "12311508.0\n"
                    ]
                },
                {
                    "name": "stderr",
                    "output_type": "stream",
                    "text": [
                        " 94%|█████████▍| 143/152 [01:14<00:04,  2.14it/s]"
                    ]
                },
                {
                    "name": "stdout",
                    "output_type": "stream",
                    "text": [
                        "7247226.0\n"
                    ]
                },
                {
                    "name": "stderr",
                    "output_type": "stream",
                    "text": [
                        " 95%|█████████▍| 144/152 [01:14<00:03,  2.19it/s]"
                    ]
                },
                {
                    "name": "stdout",
                    "output_type": "stream",
                    "text": [
                        "8838621.0\n"
                    ]
                },
                {
                    "name": "stderr",
                    "output_type": "stream",
                    "text": [
                        " 95%|█████████▌| 145/152 [01:14<00:02,  2.52it/s]"
                    ]
                },
                {
                    "name": "stdout",
                    "output_type": "stream",
                    "text": [
                        "7662033.0\n"
                    ]
                },
                {
                    "name": "stderr",
                    "output_type": "stream",
                    "text": [
                        " 96%|█████████▌| 146/152 [01:15<00:03,  1.61it/s]"
                    ]
                },
                {
                    "name": "stdout",
                    "output_type": "stream",
                    "text": [
                        "26511185.0\n"
                    ]
                },
                {
                    "name": "stderr",
                    "output_type": "stream",
                    "text": [
                        " 97%|█████████▋| 147/152 [01:16<00:02,  1.85it/s]"
                    ]
                },
                {
                    "name": "stdout",
                    "output_type": "stream",
                    "text": [
                        "9039400.0\n"
                    ]
                },
                {
                    "name": "stderr",
                    "output_type": "stream",
                    "text": [
                        " 97%|█████████▋| 148/152 [01:17<00:03,  1.30it/s]"
                    ]
                },
                {
                    "name": "stdout",
                    "output_type": "stream",
                    "text": [
                        "29368624.0\n"
                    ]
                },
                {
                    "name": "stderr",
                    "output_type": "stream",
                    "text": [
                        " 98%|█████████▊| 149/152 [01:18<00:02,  1.07it/s]"
                    ]
                },
                {
                    "name": "stdout",
                    "output_type": "stream",
                    "text": [
                        "25729457.0\n"
                    ]
                },
                {
                    "name": "stderr",
                    "output_type": "stream",
                    "text": [
                        " 99%|█████████▉| 151/152 [01:20<00:00,  1.23it/s]"
                    ]
                },
                {
                    "name": "stdout",
                    "output_type": "stream",
                    "text": [
                        "29231558.0\n"
                    ]
                },
                {
                    "name": "stderr",
                    "output_type": "stream",
                    "text": [
                        "100%|██████████| 152/152 [01:21<00:00,  1.88it/s]"
                    ]
                },
                {
                    "name": "stdout",
                    "output_type": "stream",
                    "text": [
                        "30717693.0\n"
                    ]
                },
                {
                    "name": "stderr",
                    "output_type": "stream",
                    "text": [
                        "\n"
                    ]
                }
            ],
            "source": [
                "# loadding vessel prob\n",
                "vessel_probs = {}\n",
                "for x in tqdm(test_vessel_prob_files):\n",
                "    id = os.path.split(x)[1]\n",
                "    if not id in aneurs:\n",
                "        continue\n",
                "    vessel_prob = nib.load(x)\n",
                "    try:\n",
                "        a = vessel_prob.get_fdata()\n",
                "        print(a.sum())\n",
                "        vessel_probs[id] = a\n",
                "    except Exception:\n",
                "        print(id)\n",
                "        continue\n",
                "    "
            ]
        },
        {
            "cell_type": "code",
            "execution_count": null,
            "metadata": {},
            "outputs": [],
            "source": []
        },
        {
            "attachments": {},
            "cell_type": "markdown",
            "metadata": {},
            "source": []
        },
        {
            "cell_type": "code",
            "execution_count": 6,
            "metadata": {},
            "outputs": [
                {
                    "name": "stdout",
                    "output_type": "stream",
                    "text": [
                        "1028.0\n"
                    ]
                },
                {
                    "name": "stderr",
                    "output_type": "stream",
                    "text": [
                        "/tmp/ipykernel_39343/4183502795.py:5: DeprecationWarning: Please use `label` from the `scipy.ndimage` namespace, the `scipy.ndimage.measurements` namespace is deprecated.\n",
                        "  labeled_array, num_features = ndimage.measurements.label(aneur_mask, structure=ndimage.generate_binary_structure(3,3))\n"
                    ]
                }
            ],
            "source": [
                "x = test_mask_files[11]\n",
                "aneur_mask = nib.load(x)\n",
                "aneur_mask = aneur_mask.get_fdata()\n",
                "print(aneur_mask.sum())\n",
                "labeled_array, num_features = ndimage.measurements.label(aneur_mask, structure=ndimage.generate_binary_structure(3,3))\n",
                "region = measure.regionprops(labeled_array)"
            ]
        },
        {
            "cell_type": "code",
            "execution_count": 11,
            "metadata": {},
            "outputs": [
                {
                    "name": "stderr",
                    "output_type": "stream",
                    "text": [
                        "100%|██████████| 102/102 [00:00<00:00, 803.57it/s]\n"
                    ]
                },
                {
                    "data": {
                        "text/plain": [
                            "{'0.6': 124, '0.7': 123, '0.8': 123, '0.9': 117, '0.95': 116}"
                        ]
                    },
                    "execution_count": 11,
                    "metadata": {},
                    "output_type": "execute_result"
                }
            ],
            "source": [
                "coverage = [0.6, 0.7, 0.8, 0.9, 0.95]\n",
                "\n",
                "covered = {str(x):0 for x in coverage}\n",
                "for scan_id, vessel_mask in tqdm(vessel_probs.items()):\n",
                "    regions = aneurs[scan_id]\n",
                "    for region in regions:\n",
                "        bbox = region.bbox\n",
                "        box = vessel_mask[bbox[0]:bbox[3], bbox[1]:bbox[4], bbox[2]:bbox[5]]\n",
                "        intersection = (region.image * box).sum()\n",
                "        for k in covered.keys():\n",
                "            if intersection/region.area >= float(k):\n",
                "                covered[k] += 1\n",
                "    # print(intersection, region.area, bbox, box.sum())\n",
                "covered"
            ]
        },
        {
            "cell_type": "code",
            "execution_count": 12,
            "metadata": {},
            "outputs": [
                {
                    "name": "stdout",
                    "output_type": "stream",
                    "text": [
                        "126\n",
                        "0.6 124 0.9841269841269841\n",
                        "0.7 123 0.9761904761904762\n",
                        "0.8 123 0.9761904761904762\n",
                        "0.9 117 0.9285714285714286\n",
                        "0.95 116 0.9206349206349206\n"
                    ]
                }
            ],
            "source": [
                "total = 0\n",
                "for x in aneurs.values():\n",
                "    total += len(x)\n",
                "print(total) # 126\n",
                "for k,v in covered.items():\n",
                "    print(k, v, v/total)"
            ]
        },
        {
            "cell_type": "code",
            "execution_count": 14,
            "metadata": {},
            "outputs": [
                {
                    "name": "stderr",
                    "output_type": "stream",
                    "text": [
                        "100%|██████████| 102/102 [00:20<00:00,  4.96it/s]\n"
                    ]
                },
                {
                    "data": {
                        "text/plain": [
                            "{'0.6': 87, '0.7': 51, '0.8': 20, '0.9': 3, '0.95': 1}"
                        ]
                    },
                    "execution_count": 14,
                    "metadata": {},
                    "output_type": "execute_result"
                }
            ],
            "source": [
                "thres = 0.1\n",
                "coverage = [0.6, 0.7, 0.8, 0.9, 0.95]\n",
                "\n",
                "covered = {str(x):0 for x in coverage}\n",
                "for scan_id, regions in tqdm(aneurs.items()):\n",
                "    vessel_mask = vessel_probs[scan_id]>=thres\n",
                "    for region in regions:\n",
                "        bbox = region.bbox\n",
                "        box = vessel_mask[bbox[0]:bbox[3], bbox[1]:bbox[4], bbox[2]:bbox[5]]\n",
                "        intersection = (region.image * box).sum()\n",
                "        for k in covered.keys():\n",
                "            if intersection/region.area >= float(k):\n",
                "                covered[k] += 1\n",
                "    # print(intersection, region.area, bbox, box.sum())\n",
                "covered"
            ]
        },
        {
            "cell_type": "code",
            "execution_count": 10,
            "metadata": {},
            "outputs": [
                {
                    "data": {
                        "text/plain": [
                            "126"
                        ]
                    },
                    "execution_count": 10,
                    "metadata": {},
                    "output_type": "execute_result"
                }
            ],
            "source": [
                "total = 0\n",
                "for x in aneurs.values():\n",
                "    total += len(x)\n",
                "total # 126"
            ]
        },
        {
            "cell_type": "code",
            "execution_count": 15,
            "metadata": {},
            "outputs": [
                {
                    "name": "stdout",
                    "output_type": "stream",
                    "text": [
                        "0.6 87 0.6904761904761905\n",
                        "0.7 51 0.40476190476190477\n",
                        "0.8 20 0.15873015873015872\n",
                        "0.9 3 0.023809523809523808\n",
                        "0.95 1 0.007936507936507936\n"
                    ]
                }
            ],
            "source": [
                "for k,v in covered.items():\n",
                "    print(k, v, v/total)\n"
            ]
        },
        {
            "cell_type": "code",
            "execution_count": null,
            "metadata": {},
            "outputs": [],
            "source": [
                "\"\"\"\n",
                "threshold 0.001\n",
                "0.6 95 0.753968253968254\n",
                "0.7 59 0.46825396825396826\n",
                "0.8 30 0.23809523809523808\n",
                "0.9 4 0.031746031746031744\n",
                "0.95 3 0.023809523809523808\n",
                "\n",
                "threshold 0.01\n",
                "0.6 87 0.6904761904761905\n",
                "0.7 51 0.40476190476190477\n",
                "0.8 20 0.15873015873015872\n",
                "0.9 3 0.023809523809523808\n",
                "0.95 1 0.007936507936507936\n",
                "\"\"\""
            ]
        },
        {
            "cell_type": "code",
            "execution_count": 52,
            "metadata": {},
            "outputs": [],
            "source": [
                "def enlarge(image, size=4, openning=0):\n",
                "    # kernel = scipy.ndimage.ball(radius=size)\n",
                "    # image = morphology.binary_dilation(image, structure=kernel)\n",
                "    if openning:\n",
                "        image = scipy.ndimage.binary_opening(image, iterations=openning)\n",
                "    image = scipy.ndimage.binary_dilation(image, iterations=size)\n",
                "    return image\n",
                "def sphere(r=1):\n",
                "    x = np.arange(2*r+1).reshape(1,1,-1)-r\n",
                "    y = np.arange(2*r+1).reshape(1,-1,1)-r\n",
                "    z = np.arange(2*r+1).reshape(-1,1,1)-r\n",
                "    distance = np.sqrt(x*x+y*y+z*z)\n",
                "    return distance<=r\n",
                "def enlarge2(image, size=4, openning=0):\n",
                "    # kernel = scipy.ndimage.ball(radius=size)\n",
                "    # image = morphology.binary_dilation(image, structure=kernel)\n",
                "    if openning:\n",
                "        image = scipy.ndimage.binary_opening(image, iterations=openning)\n",
                "    image = scipy.ndimage.binary_dilation(image, structure=sphere(size))\n",
                "    return image"
            ]
        },
        {
            "cell_type": "code",
            "execution_count": 35,
            "metadata": {},
            "outputs": [
                {
                    "name": "stderr",
                    "output_type": "stream",
                    "text": [
                        "  0%|          | 0/102 [00:00<?, ?it/s]/tmp/ipykernel_4657/779992029.py:4: DeprecationWarning: Please use `binary_dilation` from the `scipy.ndimage` namespace, the `scipy.ndimage.morphology` namespace is deprecated.\n",
                        "  image = morphology.binary_dilation(image, iterations=size)\n",
                        "100%|██████████| 102/102 [00:19<00:00,  5.11it/s]"
                    ]
                },
                {
                    "name": "stdout",
                    "output_type": "stream",
                    "text": [
                        "0.6 123 0.9761904761904762\n",
                        "0.7 121 0.9603174603174603\n",
                        "0.8 121 0.9603174603174603\n",
                        "0.9 116 0.9206349206349206\n",
                        "0.95 114 0.9047619047619048\n"
                    ]
                },
                {
                    "name": "stderr",
                    "output_type": "stream",
                    "text": [
                        "\n"
                    ]
                }
            ],
            "source": [
                "thres = 0.1\n",
                "dillate_size = 7\n",
                "coverage = [0.6, 0.7, 0.8, 0.9, 0.95]\n",
                "\n",
                "covered = {str(x):0 for x in coverage}\n",
                "for scan_id, regions in tqdm(aneurs.items()):\n",
                "    vessel_mask = vessel_probs[scan_id]>=thres\n",
                "    for region in regions:\n",
                "        bbox = region.bbox\n",
                "        box = vessel_mask[bbox[0]:bbox[3], bbox[1]:bbox[4], bbox[2]:bbox[5]]\n",
                "        box = enlarge(box, dillate_size)\n",
                "        intersection = (region.image * box).sum()\n",
                "        for k in covered.keys():\n",
                "            if intersection/region.area >= float(k):\n",
                "                covered[k] += 1\n",
                "    # print(intersection, region.area, bbox, box.sum())\n",
                "covered\n",
                "for k,v in covered.items():\n",
                "    print(k, v, v/total)\n"
            ]
        },
        {
            "cell_type": "code",
            "execution_count": 36,
            "metadata": {},
            "outputs": [
                {
                    "name": "stdout",
                    "output_type": "stream",
                    "text": [
                        "0.6 123 0.9761904761904762\n",
                        "0.7 121 0.9603174603174603\n",
                        "0.8 121 0.9603174603174603\n",
                        "0.9 116 0.9206349206349206\n",
                        "0.95 114 0.9047619047619048\n"
                    ]
                }
            ],
            "source": [
                "covered\n",
                "for k,v in covered.items():\n",
                "    print(k, v, v/total)"
            ]
        },
        {
            "cell_type": "code",
            "execution_count": null,
            "metadata": {},
            "outputs": [],
            "source": [
                "\"\"\" dillate by 4 iterations\n",
                "threshold 0.001\n",
                "0.6 126 1.0\n",
                "0.7 126 1.0\n",
                "0.8 126 1.0\n",
                "0.9 126 1.0\n",
                "0.95 126 1.0\n",
                "\n",
                "threshold 0.01\n",
                "0.6 126 1.0\n",
                "0.7 126 1.0\n",
                "0.8 126 1.0\n",
                "0.9 125 0.9920634920634921\n",
                "0.95 125 0.9920634920634921\n",
                "\n",
                "threshold 0.1\n",
                "0.6 115 0.9126984126984127\n",
                "0.7 110 0.873015873015873\n",
                "0.8 105 0.8333333333333334\n",
                "0.9 80 0.6349206349206349\n",
                "0.95 48 0.38095238095238093\n",
                "\n",
                "dillate by 5 iterations\n",
                "threshold 0.1\n",
                "0.6 119 0.9444444444444444\n",
                "0.7 118 0.9365079365079365\n",
                "0.8 113 0.8968253968253969\n",
                "0.9 104 0.8253968253968254\n",
                "0.95 91 0.7222222222222222\n",
                "\n",
                "\n",
                "dillate by 7 iterations\n",
                "threshold 0.1\n",
                "0.6 123 0.9761904761904762\n",
                "0.7 121 0.9603174603174603\n",
                "0.8 121 0.9603174603174603\n",
                "0.9 116 0.920634920b6349206\n",
                "0.95 114 0.9047619047619048\n",
                "\n",
                "0.4 spacing, dilate by 7 iteration, threshold 0.1\n",
                "0.6 124 0.9841269841269841\n",
                "0.7 123 0.9761904761904762\n",
                "0.8 123 0.9761904761904762\n",
                "0.9 117 0.9285714285714286\n",
                "0.95 116 0.9206349206349206\n",
                "\"\"\""
            ]
        },
        {
            "cell_type": "code",
            "execution_count": 22,
            "metadata": {},
            "outputs": [],
            "source": [
                "path = \"/work/vig/Datasets/aneurysm/internal_test_filtered/Ts0006.nii.gz\"\n",
                "path2 = \"/work/vig/Datasets/aneurysm/internal_label_test/Ts0006.nii.gz\"\n",
                "import SimpleITK as sitk\n",
                "gt_mask_header = sitk.ReadImage(path2)\n",
                "vessel_header = nib.load(path)\n",
                "vessel_prob = vessel_header.get_fdata()"
            ]
        },
        {
            "cell_type": "code",
            "execution_count": 26,
            "metadata": {},
            "outputs": [],
            "source": [
                "thresh = 0.1\n",
                "dillation_size = 4\n",
                "openning = 1\n",
                "\n",
                "vessel_mask = vessel_prob >= thresh\n",
                "if dillation_size:\n",
                "    vessel_mask = enlarge2(vessel_mask, size=dillation_size, openning=openning)\n",
                "mask2 = np.transpose(vessel_mask, (2,1,0))\n",
                "mask2 = mask2.astype(np.int32)\n",
                "new_header = sitk.GetImageFromArray(mask2)\n",
                "new_header.CopyInformation(gt_mask_header)\n",
                "sitk.WriteImage(new_header, f\"./Ts0006_thr{thresh}_dil{dillation_size}_open{openning}.nii.gz\")\n",
                "\n",
                "# nifti_file =nib.Nifti1Image(mask, affine=vessel_header.affine)\n",
                "# nib.save(nifti_file, f\"./Ts0006_thr{thresh}_dil{dillation_size}.nii.gz\")"
            ]
        },
        {
            "cell_type": "code",
            "execution_count": 30,
            "metadata": {},
            "outputs": [],
            "source": [
                "\n",
                "new_header = sitk.GetImageFromArray(mask2)\n",
                "new_header.CopyInformation(gt_mask_header)\n",
                "sitk.WriteImage(new_header, f\"./Ts0006_thr{thresh}_dilsph{dillation_size}.nii.gz\")"
            ]
        },
        {
            "cell_type": "code",
            "execution_count": 19,
            "metadata": {},
            "outputs": [
                {
                    "data": {
                        "text/plain": [
                            "(512, 512, 407)"
                        ]
                    },
                    "execution_count": 19,
                    "metadata": {},
                    "output_type": "execute_result"
                }
            ],
            "source": [
                "vessel_mask.shape"
            ]
        },
        {
            "cell_type": "code",
            "execution_count": 22,
            "metadata": {},
            "outputs": [
                {
                    "data": {
                        "text/plain": [
                            "array([0, 1], dtype=int32)"
                        ]
                    },
                    "execution_count": 22,
                    "metadata": {},
                    "output_type": "execute_result"
                }
            ],
            "source": [
                "np.unique(mask)"
            ]
        },
        {
            "cell_type": "code",
            "execution_count": 51,
            "metadata": {},
            "outputs": [
                {
                    "data": {
                        "text/plain": [
                            "array([[0, 0, 0, 0, 0, 1, 0, 0, 0, 0, 0],\n",
                            "       [0, 0, 1, 1, 1, 1, 1, 1, 1, 0, 0],\n",
                            "       [0, 1, 1, 1, 1, 1, 1, 1, 1, 1, 0],\n",
                            "       [0, 1, 1, 1, 1, 1, 1, 1, 1, 1, 0],\n",
                            "       [0, 1, 1, 1, 1, 1, 1, 1, 1, 1, 0],\n",
                            "       [1, 1, 1, 1, 1, 1, 1, 1, 1, 1, 1],\n",
                            "       [0, 1, 1, 1, 1, 1, 1, 1, 1, 1, 0],\n",
                            "       [0, 1, 1, 1, 1, 1, 1, 1, 1, 1, 0],\n",
                            "       [0, 1, 1, 1, 1, 1, 1, 1, 1, 1, 0],\n",
                            "       [0, 0, 1, 1, 1, 1, 1, 1, 1, 0, 0],\n",
                            "       [0, 0, 0, 0, 0, 1, 0, 0, 0, 0, 0]], dtype=int32)"
                        ]
                    },
                    "execution_count": 51,
                    "metadata": {},
                    "output_type": "execute_result"
                }
            ],
            "source": [
                "def sphere(r=1):\n",
                "    x = np.arange(2*r+1).reshape(1,1,-1)-r\n",
                "    y = np.arange(2*r+1).reshape(1,-1,1)-r\n",
                "    z = np.arange(2*r+1).reshape(-1,1,1)-r\n",
                "    distance = np.sqrt(x*x+y*y+z*z)\n",
                "    return distance<=r\n",
                "sphere(5)[:,5].astype(np.int32)\n",
                "    "
            ]
        },
        {
            "cell_type": "code",
            "execution_count": 2,
            "metadata": {},
            "outputs": [
                {
                    "data": {
                        "text/plain": [
                            "(tensor([1, 2, 3]), tensor([1, 1, 1]))"
                        ]
                    },
                    "execution_count": 2,
                    "metadata": {},
                    "output_type": "execute_result"
                }
            ],
            "source": [
                "import torch\n",
                "a = torch.tensor([1,2,3])\n",
                "torch.unique(a, return_counts=True)"
            ]
        },
        {
            "cell_type": "code",
            "execution_count": 6,
            "metadata": {},
            "outputs": [],
            "source": [
                "import SimpleITK as sitk\n",
                "import numpy as np\n",
                "path = \"/work/vig/hieu/cta/Ts0006_thr0.001_dil0.nii.gz\"\n",
                "path = \"/work/vig/hieu/cta/Ts0006_thr0.1_dil7.nii.gz\"\n",
                "path = \"/work/vig/Datasets/aneurysm/internal_test_filtered_merged_thr0.1_dil16_0.4/Ts0006.nii.gz\"\n",
                "mask_header = sitk.ReadImage(path)\n",
                "mask = sitk.GetArrayFromImage(mask_header)"
            ]
        },
        {
            "cell_type": "code",
            "execution_count": 8,
            "metadata": {},
            "outputs": [
                {
                    "data": {
                        "text/plain": [
                            "(406, 575, 575)"
                        ]
                    },
                    "execution_count": 8,
                    "metadata": {},
                    "output_type": "execute_result"
                }
            ],
            "source": [
                "mask.shape"
            ]
        },
        {
            "cell_type": "markdown",
            "metadata": {},
            "source": []
        },
        {
            "cell_type": "code",
            "execution_count": 7,
            "metadata": {},
            "outputs": [
                {
                    "data": {
                        "text/plain": [
                            "(32234695, 0.24013852700978702)"
                        ]
                    },
                    "execution_count": 7,
                    "metadata": {},
                    "output_type": "execute_result"
                }
            ],
            "source": [
                "mask.sum(), mask.sum()/np.prod(mask.shape)"
            ]
        },
        {
            "cell_type": "code",
            "execution_count": 9,
            "metadata": {},
            "outputs": [
                {
                    "data": {
                        "text/plain": [
                            "24.0"
                        ]
                    },
                    "execution_count": 9,
                    "metadata": {},
                    "output_type": "execute_result"
                }
            ],
            "source": [
                "96/4"
            ]
        },
        {
            "cell_type": "code",
            "execution_count": 11,
            "metadata": {},
            "outputs": [
                {
                    "data": {
                        "text/plain": [
                            "3456.0"
                        ]
                    },
                    "execution_count": 11,
                    "metadata": {},
                    "output_type": "execute_result"
                }
            ],
            "source": [
                "24**3/4"
            ]
        },
        {
            "cell_type": "code",
            "execution_count": null,
            "metadata": {},
            "outputs": [],
            "source": []
        }
    ],
    "metadata": {
        "kernelspec": {
            "display_name": "hieu1.12",
            "language": "python",
            "name": "python3"
        },
        "language_info": {
            "codemirror_mode": {
                "name": "ipython",
                "version": 3
            },
            "file_extension": ".py",
            "mimetype": "text/x-python",
            "name": "python",
            "nbconvert_exporter": "python",
            "pygments_lexer": "ipython3",
            "version": "3.10.9"
        },
        "orig_nbformat": 4
    },
    "nbformat": 4,
    "nbformat_minor": 2
}
