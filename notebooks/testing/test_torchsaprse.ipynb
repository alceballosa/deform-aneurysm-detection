{
 "cells": [
  {
   "cell_type": "code",
   "execution_count": 3,
   "metadata": {},
   "outputs": [
    {
     "ename": "ImportError",
     "evalue": "/home/nguyen.trungh/.local/lib/python3.10/site-packages/torchsparse/backend.cpython-310-x86_64-linux-gnu.so: undefined symbol: _ZN2at4_ops5zeros4callEN3c108ArrayRefINS2_6SymIntEEENS2_8optionalINS2_10ScalarTypeEEENS6_INS2_6LayoutEEENS6_INS2_6DeviceEEENS6_IbEE",
     "output_type": "error",
     "traceback": [
      "\u001b[0;31m---------------------------------------------------------------------------\u001b[0m",
      "\u001b[0;31mImportError\u001b[0m                               Traceback (most recent call last)",
      "Cell \u001b[0;32mIn[3], line 5\u001b[0m\n\u001b[1;32m      3\u001b[0m \u001b[39mimport\u001b[39;00m \u001b[39mmatplotlib\u001b[39;00m\u001b[39m.\u001b[39;00m\u001b[39mpyplot\u001b[39;00m \u001b[39mas\u001b[39;00m \u001b[39mplt\u001b[39;00m\n\u001b[1;32m      4\u001b[0m \u001b[39mimport\u001b[39;00m \u001b[39mtorch\u001b[39;00m\u001b[39m.\u001b[39;00m\u001b[39mnn\u001b[39;00m \u001b[39mas\u001b[39;00m \u001b[39mnn\u001b[39;00m\n\u001b[0;32m----> 5\u001b[0m \u001b[39mfrom\u001b[39;00m \u001b[39mtorchsparse\u001b[39;00m \u001b[39mimport\u001b[39;00m SparseTensor\n\u001b[1;32m      6\u001b[0m \u001b[39mimport\u001b[39;00m \u001b[39mtorchsparse\u001b[39;00m\u001b[39m.\u001b[39;00m\u001b[39mnn\u001b[39;00m \u001b[39mas\u001b[39;00m \u001b[39mspnn\u001b[39;00m\n\u001b[1;32m      7\u001b[0m \u001b[39mimport\u001b[39;00m \u001b[39mscipy\u001b[39;00m\n",
      "File \u001b[0;32mtorchsparse/__init__.pyx:4\u001b[0m, in \u001b[0;36minit torchsparse.__init__\u001b[0;34m()\u001b[0m\n",
      "File \u001b[0;32mtorchsparse/operators.pyx:6\u001b[0m, in \u001b[0;36minit torchsparse.operators\u001b[0;34m()\u001b[0m\n",
      "File \u001b[0;32mtorchsparse/tensor.pyx:6\u001b[0m, in \u001b[0;36minit torchsparse.tensor\u001b[0;34m()\u001b[0m\n",
      "File \u001b[0;32mtorchsparse/utils/__init__.pyx:3\u001b[0m, in \u001b[0;36minit torchsparse.utils.__init__\u001b[0;34m()\u001b[0m\n",
      "File \u001b[0;32mtorchsparse/utils/to_dense.pyx:7\u001b[0m, in \u001b[0;36minit torchsparse.utils.to_dense\u001b[0;34m()\u001b[0m\n",
      "\u001b[0;31mImportError\u001b[0m: /home/nguyen.trungh/.local/lib/python3.10/site-packages/torchsparse/backend.cpython-310-x86_64-linux-gnu.so: undefined symbol: _ZN2at4_ops5zeros4callEN3c108ArrayRefINS2_6SymIntEEENS2_8optionalINS2_10ScalarTypeEEENS6_INS2_6LayoutEEENS6_INS2_6DeviceEEENS6_IbEE"
     ]
    }
   ],
   "source": [
    "import torch\n",
    "import numpy as np\n",
    "import matplotlib.pyplot as plt\n",
    "import torch.nn as nn\n",
    "from torchsparse import SparseTensor\n",
    "import torchsparse.nn as spnn\n",
    "import scipy\n"
   ]
  },
  {
   "cell_type": "code",
   "execution_count": null,
   "metadata": {},
   "outputs": [],
   "source": [
    "def scatter_nd(indices, updates, shape):\n",
    "    \"\"\"pytorch edition of tensorflow scatter_nd.\n",
    "    this function don't contain except handle code. so use this carefully\n",
    "    when indice repeats, don't support repeat add which is supported\n",
    "    in tensorflow.\n",
    "    \"\"\"\n",
    "    ret = torch.zeros(*shape, dtype=updates.dtype, device=updates.device)\n",
    "    ndim = indices.shape[-1]\n",
    "    output_shape = list(indices.shape[:-1]) + shape[indices.shape[-1]:]\n",
    "    flatted_indices = indices.view(-1, ndim)\n",
    "    slices = [flatted_indices[:, i] for i in range(ndim)]\n",
    "    slices += [Ellipsis]\n",
    "    ret[slices] = updates.view(*output_shape)\n",
    "    return ret\n",
    "\n",
    "def to_dense(sp, bs, shape):\n",
    "    ndim = len(shape)\n",
    "    trans_params = list(range(ndim))\n",
    "    trans_params.insert(0, ndim)\n",
    "    C = sp.feats.size(1)\n",
    "    indices = sp.coords[:,trans_params]\n",
    "    \n",
    "    output_shape = [bs, *shape, C]\n",
    "    res = scatter_nd(\n",
    "        indices.to(sp.feats.device).long(), sp.feats,\n",
    "        output_shape)\n",
    "\n",
    "    trans_params = list(range(0, ndim + 1))\n",
    "    trans_params.insert(1, ndim + 1)\n",
    "    return res.permute(*trans_params).contiguous()"
   ]
  },
  {
   "cell_type": "code",
   "execution_count": null,
   "metadata": {},
   "outputs": [],
   "source": [
    "input_size=[32,32,32]\n",
    "num_samples=1\n",
    "sparsity=0.01\n",
    "seed=2\n",
    "r = np.random.default_rng(seed=seed)\n",
    "size = tuple([num_samples] + input_size)\n",
    "_mask = r.random(size=size) < sparsity\n",
    "_mask = scipy.ndimage.binary_dilation(_mask[0], iterations=1, structure=np.ones([3]*len(input_size)))[np.newaxis,...]\n",
    "\n",
    "mask = torch.tensor(_mask).to_sparse().coalesce()\n",
    "indices = mask.indices().permute(1,0)[:, [1, 2, 3, 0]].type(torch.int32)\n",
    "features = r.random(size=(len(indices),1))\n",
    "features = np.ones_like(features)\n",
    "features = torch.tensor(features).float()"
   ]
  },
  {
   "cell_type": "code",
   "execution_count": null,
   "metadata": {},
   "outputs": [
    {
     "data": {
      "image/png": "[encoded data removed]",
      "text/plain": [
       "<Figure size 640x480 with 1 Axes>"
      ]
     },
     "metadata": {},
     "output_type": "display_data"
    }
   ],
   "source": [
    "plt.imshow(_mask[0][0])\n",
    "plt.show()"
   ]
  },
  {
   "cell_type": "code",
   "execution_count": null,
   "metadata": {},
   "outputs": [],
   "source": [
    "x = SparseTensor(coords=indices.cuda(), feats=features.cuda())"
   ]
  },
  {
   "cell_type": "code",
   "execution_count": 3,
   "metadata": {},
   "outputs": [],
   "source": [
    "# plt.imshow(to_dense(x, 1, input_size)[0,0].detach().cpu().numpy())\n",
    "# plt.show()"
   ]
  },
  {
   "cell_type": "code",
   "execution_count": null,
   "metadata": {},
   "outputs": [
    {
     "data": {
      "image/png": "[encoded data removed]",
      "text/plain": [
       "<Figure size 640x480 with 1 Axes>"
      ]
     },
     "metadata": {},
     "output_type": "display_data"
    }
   ],
   "source": [
    "for i in range(1):\n",
    "    plt.imshow(to_dense(x, 1, input_size)[0,0,i].detach().cpu().numpy())\n",
    "    plt.show()"
   ]
  },
  {
   "cell_type": "code",
   "execution_count": 2,
   "metadata": {},
   "outputs": [
    {
     "ename": "NameError",
     "evalue": "name 'spnn' is not defined",
     "output_type": "error",
     "traceback": [
      "\u001b[0;31m---------------------------------------------------------------------------\u001b[0m",
      "\u001b[0;31mNameError\u001b[0m                                 Traceback (most recent call last)",
      "Cell \u001b[0;32mIn[2], line 1\u001b[0m\n\u001b[0;32m----> 1\u001b[0m conv \u001b[39m=\u001b[39m spnn\u001b[39m.\u001b[39mConv3d(\n\u001b[1;32m      2\u001b[0m             in_channels\u001b[39m=\u001b[39m\u001b[39m1\u001b[39m,\n\u001b[1;32m      3\u001b[0m             out_channels\u001b[39m=\u001b[39m\u001b[39m2\u001b[39m,\n\u001b[1;32m      4\u001b[0m             kernel_size\u001b[39m=\u001b[39m\u001b[39m3\u001b[39m,\n\u001b[1;32m      5\u001b[0m             stride\u001b[39m=\u001b[39m\u001b[39m2\u001b[39m,\n\u001b[1;32m      6\u001b[0m             bias\u001b[39m=\u001b[39m\u001b[39mFalse\u001b[39;00m,\n\u001b[1;32m      7\u001b[0m         )\n\u001b[1;32m      8\u001b[0m nn\u001b[39m.\u001b[39minit\u001b[39m.\u001b[39mconstant_(conv\u001b[39m.\u001b[39mkernel, \u001b[39m1.\u001b[39m)\n\u001b[1;32m      9\u001b[0m conv \u001b[39m=\u001b[39m conv\u001b[39m.\u001b[39mcuda()\n",
      "\u001b[0;31mNameError\u001b[0m: name 'spnn' is not defined"
     ]
    }
   ],
   "source": [
    "conv = spnn.Conv3d(\n",
    "            in_channels=1,\n",
    "            out_channels=2,\n",
    "            kernel_size=3,\n",
    "            stride=2,\n",
    "            bias=False,\n",
    "        )\n",
    "nn.init.constant_(conv.kernel, 1.)\n",
    "conv = conv.cuda()\n",
    "z = conv(x)\n",
    "len(z.coords), len(x.coords)"
   ]
  },
  {
   "cell_type": "code",
   "execution_count": 8,
   "metadata": {},
   "outputs": [
    {
     "name": "stderr",
     "output_type": "stream",
     "text": [
      "/tmp/ipykernel_48230/3390892832.py:1: UserWarning: floor_divide is deprecated, and will be removed in a future version of pytorch. It currently rounds toward 0 (like the 'trunc' function NOT 'floor'). This results in incorrect rounding for negative values.\n",
      "To keep the current behavior, use torch.div(a, b, rounding_mode='trunc'), or for actual floor division, use torch.div(a, b, rounding_mode='floor'). (Triggered internally at  /opt/conda/conda-bld/pytorch_1659484808560/work/aten/src/ATen/native/BinaryOps.cpp:577.)\n",
      "  z.coords[:,:3] //=2\n"
     ]
    }
   ],
   "source": [
    "z.coords[:,:3] //=2\n"
   ]
  },
  {
   "cell_type": "code",
   "execution_count": 9,
   "metadata": {},
   "outputs": [
    {
     "data": {
      "image/png": "[encoded data removed]",
      "text/plain": [
       "<Figure size 640x480 with 1 Axes>"
      ]
     },
     "metadata": {},
     "output_type": "display_data"
    }
   ],
   "source": [
    "for i in range(1):\n",
    "    plt.imshow(to_dense(z, 1, [16,16,16])[0,0,i].detach().cpu().numpy())\n",
    "    plt.show()"
   ]
  },
  {
   "cell_type": "code",
   "execution_count": null,
   "metadata": {},
   "outputs": [],
   "source": []
  }
 ],
 "metadata": {
  "kernelspec": {
   "display_name": "hieu1.12",
   "language": "python",
   "name": "python3"
  },
  "language_info": {
   "codemirror_mode": {
    "name": "ipython",
    "version": 3
   },
   "file_extension": ".py",
   "mimetype": "text/x-python",
   "name": "python",
   "nbconvert_exporter": "python",
   "pygments_lexer": "ipython3",
   "version": "3.10.9"
  },
  "orig_nbformat": 4
 },
 "nbformat": 4,
 "nbformat_minor": 2
}
