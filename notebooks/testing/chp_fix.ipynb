{
 "cells": [
  {
   "cell_type": "code",
   "execution_count": 1,
   "metadata": {},
   "outputs": [],
   "source": [
    "import torch\n",
    "\n",
    "f = \"/home/ceballosarroyo.a/workspace/medical/cta-det2/outputs/deform_decoder_only_non_rec_good_big_bsz/model_0057999.pth\"\n",
    "model_weights = torch.load(f, map_location=torch.device(\"cpu\"))"
   ]
  },
  {
   "cell_type": "code",
   "execution_count": 4,
   "metadata": {},
   "outputs": [],
   "source": [
    "model_weights[\"model\"][\"query_pos_embed_plus_query.weight\"] = model_weights[\"model\"][\n",
    "    \"query_embed.weight\"\n",
    "]"
   ]
  },
  {
   "cell_type": "code",
   "execution_count": 5,
   "metadata": {},
   "outputs": [
    {
     "data": {
      "text/plain": [
       "tensor([[-0.1372,  1.3852, -0.4116,  ..., -2.0705,  0.1975, -0.6739],\n",
       "        [-0.1121, -0.4858, -0.1832,  ..., -1.6596,  0.1125,  0.5405],\n",
       "        [-0.9002,  1.0783,  0.1367,  ...,  2.0665, -0.9334, -0.0992],\n",
       "        ...,\n",
       "        [-0.6102,  0.8826, -1.1883,  ...,  0.5311,  0.3514,  0.4314],\n",
       "        [ 0.8476, -1.2960,  0.8154,  ...,  0.6465, -1.9654,  0.0428],\n",
       "        [ 0.3631,  0.6343, -0.4152,  ...,  0.4533, -0.5946,  0.8192]])"
      ]
     },
     "execution_count": 5,
     "metadata": {},
     "output_type": "execute_result"
    }
   ],
   "source": [
    "model_weights[\"model\"][\"query_pos_embed_plus_query.weight\"]"
   ]
  },
  {
   "cell_type": "code",
   "execution_count": null,
   "metadata": {},
   "outputs": [],
   "source": []
  }
 ],
 "metadata": {
  "kernelspec": {
   "display_name": "cta",
   "language": "python",
   "name": "python3"
  },
  "language_info": {
   "codemirror_mode": {
    "name": "ipython",
    "version": 3
   },
   "file_extension": ".py",
   "mimetype": "text/x-python",
   "name": "python",
   "nbconvert_exporter": "python",
   "pygments_lexer": "ipython3",
   "version": "3.9.18"
  }
 },
 "nbformat": 4,
 "nbformat_minor": 2
}
