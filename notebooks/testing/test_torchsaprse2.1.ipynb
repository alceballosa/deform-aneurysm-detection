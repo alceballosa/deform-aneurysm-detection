{
 "cells": [
  {
   "cell_type": "code",
   "execution_count": 11,
   "metadata": {},
   "outputs": [],
   "source": [
    "import torch\n",
    "import numpy as np\n",
    "import matplotlib.pyplot as plt\n",
    "import torch.nn as nn\n",
    "from torchsparse import SparseTensor\n",
    "import torchsparse.nn as spnn\n",
    "import scipy\n"
   ]
  },
  {
   "cell_type": "code",
   "execution_count": 10,
   "metadata": {},
   "outputs": [
    {
     "data": {
      "text/plain": [
       "'2.1.0+torch20cu117'"
      ]
     },
     "execution_count": 10,
     "metadata": {},
     "output_type": "execute_result"
    }
   ],
   "source": [
    "import torchsparse\n",
    "torchsparse.__version__"
   ]
  },
  {
   "cell_type": "code",
   "execution_count": 12,
   "metadata": {},
   "outputs": [],
   "source": [
    "def scatter_nd(indices, updates, shape):\n",
    "    \"\"\"pytorch edition of tensorflow scatter_nd.\n",
    "    this function don't contain except handle code. so use this carefully\n",
    "    when indice repeats, don't support repeat add which is supported\n",
    "    in tensorflow.\n",
    "    \"\"\"\n",
    "    ret = torch.zeros(*shape, dtype=updates.dtype, device=updates.device)\n",
    "    ndim = indices.shape[-1]\n",
    "    output_shape = list(indices.shape[:-1]) + shape[indices.shape[-1]:]\n",
    "    flatted_indices = indices.view(-1, ndim)\n",
    "    slices = [flatted_indices[:, i] for i in range(ndim)]\n",
    "    slices += [Ellipsis]\n",
    "    ret[slices] = updates.view(*output_shape)\n",
    "    return ret\n",
    "\n",
    "def to_dense(sp, bs, shape):\n",
    "    ndim = len(shape)\n",
    "    # trans_params = list(range(ndim))\n",
    "    # trans_params.insert(0, ndim)\n",
    "    C = sp.feats.size(1)\n",
    "    # indices = sp.coords[:,trans_params]\n",
    "    indices = sp.coords\n",
    "    \n",
    "    output_shape = [bs, *shape, C]\n",
    "    res = scatter_nd(\n",
    "        indices.to(sp.feats.device).long(), sp.feats,\n",
    "        output_shape)\n",
    "\n",
    "    trans_params = list(range(0, ndim + 1))\n",
    "    trans_params.insert(1, ndim + 1)\n",
    "    res = res.permute(*trans_params).contiguous()\n",
    "    return res"
   ]
  },
  {
   "cell_type": "code",
   "execution_count": 13,
   "metadata": {},
   "outputs": [],
   "source": [
    "input_size=[32,32,32]\n",
    "num_samples=1\n",
    "sparsity=0.1\n",
    "seed=2\n",
    "r = np.random.default_rng(seed=seed)\n",
    "size = tuple([num_samples] + input_size)\n",
    "_mask = r.random(size=size) < sparsity\n",
    "_mask = scipy.ndimage.binary_dilation(_mask[0], iterations=1, structure=np.ones([3]*len(input_size)))[np.newaxis,...]\n",
    "\n",
    "mask = torch.tensor(_mask).to_sparse().coalesce()\n",
    "indices = mask.indices().permute(1,0).type(torch.int32)\n",
    "features = r.random(size=(len(indices),1))\n",
    "features = np.ones_like(features)\n",
    "features = torch.tensor(features).float()"
   ]
  },
  {
   "cell_type": "code",
   "execution_count": 22,
   "metadata": {},
   "outputs": [
    {
     "data": {
      "image/png": "[encoded data removed]",
      "text/plain": [
       "<Figure size 640x480 with 1 Axes>"
      ]
     },
     "metadata": {},
     "output_type": "display_data"
    }
   ],
   "source": [
    "plt.imshow(_mask[0][0])\n",
    "plt.show()"
   ]
  },
  {
   "cell_type": "code",
   "execution_count": 30,
   "metadata": {},
   "outputs": [],
   "source": [
    "x = SparseTensor(coords=indices.cuda(), feats=features.cuda())"
   ]
  },
  {
   "cell_type": "code",
   "execution_count": 6,
   "metadata": {},
   "outputs": [
    {
     "ename": "AssertionError",
     "evalue": "",
     "output_type": "error",
     "traceback": [
      "\u001b[0;31m---------------------------------------------------------------------------\u001b[0m",
      "\u001b[0;31mAssertionError\u001b[0m                            Traceback (most recent call last)",
      "Cell \u001b[0;32mIn[6], line 1\u001b[0m\n\u001b[0;32m----> 1\u001b[0m x\u001b[39m.\u001b[39;49mdense()\n",
      "File \u001b[0;32mtorchsparse/tensor.pyx:101\u001b[0m, in \u001b[0;36mtorchsparse.tensor.SparseTensor.dense\u001b[0;34m()\u001b[0m\n",
      "\u001b[0;31mAssertionError\u001b[0m: "
     ]
    }
   ],
   "source": [
    "x.dense()"
   ]
  },
  {
   "cell_type": "code",
   "execution_count": 24,
   "metadata": {},
   "outputs": [
    {
     "data": {
      "image/png": "[encoded data removed]",
      "text/plain": [
       "<Figure size 640x480 with 1 Axes>"
      ]
     },
     "metadata": {},
     "output_type": "display_data"
    }
   ],
   "source": [
    "for i in range(1):\n",
    "    plt.imshow(to_dense(x, 1, input_size)[0,0,i].detach().cpu().numpy())\n",
    "    # plt.imshow(x.dense()[0,0,i].detach().cpu().numpy())\n",
    "    plt.show()"
   ]
  },
  {
   "cell_type": "code",
   "execution_count": 31,
   "metadata": {},
   "outputs": [
    {
     "data": {
      "text/plain": [
       "(4096, 30443)"
      ]
     },
     "execution_count": 31,
     "metadata": {},
     "output_type": "execute_result"
    }
   ],
   "source": [
    "conv = spnn.Conv3d(\n",
    "            in_channels=1,\n",
    "            out_channels=2,\n",
    "            kernel_size=3,\n",
    "            stride=2,\n",
    "            padding=1,\n",
    "            bias=False,\n",
    "        )\n",
    "nn.init.constant_(conv.kernel, 1.)\n",
    "conv = conv.cuda()\n",
    "z = conv(x)\n",
    "len(z.coords), len(x.coords)"
   ]
  },
  {
   "cell_type": "code",
   "execution_count": 28,
   "metadata": {},
   "outputs": [
    {
     "data": {
      "text/plain": [
       "torch.return_types.max(\n",
       "values=tensor([ 0, 14, 14, 14], device='cuda:0', dtype=torch.int32),\n",
       "indices=tensor([   0, 3150,  210,   14], device='cuda:0'))"
      ]
     },
     "execution_count": 28,
     "metadata": {},
     "output_type": "execute_result"
    }
   ],
   "source": [
    "\n",
    "# z.coords[:,:3] //=2\n",
    "z.coords.max(dim=0)"
   ]
  },
  {
   "cell_type": "code",
   "execution_count": 27,
   "metadata": {},
   "outputs": [
    {
     "data": {
      "image/png": "[encoded data removed]",
      "text/plain": [
       "<Figure size 640x480 with 1 Axes>"
      ]
     },
     "metadata": {},
     "output_type": "display_data"
    }
   ],
   "source": [
    "for i in range(1):\n",
    "    plt.imshow(to_dense(z, 1, [16,16,16])[0,0,i].detach().cpu().numpy())\n",
    "    plt.show()"
   ]
  },
  {
   "cell_type": "code",
   "execution_count": null,
   "metadata": {},
   "outputs": [],
   "source": []
  }
 ],
 "metadata": {
  "kernelspec": {
   "display_name": "hieu1.12",
   "language": "python",
   "name": "python3"
  },
  "language_info": {
   "codemirror_mode": {
    "name": "ipython",
    "version": 3
   },
   "file_extension": ".py",
   "mimetype": "text/x-python",
   "name": "python",
   "nbconvert_exporter": "python",
   "pygments_lexer": "ipython3",
   "version": "3.10.11"
  },
  "orig_nbformat": 4
 },
 "nbformat": 4,
 "nbformat_minor": 2
}
