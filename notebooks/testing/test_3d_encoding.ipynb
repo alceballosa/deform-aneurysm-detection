{
 "cells": [
  {
   "cell_type": "code",
   "execution_count": 118,
   "metadata": {},
   "outputs": [],
   "source": [
    "import torch\n",
    "import einops\n",
    "import numpy as np\n",
    "\n",
    "\n",
    "def retrieve_query_features(global_tokens_vol, query_pos, neighborhood_size=3):\n",
    "    \"\"\"\n",
    "    Project reference points onto multi-view image to fetch appearence features\n",
    "    Bilinear interpolation is used to fetch features.\n",
    "    Average pooling is used to aggregate features from different views.\n",
    "    \"\"\"\n",
    "\n",
    "    assert neighborhood_size % 2 == 1, \"neighborhood size must be odd\"\n",
    "\n",
    "    # TODO: make this work with neighborhoods\n",
    "    B, C, T, H, W = global_tokens_vol.shape\n",
    "    B, N, _ = query_pos.shape\n",
    "    query_tokens = []\n",
    "    query_tokens = torch.empty(B, N, C).to(global_tokens_vol.device)\n",
    "    global_tokens_vol = global_tokens_vol.permute(0, 2, 3, 4, 1)\n",
    "    for b in range(B):\n",
    "        for n in range(N):\n",
    "            query_tokens[b, n, :] = global_tokens_vol[\n",
    "                b, query_pos[b, n, 0], query_pos[b, n, 1], query_pos[b, n, 2], :\n",
    "            ]\n",
    "    return query_tokens"
   ]
  },
  {
   "cell_type": "code",
   "execution_count": 5,
   "metadata": {},
   "outputs": [],
   "source": [
    "original_size = 2 * 96 * 24 * 24 * 24"
   ]
  },
  {
   "cell_type": "code",
   "execution_count": 6,
   "metadata": {},
   "outputs": [
    {
     "data": {
      "text/plain": [
       "2654208"
      ]
     },
     "execution_count": 6,
     "metadata": {},
     "output_type": "execute_result"
    }
   ],
   "source": [
    "original_size"
   ]
  },
  {
   "cell_type": "markdown",
   "metadata": {},
   "source": [
    "## Checklist\n",
    "\n",
    "- Tokenization: DONE\n",
    "- 3D Encoding: DONE\n",
    "- Feature retrieval: DONE"
   ]
  },
  {
   "cell_type": "markdown",
   "metadata": {},
   "source": [
    "### Verify that tokenization preserves spatial information"
   ]
  },
  {
   "cell_type": "code",
   "execution_count": 94,
   "metadata": {},
   "outputs": [],
   "source": [
    "bs = 4\n",
    "f = 3\n",
    "t = 24\n",
    "h = 24\n",
    "w = 24\n",
    "orig = torch.ones(bs, f, t, h, w)"
   ]
  },
  {
   "cell_type": "code",
   "execution_count": 95,
   "metadata": {},
   "outputs": [],
   "source": [
    "for i in range(24):\n",
    "    for j in range(24):\n",
    "        for k in range(24):\n",
    "            orig[:, 0, i, j, k] = i\n",
    "            orig[:, 1, i, j, k] = j\n",
    "            orig[:, 2, i, j, k] = k"
   ]
  },
  {
   "cell_type": "code",
   "execution_count": 96,
   "metadata": {},
   "outputs": [
    {
     "data": {
      "text/plain": [
       "tensor([0., 2., 0.])"
      ]
     },
     "execution_count": 96,
     "metadata": {},
     "output_type": "execute_result"
    }
   ],
   "source": [
    "orig[0, :, 0, 2, 0]"
   ]
  },
  {
   "cell_type": "code",
   "execution_count": 110,
   "metadata": {},
   "outputs": [],
   "source": [
    "dt, dh, dw = 2, 2, 2\n",
    "patch_size = dt, dh, dw\n",
    "patches_vol = einops.rearrange(\n",
    "    orig,\n",
    "    \"b c (t dt) (h dh) (w dw) -> b t h w (dt dh dw c)\",\n",
    "    dh=patch_size[1],\n",
    "    dw=patch_size[2],\n",
    "    dt=patch_size[0],\n",
    ")\n",
    "\n",
    "# OK"
   ]
  },
  {
   "cell_type": "code",
   "execution_count": 111,
   "metadata": {},
   "outputs": [
    {
     "data": {
      "text/plain": [
       "tensor([8., 2., 8., 8., 2., 9., 8., 3., 8., 8., 3., 9., 9., 2., 8., 9., 2., 9.,\n",
       "        9., 3., 8., 9., 3., 9.])"
      ]
     },
     "execution_count": 111,
     "metadata": {},
     "output_type": "execute_result"
    }
   ],
   "source": [
    "patches_vol[0, 4, 1, 4, :]\n",
    "\n",
    "# OK"
   ]
  },
  {
   "cell_type": "code",
   "execution_count": 112,
   "metadata": {},
   "outputs": [],
   "source": [
    "patches = einops.rearrange(patches_vol, \"b t h w c -> b t (h w) c\")\n",
    "patches = einops.rearrange(patches, \"b t n c -> b (t n) c\")"
   ]
  },
  {
   "cell_type": "code",
   "execution_count": 117,
   "metadata": {},
   "outputs": [
    {
     "name": "stdout",
     "output_type": "stream",
     "text": [
      "torch.Size([4, 1728, 24])\n"
     ]
    }
   ],
   "source": [
    "print(patches.shape)"
   ]
  },
  {
   "cell_type": "markdown",
   "metadata": {},
   "source": [
    "### Verify that retrieving tokens from flattened data works"
   ]
  },
  {
   "cell_type": "code",
   "execution_count": 113,
   "metadata": {},
   "outputs": [],
   "source": [
    "global_tokens_volume = patches.view(bs, t // dt, h // dh, w // dw, -1)\n",
    "global_tokens_volume = global_tokens_volume.permute(0, 4, 1, 2, 3)"
   ]
  },
  {
   "cell_type": "code",
   "execution_count": 116,
   "metadata": {},
   "outputs": [
    {
     "data": {
      "text/plain": [
       "torch.Size([4, 24, 12, 12, 12])"
      ]
     },
     "execution_count": 116,
     "metadata": {},
     "output_type": "execute_result"
    }
   ],
   "source": [
    "global_tokens_volume.shape"
   ]
  },
  {
   "cell_type": "code",
   "execution_count": 115,
   "metadata": {},
   "outputs": [
    {
     "data": {
      "text/plain": [
       "tensor([True, True, True, True, True, True, True, True, True, True, True, True,\n",
       "        True, True, True, True, True, True, True, True, True, True, True, True])"
      ]
     },
     "execution_count": 115,
     "metadata": {},
     "output_type": "execute_result"
    }
   ],
   "source": [
    "global_tokens_volume[0, :, 4, 1, 4] == patches_vol[0, 4, 1, 4, :]"
   ]
  },
  {
   "cell_type": "code",
   "execution_count": 121,
   "metadata": {},
   "outputs": [],
   "source": [
    "pos = torch.tensor([[[1, 3, 4], [10, 1, 11]]])\n",
    "\n",
    "pos_feats = retrieve_query_features(global_tokens_volume, pos)"
   ]
  },
  {
   "cell_type": "code",
   "execution_count": 122,
   "metadata": {},
   "outputs": [
    {
     "data": {
      "text/plain": [
       "tensor([[[ 2.,  6.,  8.,  2.,  6.,  9.,  2.,  7.,  8.,  2.,  7.,  9.,  3.,  6.,\n",
       "           8.,  3.,  6.,  9.,  3.,  7.,  8.,  3.,  7.,  9.],\n",
       "         [20.,  2., 22., 20.,  2., 23., 20.,  3., 22., 20.,  3., 23., 21.,  2.,\n",
       "          22., 21.,  2., 23., 21.,  3., 22., 21.,  3., 23.]]])"
      ]
     },
     "execution_count": 122,
     "metadata": {},
     "output_type": "execute_result"
    }
   ],
   "source": [
    "pos_feats"
   ]
  },
  {
   "cell_type": "markdown",
   "metadata": {},
   "source": [
    "### Verify that positional encoding matches positional information from tokenization"
   ]
  },
  {
   "cell_type": "code",
   "execution_count": 138,
   "metadata": {},
   "outputs": [
    {
     "data": {
      "text/plain": [
       "tensor([ 2., 14., 22.,  2., 14., 23.,  2., 15., 22.,  2., 15., 23.,  3., 14.,\n",
       "        22.,  3., 14., 23.,  3., 15., 22.,  3., 15., 23.])"
      ]
     },
     "execution_count": 138,
     "metadata": {},
     "output_type": "execute_result"
    }
   ],
   "source": [
    "patches[0, 239, :]"
   ]
  },
  {
   "cell_type": "code",
   "execution_count": 139,
   "metadata": {},
   "outputs": [],
   "source": [
    "def create_pos_volume(depth, height, width):\n",
    "    indices = np.indices((depth, height, width))\n",
    "    arr = np.transpose(indices, (1, 2, 3, 0)).reshape(-1, 3)\n",
    "    volume_coords = torch.from_numpy(arr).long()\n",
    "    return volume_coords\n",
    "\n",
    "\n",
    "pos_volume = create_pos_volume(12, 12, 12)"
   ]
  },
  {
   "cell_type": "code",
   "execution_count": 140,
   "metadata": {},
   "outputs": [
    {
     "data": {
      "text/plain": [
       "torch.Size([4, 1728, 3])"
      ]
     },
     "execution_count": 140,
     "metadata": {},
     "output_type": "execute_result"
    }
   ],
   "source": [
    "pos_volume_vol = pos_volume.unsqueeze(0).repeat(bs, 1, 1)\n",
    "pos_volume_vol.shape"
   ]
  },
  {
   "cell_type": "code",
   "execution_count": 141,
   "metadata": {},
   "outputs": [
    {
     "data": {
      "text/plain": [
       "tensor([ 1,  7, 11])"
      ]
     },
     "execution_count": 141,
     "metadata": {},
     "output_type": "execute_result"
    }
   ],
   "source": [
    "pos_volume_vol[0, 239, :]"
   ]
  },
  {
   "cell_type": "code",
   "execution_count": 137,
   "metadata": {},
   "outputs": [
    {
     "data": {
      "text/plain": [
       "tensor([4, 1, 4])"
      ]
     },
     "execution_count": 137,
     "metadata": {},
     "output_type": "execute_result"
    }
   ],
   "source": [
    "pos_volume_vol[0, 4, 1, 4, :]"
   ]
  },
  {
   "cell_type": "code",
   "execution_count": null,
   "metadata": {},
   "outputs": [],
   "source": []
  },
  {
   "cell_type": "code",
   "execution_count": 27,
   "metadata": {},
   "outputs": [],
   "source": []
  },
  {
   "cell_type": "code",
   "execution_count": null,
   "metadata": {},
   "outputs": [],
   "source": []
  }
 ],
 "metadata": {
  "kernelspec": {
   "display_name": "cta",
   "language": "python",
   "name": "python3"
  },
  "language_info": {
   "codemirror_mode": {
    "name": "ipython",
    "version": 3
   },
   "file_extension": ".py",
   "mimetype": "text/x-python",
   "name": "python",
   "nbconvert_exporter": "python",
   "pygments_lexer": "ipython3",
   "version": "3.9.18"
  },
  "orig_nbformat": 4
 },
 "nbformat": 4,
 "nbformat_minor": 2
}
