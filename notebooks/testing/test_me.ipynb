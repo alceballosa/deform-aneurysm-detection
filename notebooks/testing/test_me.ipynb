{
 "cells": [
  {
   "cell_type": "code",
   "execution_count": 1,
   "metadata": {},
   "outputs": [
    {
     "name": "stderr",
     "output_type": "stream",
     "text": [
      "/home/nguyen.trungh/.conda/envs/hieu2.0/lib/python3.10/site-packages/MinkowskiEngine-0.5.4-py3.10-linux-x86_64.egg/MinkowskiEngine/__init__.py:36: UserWarning: The environment variable `OMP_NUM_THREADS` not set. MinkowskiEngine will automatically set `OMP_NUM_THREADS=16`. If you want to set `OMP_NUM_THREADS` manually, please export it on the command line before running a python script. e.g. `export OMP_NUM_THREADS=12; python your_program.py`. It is recommended to set it below 24.\n",
      "  warnings.warn(\n"
     ]
    }
   ],
   "source": [
    "import torch\n",
    "import numpy as np\n",
    "import torch.nn as nn\n",
    "import matplotlib.pyplot as plt\n",
    "import scipy\n",
    "import MinkowskiEngine as ME"
   ]
  },
  {
   "cell_type": "code",
   "execution_count": 55,
   "metadata": {},
   "outputs": [
    {
     "name": "stdout",
     "output_type": "stream",
     "text": [
      "torch.Size([3, 3])\n"
     ]
    }
   ],
   "source": [
    "input_size=[4,4]\n",
    "num_samples=1\n",
    "sparsity=0.05\n",
    "seed=2\n",
    "r = np.random.default_rng(seed=seed)\n",
    "size = tuple([num_samples] + input_size)\n",
    "_mask = r.random(size=size) < sparsity\n",
    "# _mask = scipy.ndimage.binary_dilation(_mask[0], iterations=1, structure=np.ones((3,3)))[np.newaxis,...]\n",
    "_mask = np.array([\n",
    "    [0,0,0,0],\n",
    "    [0,0,1,0],\n",
    "    [0,1,1,0],\n",
    "    [0,0,0,0],\n",
    "])[np.newaxis,...]\n",
    "mask = torch.tensor(_mask).to_sparse().coalesce()\n",
    "indices = mask.indices().permute(1,0).type(torch.int32).contiguous()\n",
    "print(indices.shape)\n",
    "features = r.random(size=(len(indices),1))\n",
    "features = np.ones_like(features)\n",
    "features = torch.tensor(features).float()"
   ]
  },
  {
   "cell_type": "code",
   "execution_count": 56,
   "metadata": {},
   "outputs": [],
   "source": [
    "x = ME.SparseTensor(features=features.cuda(), coordinates=indices.contiguous().cuda(), tensor_stride=2)\n",
    "# x = ME.SparseTensor(features=features.cuda(), coordinates=indices.contiguous().cuda())"
   ]
  },
  {
   "cell_type": "code",
   "execution_count": 35,
   "metadata": {},
   "outputs": [
    {
     "data": {
      "text/plain": [
       "(torch.Size([4, 3]), torch.Size([4, 1]))"
      ]
     },
     "execution_count": 35,
     "metadata": {},
     "output_type": "execute_result"
    }
   ],
   "source": [
    "x.coordinates.shape, x.F.shape"
   ]
  },
  {
   "cell_type": "code",
   "execution_count": 6,
   "metadata": {},
   "outputs": [
    {
     "data": {
      "text/plain": [
       "torch.Size([1, 1, 32, 32])"
      ]
     },
     "execution_count": 6,
     "metadata": {},
     "output_type": "execute_result"
    }
   ],
   "source": [
    "x.dense()[0].shape"
   ]
  },
  {
   "cell_type": "code",
   "execution_count": 57,
   "metadata": {},
   "outputs": [
    {
     "data": {
      "image/png": "[encoded data removed]",
      "text/plain": [
       "<Figure size 640x480 with 1 Axes>"
      ]
     },
     "metadata": {},
     "output_type": "display_data"
    }
   ],
   "source": [
    "plt.imshow(x.dense()[0][0,0].detach().cpu().numpy())\n",
    "plt.show()"
   ]
  },
  {
   "cell_type": "code",
   "execution_count": 62,
   "metadata": {},
   "outputs": [
    {
     "data": {
      "text/plain": [
       "(3, 3)"
      ]
     },
     "execution_count": 62,
     "metadata": {},
     "output_type": "execute_result"
    }
   ],
   "source": [
    "conv = ME.MinkowskiConvolution(in_channels=1, out_channels=1, kernel_size=2, stride=2, bias=True, dimension=2)\n",
    "nn.init.constant_(conv.kernel, 1.)\n",
    "nn.init.constant_(conv.bias, 0.)\n",
    "conv = conv.cuda()\n",
    "z = conv(x)\n",
    "len(z.coordinates), len(x.coordinates)"
   ]
  },
  {
   "cell_type": "code",
   "execution_count": 64,
   "metadata": {},
   "outputs": [
    {
     "data": {
      "text/plain": [
       "(tensor([[0, 0, 2],\n",
       "         [0, 2, 0],\n",
       "         [0, 2, 2]], device='cuda:0', dtype=torch.int32),\n",
       " tensor([[1.],\n",
       "         [1.],\n",
       "         [1.]], device='cuda:0', grad_fn=<AddBackward0>))"
      ]
     },
     "execution_count": 64,
     "metadata": {},
     "output_type": "execute_result"
    }
   ],
   "source": [
    "z.C, z.F"
   ]
  },
  {
   "cell_type": "code",
   "execution_count": 46,
   "metadata": {},
   "outputs": [
    {
     "data": {
      "text/plain": [
       "torch.Size([1, 1, 16, 16])"
      ]
     },
     "execution_count": 46,
     "metadata": {},
     "output_type": "execute_result"
    }
   ],
   "source": [
    "z.dense()[0].shape"
   ]
  },
  {
   "cell_type": "code",
   "execution_count": 63,
   "metadata": {},
   "outputs": [
    {
     "data": {
      "image/png": "[encoded data removed]",
      "text/plain": [
       "<Figure size 640x480 with 1 Axes>"
      ]
     },
     "metadata": {},
     "output_type": "display_data"
    }
   ],
   "source": [
    "plt.imshow(z.dense()[0][0,0].detach().cpu().numpy())\n",
    "plt.show()\n"
   ]
  },
  {
   "cell_type": "code",
   "execution_count": 9,
   "metadata": {},
   "outputs": [
    {
     "data": {
      "text/plain": [
       "(620, 287)"
      ]
     },
     "execution_count": 9,
     "metadata": {},
     "output_type": "execute_result"
    }
   ],
   "source": [
    "deconv = ME.MinkowskiGenerativeConvolutionTranspose(in_channels=1, out_channels=1, kernel_size=3, stride=2, bias=True, dimension=2)\n",
    "nn.init.constant_(deconv.kernel, 1.)\n",
    "nn.init.constant_(deconv.bias, 0.)\n",
    "deconv = deconv.cuda()\n",
    "xxx = deconv(x)\n",
    "len(xxx.coordinates), len(x.coordinates)"
   ]
  },
  {
   "cell_type": "code",
   "execution_count": 10,
   "metadata": {},
   "outputs": [
    {
     "ename": "ValueError",
     "evalue": "Coordinate has a negative value: tensor([[-1, -1]], device='cuda:0', dtype=torch.int32). Please provide min_coordinate argument",
     "output_type": "error",
     "traceback": [
      "\u001b[0;31m---------------------------------------------------------------------------\u001b[0m",
      "\u001b[0;31mValueError\u001b[0m                                Traceback (most recent call last)",
      "Cell \u001b[0;32mIn[10], line 1\u001b[0m\n\u001b[0;32m----> 1\u001b[0m plt\u001b[39m.\u001b[39mimshow(xxx\u001b[39m.\u001b[39;49mdense()[\u001b[39m0\u001b[39m][\u001b[39m0\u001b[39m,\u001b[39m0\u001b[39m]\u001b[39m.\u001b[39mdetach()\u001b[39m.\u001b[39mcpu()\u001b[39m.\u001b[39mnumpy())\n\u001b[1;32m      2\u001b[0m plt\u001b[39m.\u001b[39mshow()\n",
      "File \u001b[0;32m~/.conda/envs/hieu2.0/lib/python3.10/site-packages/MinkowskiEngine-0.5.4-py3.10-linux-x86_64.egg/MinkowskiEngine/MinkowskiSparseTensor.py:516\u001b[0m, in \u001b[0;36mSparseTensor.dense\u001b[0;34m(self, shape, min_coordinate, contract_stride)\u001b[0m\n\u001b[1;32m    514\u001b[0m     min_coordinate \u001b[39m=\u001b[39m min_coordinate[:, \u001b[39m1\u001b[39m:]\n\u001b[1;32m    515\u001b[0m     \u001b[39mif\u001b[39;00m \u001b[39mnot\u001b[39;00m torch\u001b[39m.\u001b[39mall(min_coordinate \u001b[39m>\u001b[39m\u001b[39m=\u001b[39m \u001b[39m0\u001b[39m):\n\u001b[0;32m--> 516\u001b[0m         \u001b[39mraise\u001b[39;00m \u001b[39mValueError\u001b[39;00m(\n\u001b[1;32m    517\u001b[0m             \u001b[39mf\u001b[39m\u001b[39m\"\u001b[39m\u001b[39mCoordinate has a negative value: \u001b[39m\u001b[39m{\u001b[39;00mmin_coordinate\u001b[39m}\u001b[39;00m\u001b[39m. Please provide min_coordinate argument\u001b[39m\u001b[39m\"\u001b[39m\n\u001b[1;32m    518\u001b[0m         )\n\u001b[1;32m    519\u001b[0m     coords \u001b[39m=\u001b[39m \u001b[39mself\u001b[39m\u001b[39m.\u001b[39mC[:, \u001b[39m1\u001b[39m:]\n\u001b[1;32m    520\u001b[0m \u001b[39melif\u001b[39;00m \u001b[39misinstance\u001b[39m(min_coordinate, \u001b[39mint\u001b[39m) \u001b[39mand\u001b[39;00m min_coordinate \u001b[39m==\u001b[39m \u001b[39m0\u001b[39m:\n",
      "\u001b[0;31mValueError\u001b[0m: Coordinate has a negative value: tensor([[-1, -1]], device='cuda:0', dtype=torch.int32). Please provide min_coordinate argument"
     ]
    }
   ],
   "source": [
    "plt.imshow(xxx.dense()[0][0,0].detach().cpu().numpy())\n",
    "plt.show()"
   ]
  },
  {
   "cell_type": "code",
   "execution_count": 1,
   "metadata": {},
   "outputs": [
    {
     "data": {
      "text/plain": [
       "9600.0"
      ]
     },
     "execution_count": 1,
     "metadata": {},
     "output_type": "execute_result"
    }
   ],
   "source": [
    "60*24/3*20"
   ]
  },
  {
   "cell_type": "code",
   "execution_count": 2,
   "metadata": {},
   "outputs": [
    {
     "data": {
      "text/plain": [
       "195.61551433389545"
      ]
     },
     "execution_count": 2,
     "metadata": {},
     "output_type": "execute_result"
    }
   ],
   "source": [
    "29000*8/1186\n"
   ]
  },
  {
   "cell_type": "code",
   "execution_count": null,
   "metadata": {},
   "outputs": [],
   "source": []
  }
 ],
 "metadata": {
  "kernelspec": {
   "display_name": "hieu2.0",
   "language": "python",
   "name": "python3"
  },
  "language_info": {
   "codemirror_mode": {
    "name": "ipython",
    "version": 3
   },
   "file_extension": ".py",
   "mimetype": "text/x-python",
   "name": "python",
   "nbconvert_exporter": "python",
   "pygments_lexer": "ipython3",
   "version": "3.10.11"
  },
  "orig_nbformat": 4
 },
 "nbformat": 4,
 "nbformat_minor": 2
}
