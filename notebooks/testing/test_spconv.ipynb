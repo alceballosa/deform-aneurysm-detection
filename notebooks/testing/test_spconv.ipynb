{
 "cells": [
  {
   "cell_type": "code",
   "execution_count": 1,
   "metadata": {},
   "outputs": [],
   "source": [
    "import spconv.pytorch as spconv\n",
    "from spconv.pytorch.utils import PointToVoxel\n",
    "import torch\n",
    "import numpy as np\n",
    "import torch.nn as nn\n",
    "import matplotlib.pyplot as plt\n",
    "from spconv.pytorch.hash import HashTable\n",
    "import scipy\n"
   ]
  },
  {
   "cell_type": "code",
   "execution_count": 2,
   "metadata": {},
   "outputs": [],
   "source": [
    "input_size=[32,32]\n",
    "num_samples=1\n",
    "sparsity=0.05\n",
    "seed=2\n",
    "r = np.random.default_rng(seed=seed)\n",
    "size = tuple([num_samples] + input_size)\n",
    "_mask = r.random(size=size) < sparsity\n",
    "_mask = scipy.ndimage.binary_dilation(_mask[0], iterations=1, structure=np.ones((3,3)))[np.newaxis,...]\n",
    "\n",
    "mask = torch.tensor(_mask).to_sparse()#.coalesce()\n",
    "# indices = mask.indices().permute(1,0)[:,[0,3,2,1]].type(torch.int32)\n",
    "indices = mask.indices().permute(1,0).type(torch.int32).contiguous()\n",
    "features = r.random(size=(len(indices),1))\n",
    "features = np.ones_like(features)\n",
    "features = torch.tensor(features).float()"
   ]
  },
  {
   "cell_type": "code",
   "execution_count": 11,
   "metadata": {},
   "outputs": [],
   "source": [
    "x = spconv.SparseConvTensor(features.cuda(), indices.cuda(), input_size, num_samples)"
   ]
  },
  {
   "cell_type": "code",
   "execution_count": null,
   "metadata": {},
   "outputs": [],
   "source": []
  },
  {
   "cell_type": "code",
   "execution_count": 4,
   "metadata": {},
   "outputs": [
    {
     "data": {
      "image/png": "[encoded data removed]",
      "text/plain": [
       "<Figure size 640x480 with 1 Axes>"
      ]
     },
     "metadata": {},
     "output_type": "display_data"
    }
   ],
   "source": [
    "plt.imshow(_mask[0])\n",
    "plt.show()"
   ]
  },
  {
   "cell_type": "code",
   "execution_count": 6,
   "metadata": {},
   "outputs": [
    {
     "data": {
      "image/png": "[encoded data removed]",
      "text/plain": [
       "<Figure size 640x480 with 1 Axes>"
      ]
     },
     "metadata": {},
     "output_type": "display_data"
    }
   ],
   "source": [
    "plt.imshow(x.dense()[0,0].detach().cpu().numpy())\n",
    "plt.show()"
   ]
  },
  {
   "cell_type": "code",
   "execution_count": 12,
   "metadata": {},
   "outputs": [
    {
     "data": {
      "text/plain": [
       "(599, 287)"
      ]
     },
     "execution_count": 12,
     "metadata": {},
     "output_type": "execute_result"
    }
   ],
   "source": [
    "conv = spconv.SparseConv2d(in_channels=1, out_channels=1, kernel_size=5, stride=1, padding=0)\n",
    "nn.init.constant_(conv.weight, 1.)\n",
    "nn.init.constant_(conv.bias, 0.)\n",
    "conv = conv.cuda()\n",
    "z = conv(x)\n",
    "len(z.indices), len(x.indices)"
   ]
  },
  {
   "cell_type": "code",
   "execution_count": 41,
   "metadata": {},
   "outputs": [
    {
     "data": {
      "image/png": "[encoded data removed]",
      "text/plain": [
       "<Figure size 640x480 with 1 Axes>"
      ]
     },
     "metadata": {},
     "output_type": "display_data"
    }
   ],
   "source": [
    "plt.imshow(z.dense()[0,0].detach().cpu().numpy())\n",
    "plt.show()"
   ]
  },
  {
   "cell_type": "code",
   "execution_count": 13,
   "metadata": {},
   "outputs": [
    {
     "data": {
      "text/plain": [
       "torch.return_types.max(\n",
       "values=tensor([ 0, 27, 27], device='cuda:0', dtype=torch.int32),\n",
       "indices=tensor([ 0, 25, 13], device='cuda:0'))"
      ]
     },
     "execution_count": 13,
     "metadata": {},
     "output_type": "execute_result"
    }
   ],
   "source": [
    "z.indices.max(dim=0)"
   ]
  },
  {
   "cell_type": "code",
   "execution_count": 7,
   "metadata": {},
   "outputs": [],
   "source": [
    "from torch import nn\n",
    "class ExampleNet(nn.Module):\n",
    "    def __init__(self):\n",
    "        super().__init__()\n",
    "        self.b1 = spconv.SparseSequential(\n",
    "            spconv.SubMConv3d(1, 64, 3, stride=2, indice_key=\"0\"), # just like nn.Conv3d but don't support group\n",
    "            nn.BatchNorm1d(64), # non-spatial layers can be used directly in SparseSequential.\n",
    "            nn.ReLU(),)\n",
    "        self.b2 = spconv.SparseSequential(\n",
    "            spconv.SparseConv3d(64, 64, 3, indice_key=\"1\"),\n",
    "            nn.BatchNorm1d(64),\n",
    "            nn.ReLU(),)\n",
    "            # when use submanifold convolutions, their indices can be shared to save indices generation time.\n",
    "        self.b3 = spconv.SparseSequential(\n",
    "            spconv.SubMConv3d(64, 64, 3, indice_key=\"2\"),\n",
    "            nn.BatchNorm1d(64),\n",
    "            nn.ReLU(),)\n",
    "        self.b4 = spconv.SparseSequential(\n",
    "            spconv.SparseConv3d(64, 64, 3, stride=2, indice_key=\"3\"), # just like nn.Conv3d but don't support group\n",
    "            nn.BatchNorm1d(64), # non-spatial layers can be used directly in SparseSequential.\n",
    "            nn.ReLU(),)\n",
    "        self.b5 = spconv.SparseSequential(\n",
    "            spconv.SparseInverseConv3d(64, 64, 3, indice_key=\"3\"),\n",
    "            nn.BatchNorm1d(64),\n",
    "            nn.ReLU(),\n",
    "            spconv.SparseIdentity())\n",
    "        \n",
    "            # spconv.ToDense(), # convert spconv tensor to dense and convert it to NCHW format.\n",
    "            # nn.Conv3d(64, 64, 3),\n",
    "            # nn.BatchNorm1d(64),\n",
    "            # nn.ReLU(),\n",
    "\n",
    "    def forward(self, x):\n",
    "        print(x.indices[:6])\n",
    "        x = self.b1(x)\n",
    "        print(x.indices[:6])\n",
    "        x = self.b2(x)\n",
    "        print(x.indices[:6])\n",
    "        x = self.b3(x)\n",
    "        print(x.indices[:6])\n",
    "        x = self.b4(x)\n",
    "        print(x.indices[:6])\n",
    "        x = self.b5(x)\n",
    "        print(x.indices[:6])\n",
    "        return x"
   ]
  },
  {
   "cell_type": "code",
   "execution_count": 77,
   "metadata": {},
   "outputs": [
    {
     "data": {
      "text/plain": [
       "ExampleNet(\n",
       "  (b1): SparseSequential(\n",
       "    (0): SubMConv3d(1, 64, kernel_size=[3, 3, 3], stride=[2, 2, 2], padding=[0, 0, 0], dilation=[1, 1, 1], output_padding=[0, 0, 0], algo=ConvAlgo.MaskImplicitGemm)\n",
       "    (1): BatchNorm1d(64, eps=1e-05, momentum=0.1, affine=True, track_running_stats=True)\n",
       "    (2): ReLU()\n",
       "  )\n",
       "  (b2): SparseSequential(\n",
       "    (0): SparseConv3d(64, 64, kernel_size=[3, 3, 3], stride=[1, 1, 1], padding=[0, 0, 0], dilation=[1, 1, 1], output_padding=[0, 0, 0], algo=ConvAlgo.MaskImplicitGemm)\n",
       "    (1): BatchNorm1d(64, eps=1e-05, momentum=0.1, affine=True, track_running_stats=True)\n",
       "    (2): ReLU()\n",
       "  )\n",
       "  (b3): SparseSequential(\n",
       "    (0): SubMConv3d(64, 64, kernel_size=[3, 3, 3], stride=[1, 1, 1], padding=[0, 0, 0], dilation=[1, 1, 1], output_padding=[0, 0, 0], algo=ConvAlgo.MaskImplicitGemm)\n",
       "    (1): BatchNorm1d(64, eps=1e-05, momentum=0.1, affine=True, track_running_stats=True)\n",
       "    (2): ReLU()\n",
       "  )\n",
       "  (b4): SparseSequential(\n",
       "    (0): SparseConv3d(64, 64, kernel_size=[3, 3, 3], stride=[2, 2, 2], padding=[0, 0, 0], dilation=[1, 1, 1], output_padding=[0, 0, 0], algo=ConvAlgo.MaskImplicitGemm)\n",
       "    (1): BatchNorm1d(64, eps=1e-05, momentum=0.1, affine=True, track_running_stats=True)\n",
       "    (2): ReLU()\n",
       "  )\n",
       "  (b5): SparseSequential(\n",
       "    (0): SparseInverseConv3d(64, 64, kernel_size=[3, 3, 3], stride=[1, 1, 1], padding=[0, 0, 0], dilation=[1, 1, 1], output_padding=[0, 0, 0], algo=ConvAlgo.MaskImplicitGemm)\n",
       "    (1): BatchNorm1d(64, eps=1e-05, momentum=0.1, affine=True, track_running_stats=True)\n",
       "    (2): ReLU()\n",
       "    (3): SparseIdentity()\n",
       "  )\n",
       ")"
      ]
     },
     "execution_count": 77,
     "metadata": {},
     "output_type": "execute_result"
    }
   ],
   "source": [
    "model = ExampleNet()\n",
    "model.eval()\n",
    "model.cuda()"
   ]
  },
  {
   "cell_type": "code",
   "execution_count": 78,
   "metadata": {},
   "outputs": [
    {
     "name": "stdout",
     "output_type": "stream",
     "text": [
      "tensor([[ 0,  0,  0, 11],\n",
      "        [ 0,  0,  1, 54],\n",
      "        [ 0,  0,  2,  4],\n",
      "        [ 0,  0,  2, 77],\n",
      "        [ 0,  0,  4, 19],\n",
      "        [ 0,  0,  6, 24]], device='cuda:0', dtype=torch.int32)\n",
      "tensor([[ 0,  0,  0, 11],\n",
      "        [ 0,  0,  1, 54],\n",
      "        [ 0,  0,  2,  4],\n",
      "        [ 0,  0,  2, 77],\n",
      "        [ 0,  0,  4, 19],\n",
      "        [ 0,  0,  6, 24]], device='cuda:0', dtype=torch.int32)\n",
      "tensor([[11, 69, 49, 58],\n",
      "        [ 9, 71, 69, 72],\n",
      "        [ 8, 14, 22, 34],\n",
      "        [ 0, 23,  4, 16],\n",
      "        [ 4, 13, 48, 72],\n",
      "        [ 5, 79, 26, 38]], device='cuda:0', dtype=torch.int32)\n",
      "tensor([[11, 69, 49, 58],\n",
      "        [ 9, 71, 69, 72],\n",
      "        [ 8, 14, 22, 34],\n",
      "        [ 0, 23,  4, 16],\n",
      "        [ 4, 13, 48, 72],\n",
      "        [ 5, 79, 26, 38]], device='cuda:0', dtype=torch.int32)\n",
      "tensor([[ 0, 25, 25, 40],\n",
      "        [11, 11,  2, 15],\n",
      "        [ 2,  6, 27, 31],\n",
      "        [14,  6, 11, 22],\n",
      "        [12,  4,  5,  6],\n",
      "        [ 7, 26, 44, 27]], device='cuda:0', dtype=torch.int32)\n",
      "tensor([[11, 69, 49, 58],\n",
      "        [ 9, 71, 69, 72],\n",
      "        [ 8, 14, 22, 34],\n",
      "        [ 0, 23,  4, 16],\n",
      "        [ 4, 13, 48, 72],\n",
      "        [ 5, 79, 26, 38]], device='cuda:0', dtype=torch.int32)\n"
     ]
    }
   ],
   "source": [
    "with torch.no_grad():\n",
    "    out = model(x)"
   ]
  },
  {
   "cell_type": "code",
   "execution_count": 79,
   "metadata": {},
   "outputs": [
    {
     "data": {
      "text/plain": [
       "(torch.Size([154740, 64]),\n",
       " torch.Size([154740, 4]),\n",
       " {'0': <spconv.pytorch.core.ImplicitGemmIndiceData at 0x7f82e84649a0>,\n",
       "  '1': <spconv.pytorch.core.ImplicitGemmIndiceData at 0x7f82e8244790>,\n",
       "  '2': <spconv.pytorch.core.ImplicitGemmIndiceData at 0x7f82e8244eb0>,\n",
       "  '3': <spconv.pytorch.core.ImplicitGemmIndiceData at 0x7f82e8244880>})"
      ]
     },
     "execution_count": 79,
     "metadata": {},
     "output_type": "execute_result"
    }
   ],
   "source": [
    "out.features.shape, out.indices.shape, out.indice_dict"
   ]
  },
  {
   "cell_type": "code",
   "execution_count": 16,
   "metadata": {},
   "outputs": [
    {
     "data": {
      "text/plain": [
       "['__add__',\n",
       " '__class__',\n",
       " '__delattr__',\n",
       " '__dict__',\n",
       " '__dir__',\n",
       " '__doc__',\n",
       " '__eq__',\n",
       " '__format__',\n",
       " '__ge__',\n",
       " '__getattribute__',\n",
       " '__gt__',\n",
       " '__hash__',\n",
       " '__iadd__',\n",
       " '__init__',\n",
       " '__init_subclass__',\n",
       " '__le__',\n",
       " '__lt__',\n",
       " '__module__',\n",
       " '__ne__',\n",
       " '__new__',\n",
       " '__radd__',\n",
       " '__reduce__',\n",
       " '__reduce_ex__',\n",
       " '__repr__',\n",
       " '__setattr__',\n",
       " '__sizeof__',\n",
       " '__str__',\n",
       " '__subclasshook__',\n",
       " '__weakref__',\n",
       " '_features',\n",
       " '_timer',\n",
       " 'batch_size',\n",
       " 'benchmark',\n",
       " 'benchmark_record',\n",
       " 'dense',\n",
       " 'dequantize',\n",
       " 'features',\n",
       " 'find_indice_pair',\n",
       " 'force_algo',\n",
       " 'from_dense',\n",
       " 'grid',\n",
       " 'indice_dict',\n",
       " 'indices',\n",
       " 'int8_scale',\n",
       " 'is_quantized',\n",
       " 'minus',\n",
       " 'q_scale',\n",
       " 'replace_feature',\n",
       " 'select_by_index',\n",
       " 'shadow_copy',\n",
       " 'spatial_shape',\n",
       " 'spatial_size',\n",
       " 'thrust_allocator',\n",
       " 'voxel_num']"
      ]
     },
     "execution_count": 16,
     "metadata": {},
     "output_type": "execute_result"
    }
   ],
   "source": [
    "dir(out)"
   ]
  },
  {
   "cell_type": "code",
   "execution_count": 17,
   "metadata": {},
   "outputs": [
    {
     "data": {
      "text/plain": [
       "([189, 189, 189], 6751269)"
      ]
     },
     "execution_count": 17,
     "metadata": {},
     "output_type": "execute_result"
    }
   ],
   "source": [
    "out.spatial_shape, out.spatial_size"
   ]
  },
  {
   "cell_type": "code",
   "execution_count": null,
   "metadata": {},
   "outputs": [],
   "source": []
  }
 ],
 "metadata": {
  "kernelspec": {
   "display_name": "hieu2.0",
   "language": "python",
   "name": "python3"
  },
  "language_info": {
   "codemirror_mode": {
    "name": "ipython",
    "version": 3
   },
   "file_extension": ".py",
   "mimetype": "text/x-python",
   "name": "python",
   "nbconvert_exporter": "python",
   "pygments_lexer": "ipython3",
   "version": "3.10.11"
  },
  "orig_nbformat": 4
 },
 "nbformat": 4,
 "nbformat_minor": 2
}
