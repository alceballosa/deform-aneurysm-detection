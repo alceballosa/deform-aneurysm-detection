{
 "cells": [
  {
   "cell_type": "code",
   "execution_count": 2,
   "metadata": {},
   "outputs": [
    {
     "data": {
      "text/plain": [
       "tensor([[[ 0.0748, -0.2111,  0.0108, -0.2959, -0.3132,  0.4317, -0.1025,\n",
       "           0.2680],\n",
       "         [ 0.2194,  0.7728, -0.4848, -0.2770,  0.5635,  0.5530, -0.3188,\n",
       "           0.3752],\n",
       "         [ 0.2338,  0.7983, -0.4732, -0.2727,  0.5849,  0.5092, -0.3505,\n",
       "           0.3789]],\n",
       "\n",
       "        [[-0.2411, -0.0841, -0.1971, -0.4740, -0.4923,  1.2068,  0.2419,\n",
       "          -1.0348],\n",
       "         [-0.2571, -0.0342, -0.2399, -0.1845, -0.4531,  1.0531,  0.0447,\n",
       "          -0.9572],\n",
       "         [-0.3720,  0.2098, -0.5014,  0.8150, -0.4192,  0.5959, -0.6231,\n",
       "          -0.7724]]])"
      ]
     },
     "execution_count": 2,
     "metadata": {},
     "output_type": "execute_result"
    }
   ],
   "source": [
    "import torch\n",
    "import torch.nn as nn\n",
    "import torch.nn.functional as F\n",
    "\n",
    "device = \"cuda\" if torch.cuda.is_available() else \"cpu\"\n",
    "\n",
    "# Example Usage:\n",
    "query, key, value = (\n",
    "    torch.randn(2, 3, 8, device=device),\n",
    "    torch.randn(2, 3, 8, device=device),\n",
    "    torch.randn(2, 3, 8, device=device),\n",
    ")\n",
    "F.scaled_dot_product_attention(query, key, value)"
   ]
  },
  {
   "cell_type": "code",
   "execution_count": 3,
   "metadata": {},
   "outputs": [
    {
     "name": "stdout",
     "output_type": "stream",
     "text": [
      "The default implementation runs in 56866768.684 microseconds\n"
     ]
    }
   ],
   "source": [
    "# Lets define a helpful benchmarking function:\n",
    "import torch.utils.benchmark as benchmark\n",
    "\n",
    "\n",
    "def benchmark_torch_function_in_microseconds(f, *args, **kwargs):\n",
    "    t0 = benchmark.Timer(\n",
    "        stmt=\"f(*args, **kwargs)\", globals={\"args\": args, \"kwargs\": kwargs, \"f\": f}\n",
    "    )\n",
    "    return t0.blocked_autorange().mean * 1e6\n",
    "\n",
    "\n",
    "# Lets define the hyper-parameters of our input\n",
    "batch_size = 32\n",
    "max_sequence_len = 1024\n",
    "num_heads = 32\n",
    "embed_dimension = 32\n",
    "\n",
    "dtype = torch.float16\n",
    "\n",
    "query = torch.rand(\n",
    "    batch_size, num_heads, max_sequence_len, embed_dimension, device=device, dtype=dtype\n",
    ")\n",
    "key = torch.rand(\n",
    "    batch_size, num_heads, max_sequence_len, embed_dimension, device=device, dtype=dtype\n",
    ")\n",
    "value = torch.rand(\n",
    "    batch_size, num_heads, max_sequence_len, embed_dimension, device=device, dtype=dtype\n",
    ")\n",
    "\n",
    "print(\n",
    "    f\"The default implementation runs in {benchmark_torch_function_in_microseconds(F.scaled_dot_product_attention, query, key, value):.3f} microseconds\"\n",
    ")\n",
    "\n",
    "# Lets explore the speed of each of the 3 implementations\n",
    "from torch.backends.cuda import sdp_kernel, SDPBackend\n",
    "\n",
    "# Helpful arguments mapper\n",
    "backend_map = {\n",
    "    SDPBackend.MATH: {\n",
    "        \"enable_math\": True,\n",
    "        \"enable_flash\": False,\n",
    "        \"enable_mem_efficient\": False,\n",
    "    },\n",
    "    SDPBackend.FLASH_ATTENTION: {\n",
    "        \"enable_math\": False,\n",
    "        \"enable_flash\": True,\n",
    "        \"enable_mem_efficient\": False,\n",
    "    },\n",
    "    SDPBackend.EFFICIENT_ATTENTION: {\n",
    "        \"enable_math\": False,\n",
    "        \"enable_flash\": False,\n",
    "        \"enable_mem_efficient\": True,\n",
    "    },\n",
    "}\n",
    "\n",
    "with sdp_kernel(**backend_map[SDPBackend.MATH]):\n",
    "    print(\n",
    "        f\"The math implementation runs in {benchmark_torch_function_in_microseconds(F.scaled_dot_product_attention, query, key, value):.3f} microseconds\"\n",
    "    )\n",
    "\n",
    "\n",
    "with sdp_kernel(**backend_map[SDPBackend.FLASH_ATTENTION]):\n",
    "    try:\n",
    "        print(\n",
    "            f\"The flash attention implementation runs in {benchmark_torch_function_in_microseconds(F.scaled_dot_product_attention, query, key, value):.3f} microseconds\"\n",
    "        )\n",
    "    except RuntimeError:\n",
    "        print(\"FlashAttention is not supported. See warnings for reasons.\")\n",
    "\n",
    "with sdp_kernel(**backend_map[SDPBackend.EFFICIENT_ATTENTION]):\n",
    "    try:\n",
    "        print(\n",
    "            f\"The memory efficient implementation runs in {benchmark_torch_function_in_microseconds(F.scaled_dot_product_attention, query, key, value):.3f} microseconds\"\n",
    "        )\n",
    "    except RuntimeError:\n",
    "        print(\"EfficientAttention is not supported. See warnings for reasons.\")"
   ]
  },
  {
   "cell_type": "code",
   "execution_count": null,
   "metadata": {},
   "outputs": [],
   "source": []
  }
 ],
 "metadata": {
  "kernelspec": {
   "display_name": "cta2",
   "language": "python",
   "name": "python3"
  },
  "language_info": {
   "codemirror_mode": {
    "name": "ipython",
    "version": 3
   },
   "file_extension": ".py",
   "mimetype": "text/x-python",
   "name": "python",
   "nbconvert_exporter": "python",
   "pygments_lexer": "ipython3",
   "version": "3.11.7"
  }
 },
 "nbformat": 4,
 "nbformat_minor": 2
}
