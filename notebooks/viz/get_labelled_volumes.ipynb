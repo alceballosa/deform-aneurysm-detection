{
 "cells": [
  {
   "cell_type": "code",
   "execution_count": 1,
   "metadata": {},
   "outputs": [],
   "source": [
    "import os\n",
    "from glob import glob\n",
    "import json\n",
    "import SimpleITK as sitk\n",
    "from tqdm import tqdm\n",
    "import numpy as np\n",
    "import matplotlib.pyplot as plt\n",
    "import pandas as pd\n",
    "import torch\n",
    "from pathlib import Path\n",
    "import math\n",
    "\n",
    "\n",
    "np.set_printoptions(precision=4, suppress=True)"
   ]
  },
  {
   "cell_type": "code",
   "execution_count": 2,
   "metadata": {},
   "outputs": [],
   "source": [
    "path_outputs = \"/home/ceballosarroyo.a/workspace/medical/cta-det2/outputs/adeform_decoder_only_non_rec_crop_vessel_pe_gpe_v2_EXT/inference_66k/predict.csv\"\n",
    "path_outputs_int = \"/home/ceballosarroyo.a/workspace/medical/cta-det2/outputs/adeform_decoder_only_non_rec_crop_vessel_pe_gpe_v2/inference_56k/predict.csv\""
   ]
  },
  {
   "cell_type": "code",
   "execution_count": 17,
   "metadata": {},
   "outputs": [
    {
     "name": "stdout",
     "output_type": "stream",
     "text": [
      "407\n"
     ]
    }
   ],
   "source": [
    "scans_to_save = [\n",
    "    \"ExtA0015\",\n",
    "    \"ExtA0045\",\n",
    "    \"ExtA0022\",\n",
    "    \"ExtB0017\",\n",
    "    \"ExtB0043\",\n",
    "    \"ExtA0020\",\n",
    "    \"ExtB0047\",\n",
    "    \"ExtB0042\",\n",
    "]\n",
    "\n",
    "healthy_patients_external_fp = []\n",
    "\n",
    "\n",
    "healthy_patients_internal_fp = [  # healthy\n",
    "    \"Ts0019.nii.gz\",\n",
    "    \"Ts0021.nii.gz\",\n",
    "    \"Ts0050.nii.gz\",\n",
    "    \"Ts0060.nii.gz\",\n",
    "    \"Ts0100.nii.gz\",\n",
    "    \"Ts0110.nii.gz\",\n",
    "]\n",
    "\n",
    "sick_patients_internal_fp = [  # sick\n",
    "    \"Ts0011.nii.gz\",\n",
    "    \"Ts0052.nii.gz\",\n",
    "    \"Ts0075.nii.gz\",\n",
    "    \"Ts0084.nii.gz\",\n",
    "    \"Ts0098.nii.gz\",\n",
    "]\n",
    "\n",
    "patients_internal_fn = [\n",
    "    \"Ts0011.nii.gz\",\n",
    "    \"Ts0061.nii.gz\",\n",
    "    \"Ts0065.nii.gz\",\n",
    "    \"Ts0111.nii.gz\",\n",
    "    \"Ts0133.nii.gz\",\n",
    "    \"Ts0136.nii.gz\",\n",
    "    \"Ts0143.nii.gz\",\n",
    "]\n",
    "\n",
    "all_scans_internal = (\n",
    "    healthy_patients_internal_fp + sick_patients_internal_fp + patients_internal_fn\n",
    ")\n",
    "\n",
    "all_scans_external = healthy_patients_external_fp\n",
    "\n",
    "threshold = 0.8\n",
    "\n",
    "# combine\n",
    "df = pd.concat([pd.read_csv(path_outputs), pd.read_csv(path_outputs_int)])\n",
    "df = df[df[\"probability\"] > threshold]\n",
    "print(len(df))\n",
    "\n",
    "path_metadata = \"/home/ceballosarroyo.a/workspace/medical/cta-det2/labels/metadata/external_crop_meta.json\"\n",
    "path_metadata_internal = \"/home/ceballosarroyo.a/workspace/medical/cta-det2/labels/metadata/internal_test_meta_crop.json\"\n",
    "path_labels = Path(\"/work/vig/Datasets/aneurysm/external/crop_0.4_label\")\n",
    "path_labels_int = Path(\"/work/vig/Datasets/aneurysm/internal_test/crop_0.4_label\")\n",
    "path_vessel_int = Path(\"/work/vig/Datasets/aneurysm/internal_test/crop_0.4_vessel_v2\")\n",
    "path_vessel = Path(\"/work/vig/Datasets/aneurysm/external/crop_0.4_vessel_v2\")\n",
    "scans_to_save = [str(path_labels_int / scan) for scan in all_scans_internal]\n",
    "vessel_paths = [str(path_vessel_int / scan) for scan in all_scans_internal]\n",
    "healthy_patients = healthy_patients_external_fp + healthy_patients_internal_fp\n",
    "\n",
    "meta = json.load(open(path_metadata))\n",
    "meta_internal = json.load(open(path_metadata_internal))\n",
    "\n",
    "# merge meta and meta_internal\n",
    "meta.update(meta_internal)"
   ]
  },
  {
   "cell_type": "code",
   "execution_count": 18,
   "metadata": {},
   "outputs": [
    {
     "data": {
      "text/plain": [
       "['/work/vig/Datasets/aneurysm/internal_test_0.4_crop_vessel_v2/Ts0019.nii.gz',\n",
       " '/work/vig/Datasets/aneurysm/internal_test_0.4_crop_vessel_v2/Ts0021.nii.gz',\n",
       " '/work/vig/Datasets/aneurysm/internal_test_0.4_crop_vessel_v2/Ts0050.nii.gz',\n",
       " '/work/vig/Datasets/aneurysm/internal_test_0.4_crop_vessel_v2/Ts0060.nii.gz',\n",
       " '/work/vig/Datasets/aneurysm/internal_test_0.4_crop_vessel_v2/Ts0100.nii.gz',\n",
       " '/work/vig/Datasets/aneurysm/internal_test_0.4_crop_vessel_v2/Ts0110.nii.gz',\n",
       " '/work/vig/Datasets/aneurysm/internal_test_0.4_crop_vessel_v2/Ts0011.nii.gz',\n",
       " '/work/vig/Datasets/aneurysm/internal_test_0.4_crop_vessel_v2/Ts0052.nii.gz',\n",
       " '/work/vig/Datasets/aneurysm/internal_test_0.4_crop_vessel_v2/Ts0075.nii.gz',\n",
       " '/work/vig/Datasets/aneurysm/internal_test_0.4_crop_vessel_v2/Ts0084.nii.gz',\n",
       " '/work/vig/Datasets/aneurysm/internal_test_0.4_crop_vessel_v2/Ts0098.nii.gz',\n",
       " '/work/vig/Datasets/aneurysm/internal_test_0.4_crop_vessel_v2/Ts0011.nii.gz',\n",
       " '/work/vig/Datasets/aneurysm/internal_test_0.4_crop_vessel_v2/Ts0061.nii.gz',\n",
       " '/work/vig/Datasets/aneurysm/internal_test_0.4_crop_vessel_v2/Ts0065.nii.gz',\n",
       " '/work/vig/Datasets/aneurysm/internal_test_0.4_crop_vessel_v2/Ts0111.nii.gz',\n",
       " '/work/vig/Datasets/aneurysm/internal_test_0.4_crop_vessel_v2/Ts0133.nii.gz',\n",
       " '/work/vig/Datasets/aneurysm/internal_test_0.4_crop_vessel_v2/Ts0136.nii.gz',\n",
       " '/work/vig/Datasets/aneurysm/internal_test_0.4_crop_vessel_v2/Ts0143.nii.gz']"
      ]
     },
     "execution_count": 18,
     "metadata": {},
     "output_type": "execute_result"
    }
   ],
   "source": [
    "vessel_paths"
   ]
  },
  {
   "cell_type": "code",
   "execution_count": 19,
   "metadata": {},
   "outputs": [
    {
     "name": "stdout",
     "output_type": "stream",
     "text": [
      "Ts0011.nii.gz not healthy\n",
      "Ts0011.nii.gz not healthy\n",
      "Ts0011.nii.gz not healthy\n",
      "Ts0011.nii.gz not healthy\n",
      "Ts0011.nii.gz not healthy\n",
      "Ts0052.nii.gz not healthy\n",
      "Ts0052.nii.gz not healthy\n",
      "Ts0052.nii.gz not healthy\n",
      "Ts0052.nii.gz not healthy\n",
      "Ts0052.nii.gz not healthy\n",
      "Ts0075.nii.gz not healthy\n",
      "Ts0075.nii.gz not healthy\n",
      "Ts0075.nii.gz not healthy\n",
      "Ts0075.nii.gz not healthy\n",
      "Ts0084.nii.gz not healthy\n",
      "Ts0084.nii.gz not healthy\n",
      "Ts0084.nii.gz not healthy\n",
      "Ts0084.nii.gz not healthy\n",
      "Ts0084.nii.gz not healthy\n",
      "Ts0098.nii.gz not healthy\n",
      "Ts0098.nii.gz not healthy\n",
      "Ts0098.nii.gz not healthy\n",
      "Ts0098.nii.gz not healthy\n",
      "Ts0011.nii.gz not healthy\n",
      "Ts0011.nii.gz not healthy\n",
      "Ts0011.nii.gz not healthy\n",
      "Ts0011.nii.gz not healthy\n",
      "Ts0011.nii.gz not healthy\n",
      "Ts0065.nii.gz not healthy\n",
      "Ts0065.nii.gz not healthy\n",
      "Ts0111.nii.gz not healthy\n",
      "Ts0111.nii.gz not healthy\n",
      "Ts0133.nii.gz not healthy\n",
      "Ts0133.nii.gz not healthy\n",
      "Ts0133.nii.gz not healthy\n",
      "Ts0133.nii.gz not healthy\n",
      "Ts0136.nii.gz not healthy\n",
      "Ts0136.nii.gz not healthy\n"
     ]
    }
   ],
   "source": [
    "folder_name = \"outputs_review_v2\"\n",
    "# create folder name if it doesn't exist\n",
    "\n",
    "if not os.path.exists(folder_name):\n",
    "    os.makedirs(folder_name)\n",
    "    os.makedirs(f\"{folder_name}/healthy_for_fp_review\")\n",
    "    os.makedirs(f\"{folder_name}/sick_for_both_fp_and_tp_review\")\n",
    "\n",
    "for j, scan in enumerate(scans_to_save):\n",
    "\n",
    "    scan_name = Path(scan).name\n",
    "\n",
    "    img_header = sitk.ReadImage(str(scan))\n",
    "    vessel_header = sitk.ReadImage(vessel_paths[j])\n",
    "    # vessel_header\n",
    "    img = sitk.GetArrayFromImage(img_header)\n",
    "    model_predictions = df[df[\"seriesuid\"] == scan_name]\n",
    "    pred_mask = np.zeros_like(img, dtype=np.uint8)\n",
    "    for i, row in model_predictions.iterrows():\n",
    "        metadata = meta[scan_name]\n",
    "        seriesuid, prob, z, y, x, d, h, w = (\n",
    "            row[\"seriesuid\"],\n",
    "            row[\"probability\"],\n",
    "            row[\"coordZ\"],\n",
    "            row[\"coordY\"],\n",
    "            row[\"coordX\"],\n",
    "            row[\"d\"],\n",
    "            row[\"h\"],\n",
    "            row[\"w\"],\n",
    "        )\n",
    "        w = w * metadata[\"spacing\"][0]\n",
    "        h = h * metadata[\"spacing\"][1]\n",
    "        d = d * metadata[\"spacing\"][2]\n",
    "        sz, ez = int(z - d / 2), int(z + d / 2)\n",
    "        sy, ey = int(y - h / 2), int(y + h / 2)\n",
    "        sx, ex = int(x - w / 2), int(x + w / 2)\n",
    "        if scan_name not in healthy_patients:\n",
    "            print(scan_name, \"not healthy\")\n",
    "            pred_mask[sz:ez, sy:ey, sx:ex] = int(np.floor(100 * prob))\n",
    "        elif prob >= 0.8:\n",
    "            pred_mask[sz:ez, sy:ey, sx:ex] = int(np.floor(100 * prob))\n",
    "\n",
    "    new_header = sitk.GetImageFromArray(pred_mask)\n",
    "    new_header.CopyInformation(img_header)\n",
    "\n",
    "    if scan_name not in healthy_patients:\n",
    "        sitk.WriteImage(\n",
    "            new_header,\n",
    "            f\"{folder_name}/sick_for_both_fp_and_tp_review/{scan_name.replace('.nii.gz', '_pred.nii.gz')}\",\n",
    "        )\n",
    "        sitk.WriteImage(\n",
    "            img_header,\n",
    "            f\"{folder_name}/sick_for_both_fp_and_tp_review/{scan_name.replace('.nii.gz', '_label.nii.gz')}\",\n",
    "        )\n",
    "        sitk.WriteImage(\n",
    "            vessel_header,\n",
    "            f\"{folder_name}/sick_for_both_fp_and_tp_review/{scan_name.replace('.nii.gz', '_vessel.nii.gz')}\",\n",
    "        )\n",
    "\n",
    "    else:\n",
    "        sitk.WriteImage(\n",
    "            new_header,\n",
    "            f\"{folder_name}/healthy_for_fp_review/{scan_name.replace('.nii.gz', '_pred.nii.gz')}\",\n",
    "        )\n",
    "        sitk.WriteImage(\n",
    "            vessel_header,\n",
    "            f\"{folder_name}/healthy_for_fp_review/{scan_name.replace('.nii.gz', '_vessel.nii.gz')}\",\n",
    "        )"
   ]
  },
  {
   "cell_type": "code",
   "execution_count": 12,
   "metadata": {},
   "outputs": [
    {
     "data": {
      "text/plain": [
       "{'origin': [-122.759765625, -255.759765625, -397.0],\n",
       " 'spacing': [0.4000000059604645, 0.4000000059604645, 0.4000000059604645]}"
      ]
     },
     "execution_count": 12,
     "metadata": {},
     "output_type": "execute_result"
    }
   ],
   "source": [
    "metadata"
   ]
  },
  {
   "cell_type": "code",
   "execution_count": null,
   "metadata": {},
   "outputs": [],
   "source": []
  }
 ],
 "metadata": {
  "kernelspec": {
   "display_name": "cta",
   "language": "python",
   "name": "python3"
  },
  "language_info": {
   "codemirror_mode": {
    "name": "ipython",
    "version": 3
   },
   "file_extension": ".py",
   "mimetype": "text/x-python",
   "name": "python",
   "nbconvert_exporter": "python",
   "pygments_lexer": "ipython3",
   "version": "3.9.18"
  }
 },
 "nbformat": 4,
 "nbformat_minor": 2
}
